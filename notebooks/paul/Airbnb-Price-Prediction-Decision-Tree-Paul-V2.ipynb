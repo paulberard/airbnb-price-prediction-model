{
 "cells": [
  {
   "cell_type": "markdown",
   "metadata": {},
   "source": [
    "# Airbnb Price Prediction"
   ]
  },
  {
   "cell_type": "markdown",
   "metadata": {},
   "source": [
    "## Installing requirements"
   ]
  },
  {
   "cell_type": "code",
   "execution_count": 2,
   "metadata": {},
   "outputs": [],
   "source": [
    "import pandas as pd\n",
    "import numpy as np\n",
    "\n",
    "from tensorflow.keras.models import load_model\n",
    "import re \n",
    "\n",
    "import matplotlib.pyplot as plt\n",
    "from sklearn.model_selection import train_test_split\n",
    "\n",
    "\n",
    "from sklearn.impute import SimpleImputer\n",
    "from sklearn.preprocessing import StandardScaler\n",
    "from sklearn.preprocessing import MinMaxScaler\n",
    "from sklearn.compose import ColumnTransformer\n",
    "from sklearn.pipeline import Pipeline\n",
    "\n",
    "# from sklearn.neighbors import KNeighborsRegressor\n",
    "from sklearn.metrics import mean_squared_error\n",
    "\n",
    "from sklearn.experimental import enable_iterative_imputer\n",
    "from sklearn.impute import IterativeImputer\n",
    "\n",
    "import itertools\n",
    "import time\n",
    "from tqdm import tqdm\n",
    "# import csv\n",
    "\n",
    "from sklearn.decomposition import PCA\n",
    "from sklearn import model_selection\n",
    "\n",
    "from sklearn.model_selection import GridSearchCV"
   ]
  },
  {
   "cell_type": "markdown",
   "metadata": {},
   "source": [
    "## Data preprocessing"
   ]
  },
  {
   "cell_type": "markdown",
   "metadata": {},
   "source": [
    "### Exploring the data"
   ]
  },
  {
   "cell_type": "code",
   "execution_count": 3,
   "metadata": {
    "scrolled": true
   },
   "outputs": [
    {
     "data": {
      "text/html": [
       "<div>\n",
       "<style scoped>\n",
       "    .dataframe tbody tr th:only-of-type {\n",
       "        vertical-align: middle;\n",
       "    }\n",
       "\n",
       "    .dataframe tbody tr th {\n",
       "        vertical-align: top;\n",
       "    }\n",
       "\n",
       "    .dataframe thead th {\n",
       "        text-align: right;\n",
       "    }\n",
       "</style>\n",
       "<table border=\"1\" class=\"dataframe\">\n",
       "  <thead>\n",
       "    <tr style=\"text-align: right;\">\n",
       "      <th></th>\n",
       "      <th>Listing ID</th>\n",
       "      <th>Listing Name</th>\n",
       "      <th>Host ID</th>\n",
       "      <th>Host Name</th>\n",
       "      <th>Host Since</th>\n",
       "      <th>Host Response Time</th>\n",
       "      <th>Host Response Rate</th>\n",
       "      <th>Is Superhost</th>\n",
       "      <th>neighbourhood</th>\n",
       "      <th>Neighborhood Group</th>\n",
       "      <th>...</th>\n",
       "      <th>Overall Rating</th>\n",
       "      <th>Accuracy Rating</th>\n",
       "      <th>Cleanliness Rating</th>\n",
       "      <th>Checkin Rating</th>\n",
       "      <th>Communication Rating</th>\n",
       "      <th>Location Rating</th>\n",
       "      <th>Value Rating</th>\n",
       "      <th>Instant Bookable</th>\n",
       "      <th>Business Travel Ready</th>\n",
       "      <th>Price</th>\n",
       "    </tr>\n",
       "  </thead>\n",
       "  <tbody>\n",
       "    <tr>\n",
       "      <th>0</th>\n",
       "      <td>19665213.0</td>\n",
       "      <td>*</td>\n",
       "      <td>156079597.0</td>\n",
       "      <td>Maximilian</td>\n",
       "      <td>2016-01-20</td>\n",
       "      <td>NaN</td>\n",
       "      <td>NaN</td>\n",
       "      <td>f</td>\n",
       "      <td>Prenzlauer Berg</td>\n",
       "      <td>Pankow</td>\n",
       "      <td>...</td>\n",
       "      <td>100.0</td>\n",
       "      <td>10.0</td>\n",
       "      <td>10.0</td>\n",
       "      <td>10.0</td>\n",
       "      <td>10.0</td>\n",
       "      <td>9.0</td>\n",
       "      <td>10.0</td>\n",
       "      <td>t</td>\n",
       "      <td>f</td>\n",
       "      <td>26.0</td>\n",
       "    </tr>\n",
       "    <tr>\n",
       "      <th>1</th>\n",
       "      <td>6436842.0</td>\n",
       "      <td>*</td>\n",
       "      <td>5302290.0</td>\n",
       "      <td>Dulie</td>\n",
       "      <td>2013-04-07</td>\n",
       "      <td>NaN</td>\n",
       "      <td>NaN</td>\n",
       "      <td>f</td>\n",
       "      <td>Pankow</td>\n",
       "      <td>Pankow</td>\n",
       "      <td>...</td>\n",
       "      <td>90.0</td>\n",
       "      <td>9.0</td>\n",
       "      <td>9.0</td>\n",
       "      <td>10.0</td>\n",
       "      <td>10.0</td>\n",
       "      <td>9.0</td>\n",
       "      <td>10.0</td>\n",
       "      <td>f</td>\n",
       "      <td>f</td>\n",
       "      <td>41.0</td>\n",
       "    </tr>\n",
       "    <tr>\n",
       "      <th>2</th>\n",
       "      <td>10559468.0</td>\n",
       "      <td>*</td>\n",
       "      <td>59151456.0</td>\n",
       "      <td>Geank</td>\n",
       "      <td>2016-02-07</td>\n",
       "      <td>NaN</td>\n",
       "      <td>NaN</td>\n",
       "      <td>f</td>\n",
       "      <td>Prenzlauer Berg</td>\n",
       "      <td>Pankow</td>\n",
       "      <td>...</td>\n",
       "      <td>100.0</td>\n",
       "      <td>10.0</td>\n",
       "      <td>10.0</td>\n",
       "      <td>10.0</td>\n",
       "      <td>10.0</td>\n",
       "      <td>10.0</td>\n",
       "      <td>10.0</td>\n",
       "      <td>f</td>\n",
       "      <td>f</td>\n",
       "      <td>50.0</td>\n",
       "    </tr>\n",
       "    <tr>\n",
       "      <th>3</th>\n",
       "      <td>27215482.0</td>\n",
       "      <td>*</td>\n",
       "      <td>193452785.0</td>\n",
       "      <td>Alix</td>\n",
       "      <td>2018-06-26</td>\n",
       "      <td>NaN</td>\n",
       "      <td>NaN</td>\n",
       "      <td>f</td>\n",
       "      <td>Friedrichshain</td>\n",
       "      <td>Friedrichshain-Kreuzberg</td>\n",
       "      <td>...</td>\n",
       "      <td>100.0</td>\n",
       "      <td>10.0</td>\n",
       "      <td>10.0</td>\n",
       "      <td>10.0</td>\n",
       "      <td>10.0</td>\n",
       "      <td>10.0</td>\n",
       "      <td>9.0</td>\n",
       "      <td>f</td>\n",
       "      <td>f</td>\n",
       "      <td>50.0</td>\n",
       "    </tr>\n",
       "    <tr>\n",
       "      <th>4</th>\n",
       "      <td>27287546.0</td>\n",
       "      <td>*</td>\n",
       "      <td>205870244.0</td>\n",
       "      <td>Lurina</td>\n",
       "      <td>2013-05-16</td>\n",
       "      <td>within a few hours</td>\n",
       "      <td>92%</td>\n",
       "      <td>t</td>\n",
       "      <td>Prenzlauer Berg</td>\n",
       "      <td>Pankow</td>\n",
       "      <td>...</td>\n",
       "      <td>NaN</td>\n",
       "      <td>NaN</td>\n",
       "      <td>NaN</td>\n",
       "      <td>NaN</td>\n",
       "      <td>NaN</td>\n",
       "      <td>NaN</td>\n",
       "      <td>NaN</td>\n",
       "      <td>t</td>\n",
       "      <td>f</td>\n",
       "      <td>55.0</td>\n",
       "    </tr>\n",
       "  </tbody>\n",
       "</table>\n",
       "<p>5 rows × 39 columns</p>\n",
       "</div>"
      ],
      "text/plain": [
       "   Listing ID Listing Name      Host ID   Host Name  Host Since  \\\n",
       "0  19665213.0            *  156079597.0  Maximilian  2016-01-20   \n",
       "1   6436842.0            *    5302290.0       Dulie  2013-04-07   \n",
       "2  10559468.0            *   59151456.0       Geank  2016-02-07   \n",
       "3  27215482.0            *  193452785.0        Alix  2018-06-26   \n",
       "4  27287546.0            *  205870244.0      Lurina  2013-05-16   \n",
       "\n",
       "   Host Response Time Host Response Rate Is Superhost    neighbourhood  \\\n",
       "0                 NaN                NaN            f  Prenzlauer Berg   \n",
       "1                 NaN                NaN            f           Pankow   \n",
       "2                 NaN                NaN            f  Prenzlauer Berg   \n",
       "3                 NaN                NaN            f   Friedrichshain   \n",
       "4  within a few hours                92%            t  Prenzlauer Berg   \n",
       "\n",
       "         Neighborhood Group  ... Overall Rating Accuracy Rating  \\\n",
       "0                    Pankow  ...          100.0            10.0   \n",
       "1                    Pankow  ...           90.0             9.0   \n",
       "2                    Pankow  ...          100.0            10.0   \n",
       "3  Friedrichshain-Kreuzberg  ...          100.0            10.0   \n",
       "4                    Pankow  ...            NaN             NaN   \n",
       "\n",
       "  Cleanliness Rating Checkin Rating  Communication Rating  Location Rating  \\\n",
       "0               10.0           10.0                  10.0              9.0   \n",
       "1                9.0           10.0                  10.0              9.0   \n",
       "2               10.0           10.0                  10.0             10.0   \n",
       "3               10.0           10.0                  10.0             10.0   \n",
       "4                NaN            NaN                   NaN              NaN   \n",
       "\n",
       "  Value Rating Instant Bookable Business Travel Ready Price  \n",
       "0         10.0                t                     f  26.0  \n",
       "1         10.0                f                     f  41.0  \n",
       "2         10.0                f                     f  50.0  \n",
       "3          9.0                f                     f  50.0  \n",
       "4          NaN                t                     f  55.0  \n",
       "\n",
       "[5 rows x 39 columns]"
      ]
     },
     "execution_count": 3,
     "metadata": {},
     "output_type": "execute_result"
    }
   ],
   "source": [
    "# Importing the training data\n",
    "\n",
    "data = pd.read_csv('../../data/train_airbnb_berlin.csv', delimiter = ',')\n",
    "data.head()"
   ]
  },
  {
   "cell_type": "code",
   "execution_count": 5,
   "metadata": {},
   "outputs": [],
   "source": [
    "# Important preprocessing: replacing all '*' strings by NaNs\n",
    "\n",
    "data[data == '*'] = np.nan"
   ]
  },
  {
   "cell_type": "code",
   "execution_count": 6,
   "metadata": {},
   "outputs": [
    {
     "name": "stdout",
     "output_type": "stream",
     "text": [
      "(15692, 39)\n"
     ]
    },
    {
     "data": {
      "text/html": [
       "<div>\n",
       "<style scoped>\n",
       "    .dataframe tbody tr th:only-of-type {\n",
       "        vertical-align: middle;\n",
       "    }\n",
       "\n",
       "    .dataframe tbody tr th {\n",
       "        vertical-align: top;\n",
       "    }\n",
       "\n",
       "    .dataframe thead th {\n",
       "        text-align: right;\n",
       "    }\n",
       "</style>\n",
       "<table border=\"1\" class=\"dataframe\">\n",
       "  <thead>\n",
       "    <tr style=\"text-align: right;\">\n",
       "      <th></th>\n",
       "      <th>Listing ID</th>\n",
       "      <th>Host ID</th>\n",
       "      <th>Latitude</th>\n",
       "      <th>Longitude</th>\n",
       "      <th>Square Feet</th>\n",
       "      <th>Reviews</th>\n",
       "      <th>Overall Rating</th>\n",
       "      <th>Accuracy Rating</th>\n",
       "      <th>Cleanliness Rating</th>\n",
       "      <th>Checkin Rating</th>\n",
       "      <th>Communication Rating</th>\n",
       "      <th>Location Rating</th>\n",
       "      <th>Value Rating</th>\n",
       "      <th>Price</th>\n",
       "    </tr>\n",
       "  </thead>\n",
       "  <tbody>\n",
       "    <tr>\n",
       "      <th>count</th>\n",
       "      <td>1.569100e+04</td>\n",
       "      <td>1.569200e+04</td>\n",
       "      <td>15692.000000</td>\n",
       "      <td>15692.000000</td>\n",
       "      <td>303.000000</td>\n",
       "      <td>15692.000000</td>\n",
       "      <td>12730.000000</td>\n",
       "      <td>12721.000000</td>\n",
       "      <td>12722.000000</td>\n",
       "      <td>12719.000000</td>\n",
       "      <td>12722.000000</td>\n",
       "      <td>12721.000000</td>\n",
       "      <td>12720.000000</td>\n",
       "      <td>15683.000000</td>\n",
       "    </tr>\n",
       "    <tr>\n",
       "      <th>mean</th>\n",
       "      <td>1.780062e+07</td>\n",
       "      <td>6.119042e+07</td>\n",
       "      <td>52.509893</td>\n",
       "      <td>13.407334</td>\n",
       "      <td>445.900990</td>\n",
       "      <td>19.452014</td>\n",
       "      <td>94.717282</td>\n",
       "      <td>9.717475</td>\n",
       "      <td>9.328407</td>\n",
       "      <td>9.769164</td>\n",
       "      <td>9.779201</td>\n",
       "      <td>9.556874</td>\n",
       "      <td>9.458097</td>\n",
       "      <td>60.342983</td>\n",
       "    </tr>\n",
       "    <tr>\n",
       "      <th>std</th>\n",
       "      <td>9.952544e+06</td>\n",
       "      <td>6.739421e+07</td>\n",
       "      <td>0.031286</td>\n",
       "      <td>0.058646</td>\n",
       "      <td>414.817342</td>\n",
       "      <td>39.483853</td>\n",
       "      <td>7.069787</td>\n",
       "      <td>0.671793</td>\n",
       "      <td>1.023807</td>\n",
       "      <td>0.620347</td>\n",
       "      <td>0.619545</td>\n",
       "      <td>0.731109</td>\n",
       "      <td>0.788891</td>\n",
       "      <td>48.829687</td>\n",
       "    </tr>\n",
       "    <tr>\n",
       "      <th>min</th>\n",
       "      <td>2.241500e+04</td>\n",
       "      <td>1.101500e+04</td>\n",
       "      <td>52.369270</td>\n",
       "      <td>13.121400</td>\n",
       "      <td>0.000000</td>\n",
       "      <td>0.000000</td>\n",
       "      <td>20.000000</td>\n",
       "      <td>2.000000</td>\n",
       "      <td>2.000000</td>\n",
       "      <td>2.000000</td>\n",
       "      <td>2.000000</td>\n",
       "      <td>2.000000</td>\n",
       "      <td>2.000000</td>\n",
       "      <td>8.000000</td>\n",
       "    </tr>\n",
       "    <tr>\n",
       "      <th>25%</th>\n",
       "      <td>9.052831e+06</td>\n",
       "      <td>9.274528e+06</td>\n",
       "      <td>52.488920</td>\n",
       "      <td>13.376025</td>\n",
       "      <td>0.000000</td>\n",
       "      <td>1.000000</td>\n",
       "      <td>93.000000</td>\n",
       "      <td>10.000000</td>\n",
       "      <td>9.000000</td>\n",
       "      <td>10.000000</td>\n",
       "      <td>10.000000</td>\n",
       "      <td>9.000000</td>\n",
       "      <td>9.000000</td>\n",
       "      <td>32.000000</td>\n",
       "    </tr>\n",
       "    <tr>\n",
       "      <th>50%</th>\n",
       "      <td>1.865037e+07</td>\n",
       "      <td>3.358182e+07</td>\n",
       "      <td>52.509100</td>\n",
       "      <td>13.417250</td>\n",
       "      <td>440.000000</td>\n",
       "      <td>5.000000</td>\n",
       "      <td>97.000000</td>\n",
       "      <td>10.000000</td>\n",
       "      <td>10.000000</td>\n",
       "      <td>10.000000</td>\n",
       "      <td>10.000000</td>\n",
       "      <td>10.000000</td>\n",
       "      <td>10.000000</td>\n",
       "      <td>49.000000</td>\n",
       "    </tr>\n",
       "    <tr>\n",
       "      <th>75%</th>\n",
       "      <td>2.611308e+07</td>\n",
       "      <td>9.325677e+07</td>\n",
       "      <td>52.532713</td>\n",
       "      <td>13.439750</td>\n",
       "      <td>700.000000</td>\n",
       "      <td>17.000000</td>\n",
       "      <td>100.000000</td>\n",
       "      <td>10.000000</td>\n",
       "      <td>10.000000</td>\n",
       "      <td>10.000000</td>\n",
       "      <td>10.000000</td>\n",
       "      <td>10.000000</td>\n",
       "      <td>10.000000</td>\n",
       "      <td>70.000000</td>\n",
       "    </tr>\n",
       "    <tr>\n",
       "      <th>max</th>\n",
       "      <td>3.467450e+07</td>\n",
       "      <td>2.609698e+08</td>\n",
       "      <td>52.639670</td>\n",
       "      <td>13.709020</td>\n",
       "      <td>1912.000000</td>\n",
       "      <td>424.000000</td>\n",
       "      <td>100.000000</td>\n",
       "      <td>10.000000</td>\n",
       "      <td>10.000000</td>\n",
       "      <td>10.000000</td>\n",
       "      <td>10.000000</td>\n",
       "      <td>10.000000</td>\n",
       "      <td>10.000000</td>\n",
       "      <td>900.000000</td>\n",
       "    </tr>\n",
       "  </tbody>\n",
       "</table>\n",
       "</div>"
      ],
      "text/plain": [
       "         Listing ID       Host ID      Latitude     Longitude  Square Feet  \\\n",
       "count  1.569100e+04  1.569200e+04  15692.000000  15692.000000   303.000000   \n",
       "mean   1.780062e+07  6.119042e+07     52.509893     13.407334   445.900990   \n",
       "std    9.952544e+06  6.739421e+07      0.031286      0.058646   414.817342   \n",
       "min    2.241500e+04  1.101500e+04     52.369270     13.121400     0.000000   \n",
       "25%    9.052831e+06  9.274528e+06     52.488920     13.376025     0.000000   \n",
       "50%    1.865037e+07  3.358182e+07     52.509100     13.417250   440.000000   \n",
       "75%    2.611308e+07  9.325677e+07     52.532713     13.439750   700.000000   \n",
       "max    3.467450e+07  2.609698e+08     52.639670     13.709020  1912.000000   \n",
       "\n",
       "            Reviews  Overall Rating  Accuracy Rating  Cleanliness Rating  \\\n",
       "count  15692.000000    12730.000000     12721.000000        12722.000000   \n",
       "mean      19.452014       94.717282         9.717475            9.328407   \n",
       "std       39.483853        7.069787         0.671793            1.023807   \n",
       "min        0.000000       20.000000         2.000000            2.000000   \n",
       "25%        1.000000       93.000000        10.000000            9.000000   \n",
       "50%        5.000000       97.000000        10.000000           10.000000   \n",
       "75%       17.000000      100.000000        10.000000           10.000000   \n",
       "max      424.000000      100.000000        10.000000           10.000000   \n",
       "\n",
       "       Checkin Rating  Communication Rating  Location Rating  Value Rating  \\\n",
       "count    12719.000000          12722.000000     12721.000000  12720.000000   \n",
       "mean         9.769164              9.779201         9.556874      9.458097   \n",
       "std          0.620347              0.619545         0.731109      0.788891   \n",
       "min          2.000000              2.000000         2.000000      2.000000   \n",
       "25%         10.000000             10.000000         9.000000      9.000000   \n",
       "50%         10.000000             10.000000        10.000000     10.000000   \n",
       "75%         10.000000             10.000000        10.000000     10.000000   \n",
       "max         10.000000             10.000000        10.000000     10.000000   \n",
       "\n",
       "              Price  \n",
       "count  15683.000000  \n",
       "mean      60.342983  \n",
       "std       48.829687  \n",
       "min        8.000000  \n",
       "25%       32.000000  \n",
       "50%       49.000000  \n",
       "75%       70.000000  \n",
       "max      900.000000  "
      ]
     },
     "execution_count": 6,
     "metadata": {},
     "output_type": "execute_result"
    }
   ],
   "source": [
    "# Global overview of the data\n",
    "\n",
    "print(data.shape)\n",
    "data.describe()"
   ]
  },
  {
   "cell_type": "code",
   "execution_count": 7,
   "metadata": {},
   "outputs": [
    {
     "name": "stdout",
     "output_type": "stream",
     "text": [
      "Listing Name (n = 1): \n",
      "[nan]\n",
      "\n",
      "Host Response Time (n = 5): \n",
      "[nan, 'within a few hours', 'within an hour', 'within a day', 'a few days or more']\n",
      "\n",
      "Host Response Rate (n = 34): \n",
      "[nan, '92%', '100%', '80%', '71%', '83%', '98%', '78%', '89%', '50%', '90%', '70%', '20%', '97%', '91%', '88%', '75%', '93%', '0%', '67%', '33%', '40%', '58%', '86%', '60%', '95%', '94%', '96%', '82%', '63%', '99%', '87%', '25%', '30%']\n",
      "\n",
      "Is Superhost (n = 3): \n",
      "['f', 't', nan]\n",
      "\n",
      "neighbourhood (n = 63): \n",
      "['Prenzlauer Berg', 'Pankow', 'Friedrichshain', 'Mariendorf', 'Wilmersdorf', 'Kreuzberg', 'Moabit', 'NeukÃ¶lln', 'Alt-Treptow', 'SchÃ¶neberg', 'Reinickendorf', 'Mitte', 'Karlshorst', 'WeiÃ\\x9fensee', 'Friedenau', 'Hansaviertel', 'Wedding', 'Charlottenburg', 'Steglitz', 'Baumschulenweg', 'Alt-HohenschÃ¶nhausen', 'Rummelsburg', 'Lichterfelde', 'OberschÃ¶neweide', 'Britz', 'Lichtenberg', 'Grunewald', 'Altglienicke', 'Westend', 'Tempelhof', 'Marzahn', 'Mahlsdorf', 'Adlershof', 'NiederschÃ¶nhausen', 'Tegel', 'Rahnsdorf', 'SchmÃ¶ckwitz', 'Potsdamer Platz', 'Tiergarten', 'Fennpfuhl', nan, 'Dahlem', 'Halensee', 'Zehlendorf', 'Nikolassee', 'Friedrichsfelde', 'Wittenau', 'Lichtenrade', 'Wilhelmstadt', 'PlÃ¤nterwald', 'Biesdorf', 'Johannisthal', 'Spandau', 'Schmargendorf', 'Buckow', 'Lankwitz', 'KÃ¶penick', 'NiederschÃ¶neweide', 'Rudow', 'Wannsee', 'Karow', 'Friedrichshagen', 'FranzÃ¶sisch Buchholz']\n",
      "\n",
      "Neighborhood Group (n = 12): \n",
      "['Pankow', 'Friedrichshain-Kreuzberg', 'Tempelhof - SchÃ¶neberg', 'Charlottenburg-Wilm.', 'Mitte', 'NeukÃ¶lln', 'Treptow - KÃ¶penick', 'Reinickendorf', 'Lichtenberg', 'Steglitz - Zehlendorf', 'Marzahn - Hellersdorf', 'Spandau']\n",
      "\n",
      "City (n = 2): \n",
      "['Berlin', nan]\n",
      "\n",
      "Postal Code (n = 185): \n",
      "['10437.0', '13187.0', '10439.0', '10245', '10405.0', nan, '10997', '10961.0', '10553.0', '14197.0', '12047.0', '12435.0', '10781.0', '13407', '13086.0', '12055.0', '10245.0', '12161.0', '10249.0', '10555.0', '13353.0', '10999.0', '12053.0', '10969.0', '10629.0', '10709.0', '13357', '10967.0', '12167.0', '13347.0', '10407', '12049', '12437.0', '10247', '10249', '10407.0', '12049.0', '13055.0', '10317.0', '10178.0', '10787.0', '12055', '10997.0', '10965', '12059.0', '10829.0', '12157.0', '13359.0', '10115.0', '10119.0', '13357.0', '10409.0', '10179.0', '12051', '10365', '12159.0', '10711', '10405', '10435.0', '10963.0', '12043', '12045.0', '10551', '10961', '10247.0', '10823.0', '10627.0', '10369.0', '12043.0', '10585.0', '10967', '10439', '10999', '10587.0', '12203.0', '10437', '12099.0', '10965.0', '10243.0', '10783.0', '12623.0', '10589.0', '12045', '10777', '10777.0', '10969', '13407.0', '13189.0', '13347', '10555', '12051.0', '10117.0', '10717', '10179', '10117', '13507.0', '12589.0', '10559', '10115', '12587.0', '14059', '12057.0', '10713.0', '10785.0', '10629', '12347.0', '10318.0', '10719.0', '13088.0', '10367.0', '10785', '14129.0', '10435', '13355.0', '13353', '12101.0', '13359', '10178', '12489.0', '14055.0', '10365.0', '13187', '10779.0', '12059', '14050.0', '10585', '13086', '10243', '10317', '10553', '10557.0', '12527.0', '13403.0', '10827', '10409', '10823', '10551.0', '14059.0', '10315', '12163.0', '13156.0', '10319.0', '12683.0', '10627', '12047', '10559.0', '10781', '12103.0', '10707.0', '13349.0', '12099', '10717.0', '10623.0', '12435', '10715.0', '10625.0', '10557', '12105.0', '12053', '10315.0', '10827.0', '12555.0', '10963', '10119', '14195.0', '14057.0', '13355', '10825.0', '10789.0', '12459.0', '13189', '14193.0', '13351.0', '10711.0', '13409.0', '14057', '14169.0', '14163.0', '13088', '13351', '10829', '13125.0', '13581.0', '14052.0', '12103']\n",
      "\n",
      "Country Code (n = 1): \n",
      "['DE']\n",
      "\n",
      "Country (n = 1): \n",
      "['Germany']\n",
      "\n",
      "Is Exact Location (n = 2): \n",
      "['t', 'f']\n",
      "\n",
      "Property Type (n = 16): \n",
      "['Apartment', 'Condominium', 'Bed and breakfast', 'Loft', 'House', nan, 'Townhouse', 'Serviced apartment', 'Guesthouse', 'Hostel', 'Guest suite', 'Bungalow', 'Other', 'Boutique hotel', 'Hotel', 'Boat']\n",
      "\n",
      "Room Type (n = 3): \n",
      "['Private room', 'Entire home/apt', 'Shared room']\n",
      "\n",
      "Accomodates (n = 13): \n",
      "['2', '3', '4', '1', '6', '10', '9', '5', '8', '7', '12', nan, '16']\n",
      "\n",
      "Bathrooms (n = 8): \n",
      "['1.0', '2.0', '1.5', '2.5', nan, '0.5', '3.0', '0.0']\n",
      "\n",
      "Bedrooms (n = 7): \n",
      "['1.0', '2.0', '0.0', '3.0', '4.0', '5.0', nan]\n",
      "\n",
      "Beds (n = 12): \n",
      "['1.0', '2.0', '4.0', '8.0', '6.0', '5.0', '3.0', '7.0', nan, '9.0', '10.0', '0.0']\n",
      "\n",
      "Square Feet (n = 147): \n",
      "[nan, 831.0, 53.0, 235.0, 7.0, 646.0, 331.0, 753.0, 0.0, 609.0, 515.0, 1912.0, 700.0, 470.0, 639.0, 21.0, 702.0, 409.0, 775.0, 979.0, 415.0, 761.0, 431.0, 131.0, 632.0, 805.0, 455.0, 690.0, 440.0, 489.0, 1076.0, 1493.0, 1330.0, 252.0, 129.0, 453.0, 477.0, 355.0, 730.0, 598.0, 652.0, 380.0, 152.0, 485.0, 777.0, 402.0, 215.0, 807.0, 484.0, 542.0, 517.0, 615.0, 333.0, 985.0, 685.0, 450.0, 590.0, 10.0, 348.0, 121.0, 221.0, 861.0, 674.0, 1892.0, 588.0, 407.0, 507.0, 414.0, 463.0, 650.0, 594.0, 353.0, 1398.0, 46.0, 346.0, 285.0, 888.0, 261.0, 461.0, 479.0, 405.0, 451.0, 653.0, 198.0, 887.0, 161.0, 846.0, 480.0, 423.0, 361.0, 676.0, 1872.0, 404.0, 780.0, 763.0, 863.0, 752.0, 512.0, 1722.0, 637.0, 1052.0, 444.0, 192.0, 535.0, 802.0, 494.0, 492.0, 388.0, 245.0, 803.0, 891.0, 569.0, 649.0, 770.0, 592.0, 1235.0, 672.0, 952.0, 668.0, 872.0, 452.0, 1606.0, 678.0, 853.0, 372.0, 606.0, 386.0, 1023.0, 821.0, 352.0, 1343.0, 231.0, 63.0, 212.0, 417.0, 1392.0, 750.0, 475.0, 1299.0, 1002.0, 961.0, 1893.0, 855.0, 70.0, 931.0, 1896.0, 374.0]\n",
      "\n",
      "Guests Included (n = 8): \n",
      "['1', '2', '4', '5', '3', '6', '8', nan]\n",
      "\n",
      "Min Nights (n = 25): \n",
      "['2', '7', '1', '6', '5', '4', nan, '3', '20', '14', '21', '9', '25', '10', '8', '60', '12', '30', '28', '90', '180', '13', '61', '15', '62']\n",
      "\n",
      "Overall Rating (n = 42): \n",
      "[100.0, 90.0, nan, 99.0, 97.0, 94.0, 93.0, 80.0, 92.0, 98.0, 79.0, 75.0, 95.0, 88.0, 87.0, 96.0, 83.0, 86.0, 89.0, 91.0, 84.0, 60.0, 67.0, 73.0, 78.0, 70.0, 85.0, 77.0, 20.0, 76.0, 82.0, 50.0, 74.0, 40.0, 64.0, 81.0, 71.0, 68.0, 63.0, 72.0, 69.0, 65.0]\n",
      "\n",
      "Accuracy Rating (n = 8): \n",
      "[10.0, 9.0, nan, 6.0, 8.0, 7.0, 4.0, 2.0]\n",
      "\n",
      "Cleanliness Rating (n = 9): \n",
      "[10.0, 9.0, nan, 8.0, 7.0, 6.0, 5.0, 2.0, 4.0]\n",
      "\n",
      "Checkin Rating (n = 9): \n",
      "[10.0, nan, 9.0, 8.0, 6.0, 7.0, 2.0, 4.0, 5.0]\n",
      "\n",
      "Communication Rating (n = 9): \n",
      "[10.0, nan, 9.0, 8.0, 7.0, 2.0, 4.0, 6.0, 5.0]\n",
      "\n",
      "Location Rating (n = 8): \n",
      "[9.0, 10.0, nan, 8.0, 7.0, 6.0, 4.0, 2.0]\n",
      "\n",
      "Value Rating (n = 10): \n",
      "[10.0, 9.0, nan, 7.0, 8.0, 6.0, 2.0, 4.0, 5.0, 3.0]\n",
      "\n",
      "Instant Bookable (n = 2): \n",
      "['t', 'f']\n",
      "\n",
      "Business Travel Ready (n = 1): \n",
      "['f']\n",
      "\n"
     ]
    }
   ],
   "source": [
    "# Exploring the features with less than 200 DISTINCT values\n",
    "\n",
    "for feature in data.columns.tolist():\n",
    "    unique_list = data[feature].unique().tolist()\n",
    "    if len(unique_list) < 200:\n",
    "        print(f'{feature} (n = {len(unique_list)}): \\n{unique_list}\\n')"
   ]
  },
  {
   "cell_type": "code",
   "execution_count": 8,
   "metadata": {},
   "outputs": [
    {
     "data": {
      "text/plain": [
       "Listing ID               0.000064\n",
       "Listing Name             1.000000\n",
       "Host ID                  0.000000\n",
       "Host Name                0.001402\n",
       "Host Since               0.001338\n",
       "Host Response Time       0.450867\n",
       "Host Response Rate       0.461955\n",
       "Is Superhost             0.001466\n",
       "neighbourhood            0.012937\n",
       "Neighborhood Group       0.000000\n",
       "City                     0.003059\n",
       "Postal Code              0.070036\n",
       "Country Code             0.000000\n",
       "Country                  0.000000\n",
       "Latitude                 0.000000\n",
       "Longitude                0.000000\n",
       "Is Exact Location        0.000000\n",
       "Property Type            0.004780\n",
       "Room Type                0.000000\n",
       "Accomodates              0.001211\n",
       "Bathrooms                0.001593\n",
       "Bedrooms                 0.001020\n",
       "Beds                     0.001275\n",
       "Square Feet              0.980691\n",
       "Guests Included          0.000637\n",
       "Min Nights               0.015868\n",
       "Reviews                  0.000000\n",
       "First Review             0.172381\n",
       "Last Review              0.172445\n",
       "Overall Rating           0.188759\n",
       "Accuracy Rating          0.189332\n",
       "Cleanliness Rating       0.189268\n",
       "Checkin Rating           0.189460\n",
       "Communication Rating     0.189268\n",
       "Location Rating          0.189332\n",
       "Value Rating             0.189396\n",
       "Instant Bookable         0.000000\n",
       "Business Travel Ready    0.000000\n",
       "Price                    0.000574\n",
       "dtype: float64"
      ]
     },
     "execution_count": 8,
     "metadata": {},
     "output_type": "execute_result"
    }
   ],
   "source": [
    "# Checking the proportion of missing values for each feature\n",
    "\n",
    "data.isnull().sum()/data.shape[0]"
   ]
  },
  {
   "cell_type": "markdown",
   "metadata": {},
   "source": [
    "The preprocessing of the data will be done in two phases: the first one, the preliminary data preprocessing, will be common to all Machine Learning approaches that will be used in this project. Since different approaches require different preprocessings, the second phase will be specific to each one."
   ]
  },
  {
   "cell_type": "markdown",
   "metadata": {},
   "source": [
    "### Preliminary data preprocessing"
   ]
  },
  {
   "cell_type": "code",
   "execution_count": 9,
   "metadata": {},
   "outputs": [
    {
     "name": "stdout",
     "output_type": "stream",
     "text": [
      "Missing values per feature:\n",
      "\n",
      "Host Since          21\n",
      "Is Superhost        23\n",
      "Property Type       75\n",
      "Accomodates         19\n",
      "Bathrooms           25\n",
      "Bedrooms            16\n",
      "Beds                20\n",
      "Guests Included     10\n",
      "Min Nights         249\n",
      "Price                9\n",
      "dtype: int64\n",
      "\n",
      "Proportion of instances with missing values in the aforementioned features:\n",
      "\n",
      "0.02976038745857762\n"
     ]
    }
   ],
   "source": [
    "few_missing = data[[\"Host Since\",\n",
    "                    \"Is Superhost\",\n",
    "                    \"Property Type\",\n",
    "                    \"Accomodates\",\n",
    "                    \"Bathrooms\",\n",
    "                    \"Bedrooms\",\n",
    "                    \"Beds\",\n",
    "                    \"Guests Included\",\n",
    "                    \"Min Nights\",\n",
    "                    \"Price\"]].isnull().sum()\n",
    "\n",
    "print(f\"Missing values per feature:\\n\\n{few_missing}\\n\")\n",
    "\n",
    "# Proportion of instances with missing values in the aforementioned features\n",
    "\n",
    "few_missing_prop = few_missing.sum()/data.shape[0]\n",
    "\n",
    "print(f\"Proportion of instances with missing values in the aforementioned features:\\n\\n{few_missing_prop}\")"
   ]
  },
  {
   "cell_type": "markdown",
   "metadata": {},
   "source": [
    "The instances with missing values in the aforementioned attributes represent merely 3% of the entire dataset (as given above by *few_missing_prop*). We can therefore reasonably assume they are Missing Completely At Random (MCAR), which allows us to perform listwise deletion."
   ]
  },
  {
   "cell_type": "code",
   "execution_count": 10,
   "metadata": {},
   "outputs": [],
   "source": [
    "def preliminary_preprocessing(data):\n",
    "\n",
    "    # We remove all features that are deemed irrelevant for the price prediction\n",
    "\n",
    "    data_clean = data.drop([\"Host ID\",\n",
    "                            \"Listing ID\",\n",
    "                            \"Listing Name\",\n",
    "                            \"neighbourhood\",\n",
    "                            \"City\",\n",
    "                            \"Country Code\",\n",
    "                            \"Country\",\n",
    "                            \"Postal Code\",\n",
    "                            \"Square Feet\", \n",
    "                            \"First Review\",\n",
    "                            \"Last Review\",\n",
    "                            \"Business Travel Ready\"], axis=1)\n",
    "\n",
    "    # Removing instances with NaNs in the aforementioned features \n",
    "\n",
    "    data_clean = data_clean.dropna(subset=[\"Host Since\",\n",
    "                                           \"Is Superhost\",\n",
    "                                           \"Property Type\",\n",
    "                                           \"Accomodates\",\n",
    "                                           \"Bathrooms\",\n",
    "                                           \"Bedrooms\",\n",
    "                                           \"Beds\",\n",
    "                                           \"Guests Included\",\n",
    "                                           \"Min Nights\",\n",
    "                                           \"Price\"])\n",
    "\n",
    "    # Let's fill NaN values by \"unknown\" where we can\n",
    "\n",
    "    data_clean = data_clean.replace({\"Host Response Time\": np.nan}, \"unknown\")\n",
    "\n",
    "    # Replacing binary values by 0 and 1\n",
    "\n",
    "    data_clean = data_clean.replace({\"Is Superhost\": \"t\"}, 1)\n",
    "    data_clean = data_clean.replace({\"Is Superhost\": \"f\"}, 0)\n",
    "    data_clean[\"Is Superhost\"] = data_clean[\"Is Superhost\"].astype(float)    \n",
    "\n",
    "    data_clean = data_clean.replace({\"Is Exact Location\": \"t\"}, 1)\n",
    "    data_clean = data_clean.replace({\"Is Exact Location\": \"f\"}, 0)\n",
    "    data_clean[\"Is Exact Location\"] = data_clean[\"Is Exact Location\"].astype(float)\n",
    "\n",
    "    data_clean = data_clean.replace({\"Instant Bookable\": \"t\"}, 1)\n",
    "    data_clean = data_clean.replace({\"Instant Bookable\": \"f\"}, 0)\n",
    "    data_clean[\"Instant Bookable\"] = data_clean[\"Instant Bookable\"].astype(float)\n",
    "\n",
    "    # Converting certain numeric features into floats (they were strings)\n",
    "\n",
    "    data_clean[\"Accomodates\"] = data_clean[\"Accomodates\"].astype(float)\n",
    "    data_clean[\"Bathrooms\"] = data_clean[\"Bathrooms\"].astype(float)\n",
    "    data_clean[\"Bedrooms\"] = data_clean[\"Bedrooms\"].astype(float)      \n",
    "    data_clean[\"Beds\"] = data_clean[\"Beds\"].astype(float)          \n",
    "    data_clean[\"Guests Included\"] = data_clean[\"Guests Included\"].astype(float)\n",
    "    data_clean[\"Min Nights\"] = data_clean[\"Min Nights\"].astype(float)\n",
    "\n",
    "    # String to float for 'Host Response Rate' (removing the '%')\n",
    "\n",
    "    data_clean[\"Host Response Rate\"] = data_clean[\"Host Response Rate\"].str.rstrip(\"%\").astype(float)\n",
    "\n",
    "    # Changing host since into continous form\n",
    "\n",
    "    data_clean[\"Host Since\"] = pd.to_datetime(data_clean[\"Host Since\"])\n",
    "    most_recent =  max(data_clean[\"Host Since\"])\n",
    "    seniority = [(most_recent-x).days for x in data_clean[\"Host Since\"]]\n",
    "    data_clean[\"Host Since\"] = seniority\n",
    "\n",
    "    # One-hot encoding for categorical values\n",
    "\n",
    "    dummies_response_time  = pd.get_dummies(data_clean[[\"Host Response Time\"]])\n",
    "    dummies_property_type = pd.get_dummies(data_clean[[\"Property Type\"]])\n",
    "    dummies_room_type = pd.get_dummies(data_clean[[\"Room Type\"]])\n",
    "\n",
    "    X_ = data_clean.drop([\"Host Response Time\", \"Property Type\", \"Room Type\"], axis=1)\n",
    "    data_clean_final = pd.concat([X_, dummies_response_time, dummies_property_type, dummies_room_type], axis=1)\n",
    "    \n",
    "    return data_clean_final"
   ]
  },
  {
   "cell_type": "markdown",
   "metadata": {},
   "source": [
    "**Nota Bene:** Since \"Host Response Time\" is an **ordinal** categorical feature, we would have liked to encode it with numeric values (e.g., \"within an hour\" = 1, \"within a few hours\" = 2, so that \"within an hour\" < \"within a few hours\", and so on), but because of the missing values, we had to one-hot encode it."
   ]
  },
  {
   "cell_type": "code",
   "execution_count": 11,
   "metadata": {},
   "outputs": [],
   "source": [
    "data_clean = preliminary_preprocessing(data)"
   ]
  },
  {
   "cell_type": "code",
   "execution_count": 12,
   "metadata": {},
   "outputs": [
    {
     "data": {
      "text/plain": [
       "array([[<matplotlib.axes._subplots.AxesSubplot object at 0x7fe5339eb128>,\n",
       "        <matplotlib.axes._subplots.AxesSubplot object at 0x7fe533b62a20>,\n",
       "        <matplotlib.axes._subplots.AxesSubplot object at 0x7fe53395bf28>,\n",
       "        <matplotlib.axes._subplots.AxesSubplot object at 0x7fe53376f518>,\n",
       "        <matplotlib.axes._subplots.AxesSubplot object at 0x7fe53381cac8>,\n",
       "        <matplotlib.axes._subplots.AxesSubplot object at 0x7fe5338540b8>,\n",
       "        <matplotlib.axes._subplots.AxesSubplot object at 0x7fe5338c8668>],\n",
       "       [<matplotlib.axes._subplots.AxesSubplot object at 0x7fe533cdfc50>,\n",
       "        <matplotlib.axes._subplots.AxesSubplot object at 0x7fe533cdfc88>,\n",
       "        <matplotlib.axes._subplots.AxesSubplot object at 0x7fe533d4c7b8>,\n",
       "        <matplotlib.axes._subplots.AxesSubplot object at 0x7fe533d7fd68>,\n",
       "        <matplotlib.axes._subplots.AxesSubplot object at 0x7fe533f30358>,\n",
       "        <matplotlib.axes._subplots.AxesSubplot object at 0x7fe534114908>,\n",
       "        <matplotlib.axes._subplots.AxesSubplot object at 0x7fe534148eb8>],\n",
       "       [<matplotlib.axes._subplots.AxesSubplot object at 0x7fe5341854a8>,\n",
       "        <matplotlib.axes._subplots.AxesSubplot object at 0x7fe5341b4a58>,\n",
       "        <matplotlib.axes._subplots.AxesSubplot object at 0x7fe5341f2048>,\n",
       "        <matplotlib.axes._subplots.AxesSubplot object at 0x7fe5342235f8>,\n",
       "        <matplotlib.axes._subplots.AxesSubplot object at 0x7fe534252ba8>,\n",
       "        <matplotlib.axes._subplots.AxesSubplot object at 0x7fe534290198>,\n",
       "        <matplotlib.axes._subplots.AxesSubplot object at 0x7fe5342c1748>],\n",
       "       [<matplotlib.axes._subplots.AxesSubplot object at 0x7fe5342f4cf8>,\n",
       "        <matplotlib.axes._subplots.AxesSubplot object at 0x7fe5343302e8>,\n",
       "        <matplotlib.axes._subplots.AxesSubplot object at 0x7fe534361898>,\n",
       "        <matplotlib.axes._subplots.AxesSubplot object at 0x7fe534393e48>,\n",
       "        <matplotlib.axes._subplots.AxesSubplot object at 0x7fe5343d0438>,\n",
       "        <matplotlib.axes._subplots.AxesSubplot object at 0x7fe5343ff9e8>,\n",
       "        <matplotlib.axes._subplots.AxesSubplot object at 0x7fe534434f98>],\n",
       "       [<matplotlib.axes._subplots.AxesSubplot object at 0x7fe53446e588>,\n",
       "        <matplotlib.axes._subplots.AxesSubplot object at 0x7fe53449eb38>,\n",
       "        <matplotlib.axes._subplots.AxesSubplot object at 0x7fe5344de128>,\n",
       "        <matplotlib.axes._subplots.AxesSubplot object at 0x7fe5345106d8>,\n",
       "        <matplotlib.axes._subplots.AxesSubplot object at 0x7fe53453fc88>,\n",
       "        <matplotlib.axes._subplots.AxesSubplot object at 0x7fe53457c278>,\n",
       "        <matplotlib.axes._subplots.AxesSubplot object at 0x7fe5345ad828>],\n",
       "       [<matplotlib.axes._subplots.AxesSubplot object at 0x7fe5345dddd8>,\n",
       "        <matplotlib.axes._subplots.AxesSubplot object at 0x7fe53461c3c8>,\n",
       "        <matplotlib.axes._subplots.AxesSubplot object at 0x7fe53464c978>,\n",
       "        <matplotlib.axes._subplots.AxesSubplot object at 0x7fe53467df28>,\n",
       "        <matplotlib.axes._subplots.AxesSubplot object at 0x7fe5346bb518>,\n",
       "        <matplotlib.axes._subplots.AxesSubplot object at 0x7fe5346ebac8>,\n",
       "        <matplotlib.axes._subplots.AxesSubplot object at 0x7fe53472b0b8>],\n",
       "       [<matplotlib.axes._subplots.AxesSubplot object at 0x7fe53475a668>,\n",
       "        <matplotlib.axes._subplots.AxesSubplot object at 0x7fe53478dc18>,\n",
       "        <matplotlib.axes._subplots.AxesSubplot object at 0x7fe5347cb208>,\n",
       "        <matplotlib.axes._subplots.AxesSubplot object at 0x7fe534db37b8>,\n",
       "        <matplotlib.axes._subplots.AxesSubplot object at 0x7fe534de5d68>,\n",
       "        <matplotlib.axes._subplots.AxesSubplot object at 0x7fe534e20358>,\n",
       "        <matplotlib.axes._subplots.AxesSubplot object at 0x7fe534e52908>]],\n",
       "      dtype=object)"
      ]
     },
     "execution_count": 12,
     "metadata": {},
     "output_type": "execute_result"
    },
    {
     "data": {
      "image/png": "[encoded data removed]",
      "text/plain": [
       "<Figure size 2160x1440 with 49 Axes>"
      ]
     },
     "metadata": {
      "needs_background": "light"
     },
     "output_type": "display_data"
    }
   ],
   "source": [
    "# Visualizing the distributions of the features in data_clean\n",
    "\n",
    "data_clean.hist(figsize=(30,20),bins=18)"
   ]
  },
  {
   "cell_type": "code",
   "execution_count": 13,
   "metadata": {},
   "outputs": [
    {
     "name": "stdout",
     "output_type": "stream",
     "text": [
      "['Host Name', 'Host Response Rate', 'Overall Rating', 'Accuracy Rating', 'Cleanliness Rating', 'Checkin Rating', 'Communication Rating', 'Location Rating', 'Value Rating']\n"
     ]
    },
    {
     "data": {
      "text/plain": [
       "Host Name               0.000131\n",
       "Host Response Rate      0.462737\n",
       "Overall Rating          0.184479\n",
       "Accuracy Rating         0.185069\n",
       "Cleanliness Rating      0.185003\n",
       "Checkin Rating          0.185200\n",
       "Communication Rating    0.185003\n",
       "Location Rating         0.185069\n",
       "Value Rating            0.185134\n",
       "dtype: float64"
      ]
     },
     "execution_count": 13,
     "metadata": {},
     "output_type": "execute_result"
    }
   ],
   "source": [
    "# Checking the proportion of missing values for the attributes where there are some left\n",
    "\n",
    "features_missing = [feature for feature in data_clean.columns.tolist() if data_clean[feature].isna().sum()>0]\n",
    "print(features_missing)\n",
    "\n",
    "data_clean[features_missing].isna().sum()/data_clean.shape[0]"
   ]
  },
  {
   "cell_type": "markdown",
   "metadata": {},
   "source": [
    "We see that the proportion of missing values for these features is way too high to perform listwise selection. In order to preserve our data set, we have to impute them (different strategy depending on the model)."
   ]
  },
  {
   "cell_type": "code",
   "execution_count": 14,
   "metadata": {},
   "outputs": [],
   "source": [
    "data_wmissing = data_clean"
   ]
  },
  {
   "cell_type": "code",
   "execution_count": 16,
   "metadata": {},
   "outputs": [
    {
     "data": {
      "text/plain": [
       "2817"
      ]
     },
     "execution_count": 16,
     "metadata": {},
     "output_type": "execute_result"
    }
   ],
   "source": [
    "data_wmissing[\"Overall Rating\"].isnull().sum()"
   ]
  },
  {
   "cell_type": "markdown",
   "metadata": {},
   "source": [
    "### Adding features"
   ]
  },
  {
   "cell_type": "markdown",
   "metadata": {},
   "source": [
    "#### Distance From Barycenter"
   ]
  },
  {
   "cell_type": "code",
   "execution_count": 17,
   "metadata": {},
   "outputs": [],
   "source": [
    "barycenter_lat = data_clean[\"Latitude\"].sum()/len(data_clean)\n",
    "barycenter_long = data_clean[\"Longitude\"].sum()/len(data_clean)\n",
    "\n",
    "data_clean[\"Distance From Barycenter\"] = np.sqrt((data_clean[\"Latitude\"] - barycenter_lat)**2\n",
    "                                                 + (data_clean[\"Longitude\"] - barycenter_long)**2)"
   ]
  },
  {
   "cell_type": "markdown",
   "metadata": {},
   "source": [
    "####  Host Gender"
   ]
  },
  {
   "cell_type": "markdown",
   "metadata": {},
   "source": [
    "Let's add a feature: we process the \"Host Name\" feature through an NLP model to determine whether the host is male or female."
   ]
  },
  {
   "cell_type": "code",
   "execution_count": 18,
   "metadata": {},
   "outputs": [],
   "source": [
    "# Loading model \n",
    "pred_model = load_model('../../rename/boyorgirl.h5')\n",
    "\n",
    "# Preprocessing \"Host Name\" feature\n",
    "def preprocess(names_df):\n",
    "\n",
    "    names_df['Host Name'] = names_df['Host Name'].apply(lambda x: 'nan' if type(x)!=type('hello') else x)\n",
    "    # print(names_df['Host Name'] )\n",
    "\n",
    "    names_df['Host Name'] = names_df['Host Name'].apply(lambda x: 'nan' if bool(re.match(\"^[A-Za-z0-9_-]*$\",x))==False else x)\n",
    "    # print(names_df['Host Name'])\n",
    "\n",
    "    names_df['name']= names_df['Host Name']\n",
    "    names_df['name'] = names_df['name'].str.lower()\n",
    "\n",
    "    names_df['name'] = [list(name) for name in names_df['name']]\n",
    "\n",
    "    name_length = 50\n",
    "    names_df['name'] = [\n",
    "        (name + [' ']*name_length)[:name_length] \n",
    "        for name in names_df['name']\n",
    "    ]\n",
    "\n",
    "    names_df['name'] = [\n",
    "        [\n",
    "            max(0.0, ord(char)-96.0) \n",
    "            for char in name\n",
    "        ]\n",
    "        for name in names_df['name']\n",
    "    ]\n",
    "\n",
    "    return names_df\n",
    "\n",
    "\n",
    "# Computing prediction \n",
    "data_clean = preprocess(data_clean)\n",
    "\n",
    "result = pred_model.predict(np.array(data_clean['name'].tolist()))\n",
    "\n",
    "data_clean['Gender'] = ['Boy' if logit > 0.5 else 'Girl' for logit in result]\n",
    "\n",
    "data_clean.drop('name', axis=1, inplace=True)\n",
    "data_clean.drop('Host Name', axis=1, inplace=True)\n",
    "\n",
    "dummies_gender = pd.get_dummies(data_clean[[\"Gender\"]])\n",
    "\n",
    "X_ = data_clean.drop(\"Gender\", axis=1)\n",
    "data_clean = pd.concat([X_, dummies_gender], axis=1)"
   ]
  },
  {
   "cell_type": "markdown",
   "metadata": {},
   "source": [
    "## Train-Test Split"
   ]
  },
  {
   "cell_type": "code",
   "execution_count": 19,
   "metadata": {},
   "outputs": [],
   "source": [
    "# We encode 'Neighborhood Group' classes into a one hot encoder\n",
    "encoder = pd.get_dummies(data_clean['Neighborhood Group'], dtype='int64')\n",
    "for feature in encoder.columns:\n",
    "    data_clean[feature] = encoder[feature]\n",
    "\n",
    "data_clean = data_clean.drop('Neighborhood Group', axis=1)"
   ]
  },
  {
   "cell_type": "code",
   "execution_count": 20,
   "metadata": {},
   "outputs": [],
   "source": [
    "from scipy.stats.stats import pearsonr  # déplacer l'import au début\n",
    "\n",
    "X, y = data_clean.drop(\"Price\", axis=1), data_clean[\"Price\"]\n",
    "\n",
    "# pearsonr_matrix = pearsonr(X, y)\n",
    "\n",
    "# pearsonr_matrix #\n",
    "# Faire que ça marche pour justifier la variable \"Accomodates\" dans stratify pour le\n",
    "# train_test_split !!!!!!!!!!!!!!!!!"
   ]
  },
  {
   "cell_type": "code",
   "execution_count": 21,
   "metadata": {},
   "outputs": [],
   "source": [
    "train_set, test_set = train_test_split(data_clean, \n",
    "                                       test_size=0.2, \n",
    "                                       random_state=42) \n",
    "                                       # stratify=data_clean[\"Accomodates\"])"
   ]
  },
  {
   "cell_type": "code",
   "execution_count": 22,
   "metadata": {},
   "outputs": [],
   "source": [
    "X_train, y_train = train_set.drop(\"Price\", axis=1), train_set['Price']\n",
    "X_test, y_test = test_set.drop(\"Price\", axis=1), test_set['Price']"
   ]
  },
  {
   "cell_type": "markdown",
   "metadata": {},
   "source": [
    "## Decision Tree"
   ]
  },
  {
   "cell_type": "markdown",
   "metadata": {},
   "source": [
    "### Imputation and scaling"
   ]
  },
  {
   "cell_type": "markdown",
   "metadata": {},
   "source": [
    "We will begin by taking care of the remaining missing values. We will perform both univariate and multivariate feature imputation, making sure that the requirements for such methods are met.\n",
    "\n",
    "For univariate imputation, we will use the following strategies:\n",
    "\n",
    "- mean\n",
    "- median\n",
    "- most frequent value\n",
    "\n",
    "Additionally, to avoid any bias towards dominant classes, we will perform feature scaling on numeric features using two approaches: \n",
    "\n",
    "- min-max scaling\n",
    "- standardization\n",
    "\n",
    "For multivariate imputation, reserved for features that are (at least) Missing At Random (MAR), we will estimate the missing values of a feature by using the observed values of all the features.\n",
    "\n",
    "All decision trees use np.float32 arrays internally, so we need to make sure all features can be represented by floats: all the remaining nominal categorical features will be encoded into one-hot encoders."
   ]
  },
  {
   "cell_type": "markdown",
   "metadata": {},
   "source": [
    "#### Univariate imputation and scaling: choosing the best strategy"
   ]
  },
  {
   "cell_type": "markdown",
   "metadata": {},
   "source": [
    "Hereafter, we define 6 pipelines for all combinations of aforementioned imputation and scaling strategies, and then choose the best one."
   ]
  },
  {
   "cell_type": "code",
   "execution_count": 23,
   "metadata": {},
   "outputs": [],
   "source": [
    "num_pipeline_mn_minmax = Pipeline([\n",
    "    ('missing_mean', SimpleImputer(strategy=\"mean\")),\n",
    "    ('minmax_scaler', MinMaxScaler())\n",
    "])\n",
    "\n",
    "num_pipeline_mdn_minmax = Pipeline([\n",
    "    ('missing_median', SimpleImputer(strategy=\"median\")),\n",
    "    ('minmax_scaler', MinMaxScaler())\n",
    "])\n",
    "\n",
    "num_pipeline_mf_minmax = Pipeline([\n",
    "    ('missing_mf', SimpleImputer(strategy=\"most_frequent\")),\n",
    "    ('minmax_scaler', MinMaxScaler())\n",
    "])\n",
    "\n",
    "num_pipeline_mn_std = Pipeline([\n",
    "    ('missing_mean', SimpleImputer(strategy=\"mean\")),\n",
    "    ('std_scaler', StandardScaler())\n",
    "])\n",
    "\n",
    "num_pipeline_mdn_std = Pipeline([\n",
    "    ('missing_median', SimpleImputer(strategy=\"median\")),\n",
    "    ('std_scaler', StandardScaler())\n",
    "])\n",
    "\n",
    "num_pipeline_mf_std = Pipeline([\n",
    "    ('missing_mf', SimpleImputer(strategy=\"most_frequent\")),\n",
    "    ('std_scaler', StandardScaler())\n",
    "])"
   ]
  },
  {
   "cell_type": "code",
   "execution_count": 24,
   "metadata": {},
   "outputs": [],
   "source": [
    "# Let's get the list of numerical features (some of them need imputation, all of them need to be scaled)\n",
    "\n",
    "numeric_features = ['Host Since',\n",
    "                    'Host Response Rate',\n",
    "                    'Latitude',\n",
    "                    'Longitude',\n",
    "                    'Accomodates',\n",
    "                    'Bathrooms',\n",
    "                    'Bedrooms',\n",
    "                    'Beds',\n",
    "                    'Guests Included',\n",
    "                    'Min Nights',\n",
    "                    'Reviews',\n",
    "                    'Overall Rating',\n",
    "                    'Accuracy Rating',\n",
    "                    'Cleanliness Rating',\n",
    "                    'Checkin Rating',\n",
    "                    'Communication Rating',\n",
    "                    'Location Rating',\n",
    "                    'Value Rating']\n",
    "\n",
    "airbnb_data_transformer_1 = ColumnTransformer([(\"num_mn_minmax\", num_pipeline_mn_minmax, numeric_features)],\n",
    "                                              remainder=\"passthrough\")\n",
    "airbnb_data_transformer_2 = ColumnTransformer([(\"num_mdn_minmax\", num_pipeline_mdn_minmax, numeric_features)],\n",
    "                                              remainder=\"passthrough\")\n",
    "airbnb_data_transformer_3 = ColumnTransformer([(\"num_mf_minmax\", num_pipeline_mf_minmax, numeric_features)],\n",
    "                                              remainder=\"passthrough\")\n",
    "airbnb_data_transformer_4 = ColumnTransformer([(\"num_mn_std\", num_pipeline_mn_std, numeric_features)],\n",
    "                                              remainder=\"passthrough\")\n",
    "airbnb_data_transformer_5 = ColumnTransformer([(\"num_mdn_std\", num_pipeline_mdn_std, numeric_features)],\n",
    "                                              remainder=\"passthrough\")\n",
    "airbnb_data_transformer_6 = ColumnTransformer([(\"num_mf_std\", num_pipeline_mf_std, numeric_features)],\n",
    "                                              remainder=\"passthrough\")"
   ]
  },
  {
   "cell_type": "code",
   "execution_count": 25,
   "metadata": {},
   "outputs": [],
   "source": [
    "from sklearn.tree import DecisionTreeRegressor\n",
    "from sklearn.metrics import mean_squared_error\n",
    "\n",
    "def train_test_decision_tree(X_train, y_train, X_test, y_test):\n",
    "    '''\n",
    "    Trains and tests a decision tree regression model on the given training and test sets.\n",
    "    The function prints the RMSE of the predictions on the test set for each type of\n",
    "    preprocessing (6 combinations to test in total).\n",
    "    \n",
    "    Parameters\n",
    "    ----------\n",
    "        X_train : {array-like, sparse matrix}\n",
    "            The matrix with the values of the features of the training instances.\n",
    "        y_train : array-like\n",
    "            The vector with the values of the target variable of the training instances.\n",
    "        X_test : {array-like, sparse matrix}\n",
    "            The matrix with the values of the features of the test instances.\n",
    "        y_test : array-like\n",
    "            The vector with the values of the target variable of the test instances.\n",
    "    '''\n",
    "\n",
    "    # Define the 6 types of full pipelines, combining the above preprocessors with Decision Tree Regressor\n",
    "    full_pipeline_1 = Pipeline([(\"data_processing\", airbnb_data_transformer_1),\n",
    "                                (\"decision_tree\", DecisionTreeRegressor())])\n",
    "    full_pipeline_2 = Pipeline([(\"data_processing\", airbnb_data_transformer_2),\n",
    "                                (\"decision_tree\", DecisionTreeRegressor())])\n",
    "    full_pipeline_3 = Pipeline([(\"data_processing\", airbnb_data_transformer_3),\n",
    "                                (\"decision_tree\", DecisionTreeRegressor())])\n",
    "    full_pipeline_4 = Pipeline([(\"data_processing\", airbnb_data_transformer_4),\n",
    "                                (\"decision_tree\", DecisionTreeRegressor())])\n",
    "    full_pipeline_5 = Pipeline([(\"data_processing\", airbnb_data_transformer_5),\n",
    "                                (\"decision_tree\", DecisionTreeRegressor())])\n",
    "    full_pipeline_6 = Pipeline([(\"data_processing\", airbnb_data_transformer_6),\n",
    "                                (\"decision_tree\", DecisionTreeRegressor())])\n",
    "    \n",
    "    # Transform the training data and train the Decision Tree Regressor\n",
    "    full_pipeline_1.fit(X_train, y_train)\n",
    "    full_pipeline_2.fit(X_train, y_train)\n",
    "    full_pipeline_3.fit(X_train, y_train)\n",
    "    full_pipeline_4.fit(X_train, y_train)\n",
    "    full_pipeline_5.fit(X_train, y_train)\n",
    "    full_pipeline_6.fit(X_train, y_train)\n",
    "\n",
    "    # Test the Decision Tree Regressor on the test data\n",
    "    predictions_1 = full_pipeline_1.predict(X_test)\n",
    "    predictions_2 = full_pipeline_2.predict(X_test)\n",
    "    predictions_3 = full_pipeline_3.predict(X_test)\n",
    "    predictions_4 = full_pipeline_4.predict(X_test)\n",
    "    predictions_5 = full_pipeline_5.predict(X_test)\n",
    "    predictions_6 = full_pipeline_6.predict(X_test)\n",
    "\n",
    "    # Compute the prediction error\n",
    "    mse_1 = mean_squared_error(y_test, predictions_1)\n",
    "    mse_2 = mean_squared_error(y_test, predictions_2)\n",
    "    mse_3 = mean_squared_error(y_test, predictions_3)\n",
    "    mse_4 = mean_squared_error(y_test, predictions_4)\n",
    "    mse_5 = mean_squared_error(y_test, predictions_5)\n",
    "    mse_6 = mean_squared_error(y_test, predictions_6)\n",
    "\n",
    "    # Print the RMSE\n",
    "    print(\"The RMSE error using pipeline 1 is:\", np.sqrt(mse_1))\n",
    "    print(\"--------------------------- \\n\")\n",
    "    print(\"The RMSE error using pipeline 2 is:\", np.sqrt(mse_2))\n",
    "    print(\"--------------------------- \\n\")\n",
    "    print(\"The RMSE error using pipeline 3 is:\", np.sqrt(mse_3))\n",
    "    print(\"--------------------------- \\n\")\n",
    "    print(\"The RMSE error using pipeline 4 is:\", np.sqrt(mse_4))\n",
    "    print(\"--------------------------- \\n\")\n",
    "    print(\"The RMSE error using pipeline 5 is:\", np.sqrt(mse_5))\n",
    "    print(\"--------------------------- \\n\")\n",
    "    print(\"The RMSE error using pipeline 6 is:\", np.sqrt(mse_6))\n",
    "    print(\"--------------------------- \\n\")"
   ]
  },
  {
   "cell_type": "code",
   "execution_count": 26,
   "metadata": {},
   "outputs": [
    {
     "name": "stdout",
     "output_type": "stream",
     "text": [
      "The RMSE error using pipeline 1 is: 56.232327501079\n",
      "--------------------------- \n",
      "\n",
      "The RMSE error using pipeline 2 is: 52.40495184988722\n",
      "--------------------------- \n",
      "\n",
      "The RMSE error using pipeline 3 is: 56.00916170729479\n",
      "--------------------------- \n",
      "\n",
      "The RMSE error using pipeline 4 is: 54.12296206713708\n",
      "--------------------------- \n",
      "\n",
      "The RMSE error using pipeline 5 is: 56.307827002951974\n",
      "--------------------------- \n",
      "\n",
      "The RMSE error using pipeline 6 is: 53.27758423876097\n",
      "--------------------------- \n",
      "\n"
     ]
    }
   ],
   "source": [
    "train_test_decision_tree(X_train, y_train, X_test, y_test)"
   ]
  },
  {
   "cell_type": "markdown",
   "metadata": {},
   "source": [
    "From the above results, configuration 2 (median imputation + min-max scaling) seems to work best. Let us now try a mix of min-max scaling and standard normalization (for the numeric features that seem to follow a Gaussian distribution)."
   ]
  },
  {
   "cell_type": "code",
   "execution_count": 28,
   "metadata": {},
   "outputs": [],
   "source": [
    "numeric_features_gaussian = ['Host Since', 'Latitude', 'Longitude']\n",
    "numeric_features_nongaussian = [feat for feat in numeric_features if feat not in numeric_features_gaussian]\n",
    "\n",
    "airbnb_data_transformer_7 = ColumnTransformer([\n",
    "    (\"num_mn_minmax\", num_pipeline_mn_minmax, numeric_features_nongaussian),\n",
    "    (\"num_mn_std\", num_pipeline_mn_std, numeric_features_gaussian)],\n",
    "    remainder=\"passthrough\")\n",
    "\n",
    "airbnb_data_transformer_8 = ColumnTransformer([\n",
    "    (\"num_mdn_minmax\", num_pipeline_mdn_minmax, numeric_features_nongaussian),\n",
    "    (\"num_mdn_std\", num_pipeline_mdn_std, numeric_features_gaussian)],\n",
    "    remainder=\"passthrough\")\n",
    "\n",
    "airbnb_data_transformer_9 = ColumnTransformer([\n",
    "    (\"num_mf_minmax\", num_pipeline_mf_minmax, numeric_features_nongaussian),\n",
    "    (\"num_mf_std\", num_pipeline_mf_std, numeric_features_gaussian)],\n",
    "    remainder=\"passthrough\")"
   ]
  },
  {
   "cell_type": "code",
   "execution_count": 29,
   "metadata": {},
   "outputs": [],
   "source": [
    "def train_test_decision_tree_2(X_train, y_train, X_test, y_test):\n",
    "    '''\n",
    "    Trains and tests a decision tree regression model on the given training and test sets.\n",
    "    The function prints the RMSE of the predictions on the test set for each type of\n",
    "    preprocessing (3 combinations to test in total).\n",
    "    \n",
    "    Parameters\n",
    "    ----------\n",
    "        X_train : {array-like, sparse matrix}\n",
    "            The matrix with the values of the features of the training instances.\n",
    "        y_train : array-like\n",
    "            The vector with the values of the target variable of the training instances.\n",
    "        X_test : {array-like, sparse matrix}\n",
    "            The matrix with the values of the features of the test instances.\n",
    "        y_test : array-like\n",
    "            The vector with the values of the target variable of the test instances.\n",
    "    '''\n",
    "\n",
    "    # Define the full pipeline, combining the above preprocessors with KNN Regressor\n",
    "    full_pipeline_7 = Pipeline([(\"data_processing\", airbnb_data_transformer_7),\n",
    "                                (\"decision_tree\", DecisionTreeRegressor())])\n",
    "    full_pipeline_8 = Pipeline([(\"data_processing\", airbnb_data_transformer_8),\n",
    "                                (\"decision_tree\", DecisionTreeRegressor())])\n",
    "    full_pipeline_9 = Pipeline([(\"data_processing\", airbnb_data_transformer_9),\n",
    "                                (\"decision_tree\", DecisionTreeRegressor())])\n",
    "    \n",
    "    # Transform the training data and train the KNN regressor.\n",
    "    full_pipeline_7.fit(X_train, y_train)\n",
    "    full_pipeline_8.fit(X_train, y_train)\n",
    "    full_pipeline_9.fit(X_train, y_train)\n",
    "\n",
    "    # Test the knn regressor on the test data.\n",
    "    predictions_7 = full_pipeline_7.predict(X_test)\n",
    "    predictions_8 = full_pipeline_8.predict(X_test)\n",
    "    predictions_9 = full_pipeline_9.predict(X_test)\n",
    "\n",
    "    # Compute the prediction error.\n",
    "    mse_7 = mean_squared_error(y_test, predictions_7)\n",
    "    mse_8 = mean_squared_error(y_test, predictions_8)\n",
    "    mse_9 = mean_squared_error(y_test, predictions_9)\n",
    "\n",
    "    # Print the RMSE.\n",
    "    print(\"The RMSE error using pipeline 7 is: \", np.sqrt(mse_7))\n",
    "    print(\"--------------------------- \\n\")\n",
    "    print(\"The RMSE error using pipeline 8 is: \", np.sqrt(mse_8))\n",
    "    print(\"--------------------------- \\n\")\n",
    "    print(\"The RMSE error using pipeline 9 is: \", np.sqrt(mse_9))\n",
    "    print(\"--------------------------- \\n\")"
   ]
  },
  {
   "cell_type": "code",
   "execution_count": 30,
   "metadata": {},
   "outputs": [
    {
     "name": "stdout",
     "output_type": "stream",
     "text": [
      "The RMSE error using pipeline 7 is:  55.4003911527899\n",
      "--------------------------- \n",
      "\n",
      "The RMSE error using pipeline 8 is:  56.66240401549046\n",
      "--------------------------- \n",
      "\n",
      "The RMSE error using pipeline 9 is:  55.56452852662729\n",
      "--------------------------- \n",
      "\n"
     ]
    }
   ],
   "source": [
    "train_test_decision_tree_2(X_train, y_train, X_test, y_test)"
   ]
  },
  {
   "cell_type": "markdown",
   "metadata": {},
   "source": [
    "The errors are higher with a mix of scaling strategies (min-max + standard normalization), showing that min-max scaling is preferable in our case. Paired with median imputation, we obtain the lowest RMSE of all the {univariate imputation + scaling} approaches."
   ]
  },
  {
   "cell_type": "markdown",
   "metadata": {},
   "source": [
    "#### Multivariate stochastic imputation"
   ]
  },
  {
   "cell_type": "code",
   "execution_count": 33,
   "metadata": {},
   "outputs": [],
   "source": [
    "from sklearn.experimental import enable_iterative_imputer\n",
    "from sklearn.impute import IterativeImputer\n",
    "\n",
    "it_imp = IterativeImputer(sample_posterior=True)\n",
    "X_it_imp = it_imp.fit_transform(pd.concat([X_train,y_train], axis=1))\n",
    "\n",
    "X_train_imputed = np.delete(X_it_imp, -1, axis=1)\n",
    "X_train_imputed_df = pd.DataFrame(X_train_imputed,\n",
    "                                  columns=list(X_train.columns))"
   ]
  },
  {
   "cell_type": "code",
   "execution_count": 34,
   "metadata": {},
   "outputs": [
    {
     "data": {
      "text/plain": [
       "array([[<matplotlib.axes._subplots.AxesSubplot object at 0x7fe538e5aa58>,\n",
       "        <matplotlib.axes._subplots.AxesSubplot object at 0x7fe5140bf320>,\n",
       "        <matplotlib.axes._subplots.AxesSubplot object at 0x7fe516be3470>],\n",
       "       [<matplotlib.axes._subplots.AxesSubplot object at 0x7fe516c115c0>,\n",
       "        <matplotlib.axes._subplots.AxesSubplot object at 0x7fe513a9f710>,\n",
       "        <matplotlib.axes._subplots.AxesSubplot object at 0x7fe513cbb860>],\n",
       "       [<matplotlib.axes._subplots.AxesSubplot object at 0x7fe513ced9b0>,\n",
       "        <matplotlib.axes._subplots.AxesSubplot object at 0x7fe513d21b38>,\n",
       "        <matplotlib.axes._subplots.AxesSubplot object at 0x7fe513d21b70>]],\n",
       "      dtype=object)"
      ]
     },
     "execution_count": 34,
     "metadata": {},
     "output_type": "execute_result"
    },
    {
     "data": {
      "image/png": "[encoded data removed]",
      "text/plain": [
       "<Figure size 1080x720 with 9 Axes>"
      ]
     },
     "metadata": {
      "needs_background": "light"
     },
     "output_type": "display_data"
    }
   ],
   "source": [
    "X_train_imputed_df.hist(column=[\"Host Response Rate\",\n",
    "                                \"Overall Rating\",\n",
    "                                \"Accuracy Rating\",\n",
    "                                \"Cleanliness Rating\",\n",
    "                                \"Checkin Rating\",\n",
    "                                \"Communication Rating\",\n",
    "                                \"Location Rating\",\n",
    "                                \"Value Rating\"], bins=18, figsize=(15,10))"
   ]
  },
  {
   "cell_type": "markdown",
   "metadata": {},
   "source": [
    "Aside from the fact that all distributions are narrowly centered around 10 or 100 depending on the feature, the added Gaussian noise outputs values that exceed the 10/10 or 100% marks, which maked this stochastic imputation unusable."
   ]
  },
  {
   "cell_type": "markdown",
   "metadata": {},
   "source": [
    "### Constructing processed data with best imputation/scaling strategy"
   ]
  },
  {
   "cell_type": "markdown",
   "metadata": {},
   "source": [
    "From what we have seen, the best strategy is {median imputation + min-max scaling}, represented by the following transformer: **airbnb_data_transformer_2**."
   ]
  },
  {
   "cell_type": "code",
   "execution_count": 35,
   "metadata": {},
   "outputs": [],
   "source": [
    "# The transformer reorders the features (numeric first, then categorical).\n",
    "# When reconstructing the dataframe, we need to take this into account!\n",
    "\n",
    "categorical_features = [f for f in list(X_train.columns) if f not in numeric_features]\n",
    "\n",
    "X_train_processed_arr = airbnb_data_transformer_2.fit_transform(X_train)\n",
    "X_train_processed = pd.DataFrame(X_train_processed_arr, \n",
    "                                 columns=numeric_features+categorical_features)"
   ]
  },
  {
   "cell_type": "code",
   "execution_count": 36,
   "metadata": {},
   "outputs": [
    {
     "data": {
      "text/plain": [
       "array([[<matplotlib.axes._subplots.AxesSubplot object at 0x7fe515caa5c0>,\n",
       "        <matplotlib.axes._subplots.AxesSubplot object at 0x7fe513c45710>,\n",
       "        <matplotlib.axes._subplots.AxesSubplot object at 0x7fe513c60b00>,\n",
       "        <matplotlib.axes._subplots.AxesSubplot object at 0x7fe513ba7080>],\n",
       "       [<matplotlib.axes._subplots.AxesSubplot object at 0x7fe513bed630>,\n",
       "        <matplotlib.axes._subplots.AxesSubplot object at 0x7fe513c1dbe0>,\n",
       "        <matplotlib.axes._subplots.AxesSubplot object at 0x7fe513ef61d0>,\n",
       "        <matplotlib.axes._subplots.AxesSubplot object at 0x7fe513f257b8>],\n",
       "       [<matplotlib.axes._subplots.AxesSubplot object at 0x7fe513f257f0>,\n",
       "        <matplotlib.axes._subplots.AxesSubplot object at 0x7fe515bd2320>,\n",
       "        <matplotlib.axes._subplots.AxesSubplot object at 0x7fe515c028d0>,\n",
       "        <matplotlib.axes._subplots.AxesSubplot object at 0x7fe5373c8b70>],\n",
       "       [<matplotlib.axes._subplots.AxesSubplot object at 0x7fe5377abb00>,\n",
       "        <matplotlib.axes._subplots.AxesSubplot object at 0x7fe537703390>,\n",
       "        <matplotlib.axes._subplots.AxesSubplot object at 0x7fe53775e400>,\n",
       "        <matplotlib.axes._subplots.AxesSubplot object at 0x7fe5377b6a20>],\n",
       "       [<matplotlib.axes._subplots.AxesSubplot object at 0x7fe515f4efd0>,\n",
       "        <matplotlib.axes._subplots.AxesSubplot object at 0x7fe516a805c0>,\n",
       "        <matplotlib.axes._subplots.AxesSubplot object at 0x7fe516ab4b70>,\n",
       "        <matplotlib.axes._subplots.AxesSubplot object at 0x7fe516af4160>]],\n",
       "      dtype=object)"
      ]
     },
     "execution_count": 36,
     "metadata": {},
     "output_type": "execute_result"
    },
    {
     "data": {
      "image/png": "[encoded data removed]",
      "text/plain": [
       "<Figure size 2160x1440 with 20 Axes>"
      ]
     },
     "metadata": {
      "needs_background": "light"
     },
     "output_type": "display_data"
    }
   ],
   "source": [
    "X_train_processed.hist(figsize=(30,20), bins=18, column=numeric_features)"
   ]
  },
  {
   "cell_type": "code",
   "execution_count": 37,
   "metadata": {},
   "outputs": [],
   "source": [
    "# Likewise, let's build the processed version of X_test as well\n",
    "\n",
    "categorical_features = [f for f in list(X_test.columns) if f not in numeric_features]\n",
    "\n",
    "X_test_processed_arr = airbnb_data_transformer_2.fit_transform(X_test)\n",
    "X_test_processed = pd.DataFrame(X_test_processed_arr, \n",
    "                                columns=numeric_features+categorical_features)"
   ]
  },
  {
   "cell_type": "markdown",
   "metadata": {},
   "source": [
    "## Dimension Reduction"
   ]
  },
  {
   "cell_type": "code",
   "execution_count": 255,
   "metadata": {},
   "outputs": [],
   "source": [
    "max_var_set = ['Accomodates','Beds','Room Type_Entire home/apt','Bedrooms','Room Type_Private room']\n",
    "\n",
    "feature_selection_on_maxvar = processSubset(max_var_set)"
   ]
  },
  {
   "cell_type": "code",
   "execution_count": 256,
   "metadata": {},
   "outputs": [
    {
     "data": {
      "text/plain": [
       "{'model': ['Accomodates',\n",
       "  'Beds',\n",
       "  'Room Type_Entire home/apt',\n",
       "  'Bedrooms',\n",
       "  'Room Type_Private room'],\n",
       " 'RSS': 16570.601425785804}"
      ]
     },
     "execution_count": 256,
     "metadata": {},
     "output_type": "execute_result"
    }
   ],
   "source": [
    "feature_selection_on_maxvar"
   ]
  },
  {
   "cell_type": "code",
   "execution_count": 265,
   "metadata": {},
   "outputs": [],
   "source": [
    "import pandas as pd\n",
    "import numpy as np\n",
    "import copy\n",
    "import seaborn as sb\n",
    "import matplotlib.pyplot as plt\n",
    "from matplotlib.gridspec import GridSpec\n",
    "\n",
    "from sklearn.model_selection import train_test_split\n",
    "from sklearn.preprocessing import StandardScaler\n",
    "# from sklearn.linear_model import SGDRegressor\n",
    "from sklearn import tree"
   ]
  },
  {
   "cell_type": "code",
   "execution_count": 266,
   "metadata": {},
   "outputs": [],
   "source": [
    "data = pd.read_csv('../../data/train_airbnb_berlin_preprocessed.csv', delimiter = ';')"
   ]
  },
  {
   "cell_type": "code",
   "execution_count": 267,
   "metadata": {},
   "outputs": [],
   "source": [
    "data = data.drop(['Host Name',  # we have gender info\n",
    "                  'Postal Code',\n",
    "                  'neighbourhood'], axis=1)  # removing neighborhood FOR NOW (check later)"
   ]
  },
  {
   "cell_type": "code",
   "execution_count": 268,
   "metadata": {},
   "outputs": [],
   "source": [
    "# We encode 'Neighborhood Group' classes into a one hot encoder\n",
    "encoder = pd.get_dummies(data['Neighborhood Group'], dtype = 'int64')\n",
    "for feature in encoder.columns:\n",
    "    data[feature] = encoder[feature]\n",
    "\n",
    "del data['Neighborhood Group']"
   ]
  },
  {
   "cell_type": "code",
   "execution_count": 270,
   "metadata": {},
   "outputs": [],
   "source": [
    "train_set, test_set = train_test_split(data, test_size=0.2, random_state=42)"
   ]
  },
  {
   "cell_type": "code",
   "execution_count": 273,
   "metadata": {},
   "outputs": [],
   "source": [
    "features = [col for col in train_set.columns.tolist() if col != 'Price']\n",
    "\n",
    "X_train, y_train = train_set[features], train_set['Price']"
   ]
  },
  {
   "cell_type": "markdown",
   "metadata": {},
   "source": [
    "### Feature Selection"
   ]
  },
  {
   "cell_type": "code",
   "execution_count": 43,
   "metadata": {},
   "outputs": [],
   "source": [
    "X_train = X_train_processed\n",
    "X_test = X_test_processed"
   ]
  },
  {
   "cell_type": "markdown",
   "metadata": {},
   "source": [
    "# Doute ! Remplacer X_train par X dans cross_val_score( ) ?"
   ]
  },
  {
   "cell_type": "code",
   "execution_count": 44,
   "metadata": {},
   "outputs": [],
   "source": [
    "from sklearn import tree\n",
    "from sklearn import model_selection\n",
    "from sklearn.pipeline import Pipeline\n",
    "\n",
    "clf = tree.DecisionTreeRegressor().fit(X_train, y_train)\n",
    "kf_10 = model_selection.KFold(n_splits=10, shuffle=True, random_state=0)\n",
    "\n",
    "def processSubset(feature_set):\n",
    "    \n",
    "    # Fit decision tree model on feature_set and calculate score\n",
    "    score = -1 * model_selection.cross_val_score(clf,\n",
    "                                                 X_train[list(feature_set)],\n",
    "                                                 y_train.ravel(),\n",
    "                                                 cv=kf_10,\n",
    "                                                 scoring='neg_mean_squared_error').mean()\n",
    "\n",
    "    return {\"model\": list(feature_set), \"RSS\": score}"
   ]
  },
  {
   "cell_type": "markdown",
   "metadata": {},
   "source": [
    "#### Best Subset Selection"
   ]
  },
  {
   "cell_type": "code",
   "execution_count": 45,
   "metadata": {},
   "outputs": [],
   "source": [
    "# Takes too long (we have well over 40 features)."
   ]
  },
  {
   "cell_type": "markdown",
   "metadata": {},
   "source": [
    "#### Forward Stepwise Selection"
   ]
  },
  {
   "cell_type": "code",
   "execution_count": 46,
   "metadata": {},
   "outputs": [],
   "source": [
    "import itertools\n",
    "import time\n",
    "from tqdm import tqdm\n",
    "\n",
    "def forward(features):\n",
    "    \n",
    "    # Pull out features we still need to process\n",
    "    remaining_features = [d for d in X_train.columns if d not in features]\n",
    "\n",
    "    tic = time.time()\n",
    "    \n",
    "    results = []\n",
    "    \n",
    "    for d in remaining_features:\n",
    "        results.append(processSubset(features+[d]))\n",
    "    \n",
    "    # Wrap everything up in a nice dataframe\n",
    "    models = pd.DataFrame(results)\n",
    "    \n",
    "    # Choose the model with the lowest RSS\n",
    "    best_model = models.loc[models['RSS'].idxmin()]\n",
    "    \n",
    "    toc = time.time()     \n",
    "\n",
    "    print(\"Processed\", models.shape[0], \"models on\", len(features)+1, \"features in\", (toc-tic), \"seconds.\")\n",
    "    \n",
    "    # Return the best model, along with some other useful information about the model\n",
    "    return best_model"
   ]
  },
  {
   "cell_type": "code",
   "execution_count": 47,
   "metadata": {},
   "outputs": [
    {
     "name": "stdout",
     "output_type": "stream",
     "text": [
      "Processed 59 models on 1 features in 2.4321436882019043 seconds.\n",
      "Processed 58 models on 2 features in 2.7281179428100586 seconds.\n",
      "Processed 57 models on 3 features in 3.024998903274536 seconds.\n",
      "Processed 56 models on 4 features in 3.433414936065674 seconds.\n",
      "Processed 55 models on 5 features in 3.479501724243164 seconds.\n",
      "Processed 54 models on 6 features in 3.636327028274536 seconds.\n",
      "Processed 53 models on 7 features in 4.238620042800903 seconds.\n",
      "Processed 52 models on 8 features in 3.8802762031555176 seconds.\n",
      "Processed 51 models on 9 features in 4.136369943618774 seconds.\n",
      "Processed 50 models on 10 features in 4.103400945663452 seconds.\n",
      "Processed 49 models on 11 features in 4.330621957778931 seconds.\n",
      "Processed 48 models on 12 features in 4.499053001403809 seconds.\n",
      "Processed 47 models on 13 features in 4.492331027984619 seconds.\n",
      "Processed 46 models on 14 features in 4.778346061706543 seconds.\n",
      "Processed 45 models on 15 features in 4.72698187828064 seconds.\n",
      "Processed 44 models on 16 features in 5.045327186584473 seconds.\n",
      "Processed 43 models on 17 features in 5.0949037075042725 seconds.\n",
      "Processed 42 models on 18 features in 5.498936176300049 seconds.\n",
      "Processed 41 models on 19 features in 5.556156158447266 seconds.\n",
      "Processed 40 models on 20 features in 5.269871950149536 seconds.\n",
      "Processed 39 models on 21 features in 5.268707036972046 seconds.\n",
      "Processed 38 models on 22 features in 5.531864881515503 seconds.\n",
      "Processed 37 models on 23 features in 5.893208742141724 seconds.\n",
      "Processed 36 models on 24 features in 6.042288064956665 seconds.\n",
      "Processed 35 models on 25 features in 6.178481817245483 seconds.\n",
      "Processed 34 models on 26 features in 6.276350021362305 seconds.\n",
      "Processed 33 models on 27 features in 6.419909715652466 seconds.\n",
      "Processed 32 models on 28 features in 6.471746206283569 seconds.\n",
      "Processed 31 models on 29 features in 6.593850135803223 seconds.\n",
      "Processed 30 models on 30 features in 6.6750571727752686 seconds.\n",
      "Processed 29 models on 31 features in 6.699199914932251 seconds.\n",
      "Processed 28 models on 32 features in 6.986985921859741 seconds.\n",
      "Processed 27 models on 33 features in 7.162278890609741 seconds.\n",
      "Processed 26 models on 34 features in 7.164350986480713 seconds.\n",
      "Processed 25 models on 35 features in 7.042342901229858 seconds.\n",
      "Processed 24 models on 36 features in 7.428902864456177 seconds.\n",
      "Processed 23 models on 37 features in 8.148792266845703 seconds.\n",
      "Processed 22 models on 38 features in 7.499065160751343 seconds.\n",
      "Processed 21 models on 39 features in 7.561043977737427 seconds.\n",
      "Processed 20 models on 40 features in 7.61825704574585 seconds.\n",
      "Processed 19 models on 41 features in 7.655117750167847 seconds.\n",
      "Processed 18 models on 42 features in 7.789942979812622 seconds.\n",
      "Processed 17 models on 43 features in 7.981871128082275 seconds.\n",
      "Processed 16 models on 44 features in 8.049383878707886 seconds.\n",
      "Processed 15 models on 45 features in 8.027899980545044 seconds.\n",
      "Processed 14 models on 46 features in 7.908648252487183 seconds.\n",
      "Processed 13 models on 47 features in 7.822942018508911 seconds.\n",
      "Processed 12 models on 48 features in 7.793024063110352 seconds.\n",
      "Processed 11 models on 49 features in 7.6697471141815186 seconds.\n",
      "Processed 10 models on 50 features in 7.656844139099121 seconds.\n",
      "Processed 9 models on 51 features in 7.878234148025513 seconds.\n",
      "Processed 8 models on 52 features in 7.301599025726318 seconds.\n",
      "Processed 7 models on 53 features in 7.511476039886475 seconds.\n",
      "Processed 6 models on 54 features in 6.946152210235596 seconds.\n",
      "Processed 5 models on 55 features in 6.2405431270599365 seconds.\n",
      "Processed 4 models on 56 features in 5.472504138946533 seconds.\n",
      "Processed 3 models on 57 features in 4.557859182357788 seconds.\n",
      "Processed 2 models on 58 features in 3.0221219062805176 seconds.\n",
      "Processed 1 models on 59 features in 1.6383209228515625 seconds.\n",
      "Total elapsed time: 348.1169731616974 seconds.\n"
     ]
    }
   ],
   "source": [
    "models_fwd = pd.DataFrame(columns=[\"model\", \"RSS\"])\n",
    "\n",
    "tic = time.time()\n",
    "features = []\n",
    "\n",
    "for i in range(1, len(X_train.columns)+1):\n",
    "    models_fwd.loc[i] = forward(features)\n",
    "    features = models_fwd.loc[i][\"model\"]\n",
    "    # print(features)\n",
    "\n",
    "toc = time.time()\n",
    "print(\"Total elapsed time:\", (toc-tic), \"seconds.\")"
   ]
  },
  {
   "cell_type": "markdown",
   "metadata": {},
   "source": [
    "We now have the best model $\\mathcal{M}_k$ for each number of features $k$ and want to choose the best $\\mathcal{M}_k$. The $\\textbf{RSS}$ values obtained previously correspond to the prediction error on the test samples (thanks to our cross-validation approach). Therefore, we will choose the model with the lowest $\\textbf{RSS}$."
   ]
  },
  {
   "cell_type": "code",
   "execution_count": 48,
   "metadata": {},
   "outputs": [
    {
     "data": {
      "text/plain": [
       "[<matplotlib.lines.Line2D at 0x7fe518ce17b8>]"
      ]
     },
     "execution_count": 48,
     "metadata": {},
     "output_type": "execute_result"
    },
    {
     "data": {
      "image/png": "[encoded data removed]",
      "text/plain": [
       "<Figure size 432x288 with 1 Axes>"
      ]
     },
     "metadata": {
      "needs_background": "light"
     },
     "output_type": "display_data"
    }
   ],
   "source": [
    "import matplotlib.pyplot as plt\n",
    "\n",
    "plt.plot(models_fwd[\"RSS\"])\n",
    "plt.xlabel('# Features')\n",
    "plt.ylabel('RSS')\n",
    "plt.plot(models_fwd[\"RSS\"].idxmin(), models_fwd[\"RSS\"].min(), \"or\")"
   ]
  },
  {
   "cell_type": "code",
   "execution_count": 49,
   "metadata": {},
   "outputs": [
    {
     "name": "stdout",
     "output_type": "stream",
     "text": [
      "The best model according to the FSS is: ['Accomodates', 'Room Type_Entire home/apt', 'Bathrooms', 'Property Type_Hotel', 'Room Type_Private room', 'Property Type_Guesthouse', 'Property Type_Boutique hotel'] (7 features).\n",
      "The corresponding RSS is: 1489.4034723907384\n"
     ]
    }
   ],
   "source": [
    "# Obtaining features of the best model according to the FSS\n",
    "idx_min = models_fwd[\"RSS\"].idxmin()\n",
    "best_model_fwd = models_fwd[\"model\"][idx_min]\n",
    "best_rss_fwd = models_fwd[\"RSS\"].min()\n",
    "\n",
    "print(f'The best model according to the FSS is: {best_model_fwd} ({len(best_model_fwd)} features).')\n",
    "print('The corresponding RSS is:', best_rss_fwd)"
   ]
  },
  {
   "cell_type": "markdown",
   "metadata": {},
   "source": [
    "#### Backward Stepwise Selection"
   ]
  },
  {
   "cell_type": "code",
   "execution_count": 50,
   "metadata": {},
   "outputs": [],
   "source": [
    "def backward(features):\n",
    "        \n",
    "    tic = time.time()\n",
    "        \n",
    "    results = []\n",
    "    \n",
    "    for combo in itertools.combinations(features, len(features)-1):\n",
    "        results.append(processSubset(combo))\n",
    "    \n",
    "    # Wrap everything up in a nice dataframe\n",
    "    models = pd.DataFrame(results)\n",
    "\n",
    "    # Choose the model with the lowest RSS\n",
    "    best_model = models.loc[models['RSS'].idxmin()]\n",
    "    \n",
    "    toc = time.time()\n",
    "    print(\"Processed\", models.shape[0], \"models on\", len(features)-1, \"features in\", (toc-tic), \"seconds.\")\n",
    "        \n",
    "    # Return the best model, along with some other useful information about the model\n",
    "    return best_model"
   ]
  },
  {
   "cell_type": "code",
   "execution_count": null,
   "metadata": {},
   "outputs": [
    {
     "name": "stdout",
     "output_type": "stream",
     "text": [
      "Processed 59 models on 58 features in 92.44226622581482 seconds.\n"
     ]
    }
   ],
   "source": [
    "models_bwd = pd.DataFrame(columns=[\"model\", \"RSS\"], index = range(1, len(X_train.columns)))\n",
    "\n",
    "tic = time.time()\n",
    "features = X_train.columns\n",
    "\n",
    "while(len(features) > 1):  \n",
    "    models_bwd.loc[len(features)-1] = backward(features)\n",
    "    features = models_bwd.loc[len(features)-1][\"model\"]\n",
    "\n",
    "toc = time.time()\n",
    "print(\"Total elapsed time:\", (toc-tic), \"seconds.\")"
   ]
  },
  {
   "cell_type": "markdown",
   "metadata": {},
   "source": [
    "We now have the best model $\\mathcal{M}_k$ for each number of features $k$ and want to choose the best $\\mathcal{M}_k$. The $\\textbf{RSS}$ values obtained previously correspond to the prediction error on the test samples (thanks to our cross-validation approach). Therefore, we will choose the model with the lowest $\\textbf{RSS}$."
   ]
  },
  {
   "cell_type": "code",
   "execution_count": 291,
   "metadata": {},
   "outputs": [],
   "source": [
    "models_bwd['RSS'] = pd.to_numeric(models_bwd['RSS'])"
   ]
  },
  {
   "cell_type": "code",
   "execution_count": 292,
   "metadata": {},
   "outputs": [
    {
     "data": {
      "text/plain": [
       "[<matplotlib.lines.Line2D at 0x7faad2a31f60>]"
      ]
     },
     "execution_count": 292,
     "metadata": {},
     "output_type": "execute_result"
    },
    {
     "data": {
      "image/png": "[encoded data removed]",
      "text/plain": [
       "<Figure size 432x288 with 1 Axes>"
      ]
     },
     "metadata": {
      "needs_background": "light"
     },
     "output_type": "display_data"
    }
   ],
   "source": [
    "import matplotlib.pyplot as plt\n",
    "\n",
    "plt.plot(models_bwd[\"RSS\"])\n",
    "plt.xlabel('# Features')\n",
    "plt.ylabel('RSS')\n",
    "plt.plot(models_bwd[\"RSS\"].idxmin(), models_bwd[\"RSS\"].min(), \"or\")"
   ]
  },
  {
   "cell_type": "code",
   "execution_count": 311,
   "metadata": {},
   "outputs": [
    {
     "name": "stdout",
     "output_type": "stream",
     "text": [
      "The best model according to the BSS is: ['Bathrooms', 'Bedrooms', 'Property Type_Hotel', 'Property Type_Serviced apartment', 'Room Type_Entire home/apt', 'Steglitz - Zehlendorf'] (6 features).\n",
      "The corresponding RSS is: 1597.0192502065777\n"
     ]
    }
   ],
   "source": [
    "# Obtaining features of the best model according to the BSS\n",
    "idx_min = models_bwd[\"RSS\"].idxmin()\n",
    "best_model_bwd = models_bwd[\"model\"][idx_min]\n",
    "best_rss_bwd = models_bwd[\"RSS\"].min()\n",
    "\n",
    "print(f'The best model according to the BSS is: {best_model_bwd} ({len(best_model_bwd)} features).')\n",
    "print('The corresponding RSS is:', best_rss_bwd)"
   ]
  },
  {
   "cell_type": "markdown",
   "metadata": {},
   "source": [
    "### Principal Components Analysis (PCA)"
   ]
  },
  {
   "cell_type": "code",
   "execution_count": null,
   "metadata": {},
   "outputs": [],
   "source": []
  },
  {
   "cell_type": "markdown",
   "metadata": {},
   "source": [
    "## Decision Tree"
   ]
  },
  {
   "cell_type": "code",
   "execution_count": 303,
   "metadata": {},
   "outputs": [
    {
     "name": "stderr",
     "output_type": "stream",
     "text": [
      "/Users/Paul/anaconda3/lib/python3.7/site-packages/sklearn/model_selection/_split.py:657: Warning: The least populated class in y has only 1 members, which is too few. The minimum number of members in any class cannot be less than n_splits=10.\n",
      "  % (min_groups, self.n_splits)), Warning)\n"
     ]
    },
    {
     "name": "stdout",
     "output_type": "stream",
     "text": [
      "MSE:  1590.426326129666\n",
      "max_depth:  {'max_depth': 9, 'min_samples_split': 300}\n"
     ]
    },
    {
     "name": "stderr",
     "output_type": "stream",
     "text": [
      "/Users/Paul/anaconda3/lib/python3.7/site-packages/sklearn/model_selection/_search.py:813: DeprecationWarning: The default of the `iid` parameter will change from True to False in version 0.22 and will be removed in 0.24. This will change numeric results when test-set sizes are unequal.\n",
      "  DeprecationWarning)\n"
     ]
    }
   ],
   "source": [
    "from sklearn.model_selection import GridSearchCV\n",
    "from sklearn.metrics import mean_squared_error\n",
    "\n",
    "pgrid = {\"max_depth\": range(4, 35),\n",
    "         \"min_samples_split\": range(100, 1001, 100)}\n",
    "\n",
    "clf = tree.DecisionTreeClassifier()\n",
    "\n",
    "grid_search = GridSearchCV(clf,\n",
    "                           param_grid=pgrid,\n",
    "                           scoring='neg_mean_squared_error',\n",
    "                           cv=10)\n",
    "grid_search.fit(X_train[list(best_model_fwd)], y_train)\n",
    "\n",
    "# grid_search.best_estimator_.score(X_test, y_test)\n",
    "y_predicted = grid_search.best_estimator_.predict(X_test[list(best_model_fwd)])\n",
    "\n",
    "print(\"MSE:\", mean_squared_error(y_test, y_predicted))\n",
    "print(\"max_depth:\", grid_search.best_params_)"
   ]
  },
  {
   "cell_type": "code",
   "execution_count": 304,
   "metadata": {},
   "outputs": [
    {
     "data": {
      "text/plain": [
       "array([25., 30., 30., ..., 50., 35., 30.])"
      ]
     },
     "execution_count": 304,
     "metadata": {},
     "output_type": "execute_result"
    }
   ],
   "source": [
    "y_predicted"
   ]
  },
  {
   "cell_type": "code",
   "execution_count": 305,
   "metadata": {},
   "outputs": [
    {
     "data": {
      "text/plain": [
       "array([18., 39., 21., ..., 90., 60., 30.])"
      ]
     },
     "execution_count": 305,
     "metadata": {},
     "output_type": "execute_result"
    }
   ],
   "source": [
    "y_test_array = np.array(y_test)\n",
    "\n",
    "y_test_array"
   ]
  },
  {
   "cell_type": "code",
   "execution_count": 306,
   "metadata": {},
   "outputs": [],
   "source": [
    "df = pd.DataFrame({'y_predicted': y_predicted, 'y_test': y_test_array})"
   ]
  },
  {
   "cell_type": "code",
   "execution_count": 308,
   "metadata": {},
   "outputs": [
    {
     "data": {
      "text/plain": [
       "20.816633922724296"
      ]
     },
     "execution_count": 308,
     "metadata": {},
     "output_type": "execute_result"
    }
   ],
   "source": [
    "abs(y_predicted - y_test_array).mean()"
   ]
  },
  {
   "cell_type": "code",
   "execution_count": null,
   "metadata": {},
   "outputs": [],
   "source": [
    "# Below, some tests"
   ]
  },
  {
   "cell_type": "code",
   "execution_count": 123,
   "metadata": {},
   "outputs": [
    {
     "name": "stdout",
     "output_type": "stream",
     "text": [
      "                                          Price\n",
      "Price                                  1.000000\n",
      "Accomodates                            0.503195\n",
      "Room Type_Entire home/apt              0.419790\n",
      "Beds                                   0.418072\n",
      "Bedrooms                               0.414246\n",
      "Room Type_Private room                 0.410835\n",
      "Guests Included                        0.356774\n",
      "Bathrooms                              0.259733\n",
      "Property Type_Loft                     0.161723\n",
      "Property Type_Apartment                0.153003\n",
      "Host Response Time_unknown             0.134629\n",
      "Host Response Time_within an hour      0.103189\n",
      "Property Type_Serviced apartment       0.100933\n",
      "NeukÃ¶lln                              0.094428\n",
      "Is Superhost                           0.073918\n",
      "Reviews                                0.069833\n",
      "Property Type_Hotel                    0.066789\n",
      "Mitte                                  0.066628\n",
      "Location Rating                        0.063794\n",
      "Cleanliness Rating                     0.062158\n",
      "Charlottenburg-Wilm.                   0.055955\n",
      "Property Type_Condominium              0.051878\n",
      "Value Rating                           0.051427\n",
      "Room Type_Shared room                  0.046535\n",
      "Host Response Time_within a few hours  0.045817\n",
      "Overall Rating                         0.042586\n",
      "Longitude                              0.042523\n",
      "Latitude                               0.039405\n",
      "Treptow - KÃ¶penick                    0.037248\n",
      "Reinickendorf                          0.036445\n",
      "Pankow                                 0.033398\n",
      "Instant Bookable                       0.032113\n",
      "Lichtenberg                            0.028799\n",
      "Communication Rating                   0.026596\n",
      "Host Since                             0.025111\n",
      "Property Type_Boutique hotel           0.022122\n",
      "Steglitz - Zehlendorf                  0.021059\n",
      "Host Response Rate                     0.020604\n",
      "Checkin Rating                         0.019533\n",
      "Property Type_Boat                     0.019179\n",
      "Min Nights                             0.019177\n",
      "Boy or Girl?_Boy                       0.018873\n",
      "Boy or Girl?_Girl                      0.018873\n",
      "Accuracy Rating                        0.017943\n",
      "Property Type_Hostel                   0.017579\n",
      "Tempelhof - SchÃ¶neberg                0.016804\n",
      "Host Response Time_a few days or more  0.013763\n",
      "Host Response Time_within a day        0.011433\n",
      "Friedrichshain-Kreuzberg               0.009715\n",
      "Property Type_Guesthouse               0.007439\n",
      "Property Type_Townhouse                0.007063\n",
      "Marzahn - Hellersdorf                  0.006370\n",
      "Property Type_House                    0.005887\n",
      "Property Type_Bungalow                 0.004433\n",
      "Is Exact Location                      0.004168\n",
      "Property Type_Bed and breakfast        0.003736\n",
      "Property Type_Other                    0.003615\n",
      "Spandau                                0.001345\n",
      "Property Type_Guest suite              0.000760\n"
     ]
    },
    {
     "data": {
      "text/plain": [
       "<BarContainer object of 59 artists>"
      ]
     },
     "execution_count": 123,
     "metadata": {},
     "output_type": "execute_result"
    },
    {
     "data": {
      "image/png": "[encoded data removed]",
      "text/plain": [
       "<Figure size 432x288 with 1 Axes>"
      ]
     },
     "metadata": {
      "needs_background": "light"
     },
     "output_type": "display_data"
    }
   ],
   "source": [
    "print(abs(train_set.corr()[['Price']]).sort_values(by='Price', ascending=False))\n",
    "\n",
    "plt.bar(train_set.columns, abs(train_set.corr()['Price']).sort_values(ascending=False))"
   ]
  },
  {
   "cell_type": "code",
   "execution_count": 124,
   "metadata": {},
   "outputs": [
    {
     "data": {
      "text/plain": [
       "<matplotlib.collections.PathCollection at 0x7fab88d07278>"
      ]
     },
     "execution_count": 124,
     "metadata": {},
     "output_type": "execute_result"
    },
    {
     "data": {
      "image/png": "[encoded data removed]",
      "text/plain": [
       "<Figure size 432x288 with 1 Axes>"
      ]
     },
     "metadata": {
      "needs_background": "light"
     },
     "output_type": "display_data"
    }
   ],
   "source": [
    "plt.scatter(train_set['Host Response Time_unknown'], train_set['Price'])"
   ]
  },
  {
   "cell_type": "code",
   "execution_count": 125,
   "metadata": {},
   "outputs": [
    {
     "data": {
      "text/plain": [
       "<matplotlib.collections.PathCollection at 0x7fab88d5ef28>"
      ]
     },
     "execution_count": 125,
     "metadata": {},
     "output_type": "execute_result"
    },
    {
     "data": {
      "image/png": "[encoded data removed]",
      "text/plain": [
       "<Figure size 432x288 with 1 Axes>"
      ]
     },
     "metadata": {
      "needs_background": "light"
     },
     "output_type": "display_data"
    }
   ],
   "source": [
    "plt.scatter(train_set['Longitude'], train_set['Price'])"
   ]
  },
  {
   "cell_type": "code",
   "execution_count": 110,
   "metadata": {},
   "outputs": [
    {
     "name": "stdout",
     "output_type": "stream",
     "text": [
      "Index(['Host Since', 'Host Response Rate', 'Is Superhost', 'Latitude',\n",
      "       'Longitude', 'Is Exact Location', 'Accomodates', 'Bathrooms',\n",
      "       'Bedrooms', 'Beds', 'Guests Included', 'Min Nights', 'Reviews',\n",
      "       'Overall Rating', 'Accuracy Rating', 'Cleanliness Rating',\n",
      "       'Checkin Rating', 'Communication Rating', 'Location Rating',\n",
      "       'Value Rating', 'Instant Bookable',\n",
      "       'Host Response Time_a few days or more', 'Host Response Time_unknown',\n",
      "       'Host Response Time_within a day',\n",
      "       'Host Response Time_within a few hours',\n",
      "       'Host Response Time_within an hour', 'Property Type_Apartment',\n",
      "       'Property Type_Bed and breakfast', 'Property Type_Boat',\n",
      "       'Property Type_Boutique hotel', 'Property Type_Bungalow',\n",
      "       'Property Type_Condominium', 'Property Type_Guest suite',\n",
      "       'Property Type_Guesthouse', 'Property Type_Hostel',\n",
      "       'Property Type_Hotel', 'Property Type_House', 'Property Type_Loft',\n",
      "       'Property Type_Other', 'Property Type_Serviced apartment',\n",
      "       'Property Type_Townhouse', 'Room Type_Entire home/apt',\n",
      "       'Room Type_Private room', 'Room Type_Shared room', 'Boy or Girl?_Boy',\n",
      "       'Boy or Girl?_Girl', 'Charlottenburg-Wilm.', 'Friedrichshain-Kreuzberg',\n",
      "       'Lichtenberg', 'Marzahn - Hellersdorf', 'Mitte', 'NeukÃ¶lln', 'Pankow',\n",
      "       'Reinickendorf', 'Spandau', 'Steglitz - Zehlendorf',\n",
      "       'Tempelhof - SchÃ¶neberg', 'Treptow - KÃ¶penick'],\n",
      "      dtype='object')\n"
     ]
    },
    {
     "data": {
      "image/png": "[encoded data removed]",
      "text/plain": [
       "<Figure size 432x288 with 1 Axes>"
      ]
     },
     "metadata": {
      "needs_background": "light"
     },
     "output_type": "display_data"
    }
   ],
   "source": [
    "clf.feature_importances_\n",
    "plt.bar(X_train.columns, clf.feature_importances_)\n",
    "print(X_train.columns)"
   ]
  }
 ],
 "metadata": {
  "kernelspec": {
   "display_name": "Python 3",
   "language": "python",
   "name": "python3"
  },
  "language_info": {
   "codemirror_mode": {
    "name": "ipython",
    "version": 3
   },
   "file_extension": ".py",
   "mimetype": "text/x-python",
   "name": "python",
   "nbconvert_exporter": "python",
   "pygments_lexer": "ipython3",
   "version": "3.7.3"
  }
 },
 "nbformat": 4,
 "nbformat_minor": 2
}
