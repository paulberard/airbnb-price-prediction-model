{
 "cells": [
  {
   "cell_type": "markdown",
   "metadata": {},
   "source": [
    "# Airbnb Price Prediction"
   ]
  },
  {
   "cell_type": "markdown",
   "metadata": {},
   "source": [
    "## Data preprocessing"
   ]
  },
  {
   "cell_type": "markdown",
   "metadata": {},
   "source": [
    "### Exploring the data"
   ]
  },
  {
   "cell_type": "code",
   "execution_count": 237,
   "metadata": {},
   "outputs": [],
   "source": [
    "# Imports\n",
    "\n",
    "import pandas as pd\n",
    "import numpy as np\n",
    "import time\n",
    "import statsmodels.api as sm\n",
    "import itertools"
   ]
  },
  {
   "cell_type": "code",
   "execution_count": 238,
   "metadata": {
    "scrolled": true
   },
   "outputs": [
    {
     "data": {
      "text/html": [
       "<div>\n",
       "<style scoped>\n",
       "    .dataframe tbody tr th:only-of-type {\n",
       "        vertical-align: middle;\n",
       "    }\n",
       "\n",
       "    .dataframe tbody tr th {\n",
       "        vertical-align: top;\n",
       "    }\n",
       "\n",
       "    .dataframe thead th {\n",
       "        text-align: right;\n",
       "    }\n",
       "</style>\n",
       "<table border=\"1\" class=\"dataframe\">\n",
       "  <thead>\n",
       "    <tr style=\"text-align: right;\">\n",
       "      <th></th>\n",
       "      <th>Listing ID</th>\n",
       "      <th>Listing Name</th>\n",
       "      <th>Host ID</th>\n",
       "      <th>Host Name</th>\n",
       "      <th>Host Since</th>\n",
       "      <th>Host Response Time</th>\n",
       "      <th>Host Response Rate</th>\n",
       "      <th>Is Superhost</th>\n",
       "      <th>neighbourhood</th>\n",
       "      <th>Neighborhood Group</th>\n",
       "      <th>...</th>\n",
       "      <th>Overall Rating</th>\n",
       "      <th>Accuracy Rating</th>\n",
       "      <th>Cleanliness Rating</th>\n",
       "      <th>Checkin Rating</th>\n",
       "      <th>Communication Rating</th>\n",
       "      <th>Location Rating</th>\n",
       "      <th>Value Rating</th>\n",
       "      <th>Instant Bookable</th>\n",
       "      <th>Business Travel Ready</th>\n",
       "      <th>Price</th>\n",
       "    </tr>\n",
       "  </thead>\n",
       "  <tbody>\n",
       "    <tr>\n",
       "      <th>0</th>\n",
       "      <td>19665213.0</td>\n",
       "      <td>*</td>\n",
       "      <td>156079597.0</td>\n",
       "      <td>Maximilian</td>\n",
       "      <td>2016-01-20</td>\n",
       "      <td>NaN</td>\n",
       "      <td>NaN</td>\n",
       "      <td>f</td>\n",
       "      <td>Prenzlauer Berg</td>\n",
       "      <td>Pankow</td>\n",
       "      <td>...</td>\n",
       "      <td>100.0</td>\n",
       "      <td>10.0</td>\n",
       "      <td>10.0</td>\n",
       "      <td>10.0</td>\n",
       "      <td>10.0</td>\n",
       "      <td>9.0</td>\n",
       "      <td>10.0</td>\n",
       "      <td>t</td>\n",
       "      <td>f</td>\n",
       "      <td>26.0</td>\n",
       "    </tr>\n",
       "    <tr>\n",
       "      <th>1</th>\n",
       "      <td>6436842.0</td>\n",
       "      <td>*</td>\n",
       "      <td>5302290.0</td>\n",
       "      <td>Dulie</td>\n",
       "      <td>2013-04-07</td>\n",
       "      <td>NaN</td>\n",
       "      <td>NaN</td>\n",
       "      <td>f</td>\n",
       "      <td>Pankow</td>\n",
       "      <td>Pankow</td>\n",
       "      <td>...</td>\n",
       "      <td>90.0</td>\n",
       "      <td>9.0</td>\n",
       "      <td>9.0</td>\n",
       "      <td>10.0</td>\n",
       "      <td>10.0</td>\n",
       "      <td>9.0</td>\n",
       "      <td>10.0</td>\n",
       "      <td>f</td>\n",
       "      <td>f</td>\n",
       "      <td>41.0</td>\n",
       "    </tr>\n",
       "    <tr>\n",
       "      <th>2</th>\n",
       "      <td>10559468.0</td>\n",
       "      <td>*</td>\n",
       "      <td>59151456.0</td>\n",
       "      <td>Geank</td>\n",
       "      <td>2016-02-07</td>\n",
       "      <td>NaN</td>\n",
       "      <td>NaN</td>\n",
       "      <td>f</td>\n",
       "      <td>Prenzlauer Berg</td>\n",
       "      <td>Pankow</td>\n",
       "      <td>...</td>\n",
       "      <td>100.0</td>\n",
       "      <td>10.0</td>\n",
       "      <td>10.0</td>\n",
       "      <td>10.0</td>\n",
       "      <td>10.0</td>\n",
       "      <td>10.0</td>\n",
       "      <td>10.0</td>\n",
       "      <td>f</td>\n",
       "      <td>f</td>\n",
       "      <td>50.0</td>\n",
       "    </tr>\n",
       "    <tr>\n",
       "      <th>3</th>\n",
       "      <td>27215482.0</td>\n",
       "      <td>*</td>\n",
       "      <td>193452785.0</td>\n",
       "      <td>Alix</td>\n",
       "      <td>2018-06-26</td>\n",
       "      <td>NaN</td>\n",
       "      <td>NaN</td>\n",
       "      <td>f</td>\n",
       "      <td>Friedrichshain</td>\n",
       "      <td>Friedrichshain-Kreuzberg</td>\n",
       "      <td>...</td>\n",
       "      <td>100.0</td>\n",
       "      <td>10.0</td>\n",
       "      <td>10.0</td>\n",
       "      <td>10.0</td>\n",
       "      <td>10.0</td>\n",
       "      <td>10.0</td>\n",
       "      <td>9.0</td>\n",
       "      <td>f</td>\n",
       "      <td>f</td>\n",
       "      <td>50.0</td>\n",
       "    </tr>\n",
       "    <tr>\n",
       "      <th>4</th>\n",
       "      <td>27287546.0</td>\n",
       "      <td>*</td>\n",
       "      <td>205870244.0</td>\n",
       "      <td>Lurina</td>\n",
       "      <td>2013-05-16</td>\n",
       "      <td>within a few hours</td>\n",
       "      <td>92%</td>\n",
       "      <td>t</td>\n",
       "      <td>Prenzlauer Berg</td>\n",
       "      <td>Pankow</td>\n",
       "      <td>...</td>\n",
       "      <td>NaN</td>\n",
       "      <td>NaN</td>\n",
       "      <td>NaN</td>\n",
       "      <td>NaN</td>\n",
       "      <td>NaN</td>\n",
       "      <td>NaN</td>\n",
       "      <td>NaN</td>\n",
       "      <td>t</td>\n",
       "      <td>f</td>\n",
       "      <td>55.0</td>\n",
       "    </tr>\n",
       "  </tbody>\n",
       "</table>\n",
       "<p>5 rows × 39 columns</p>\n",
       "</div>"
      ],
      "text/plain": [
       "   Listing ID Listing Name      Host ID   Host Name  Host Since  \\\n",
       "0  19665213.0            *  156079597.0  Maximilian  2016-01-20   \n",
       "1   6436842.0            *    5302290.0       Dulie  2013-04-07   \n",
       "2  10559468.0            *   59151456.0       Geank  2016-02-07   \n",
       "3  27215482.0            *  193452785.0        Alix  2018-06-26   \n",
       "4  27287546.0            *  205870244.0      Lurina  2013-05-16   \n",
       "\n",
       "   Host Response Time Host Response Rate Is Superhost    neighbourhood  \\\n",
       "0                 NaN                NaN            f  Prenzlauer Berg   \n",
       "1                 NaN                NaN            f           Pankow   \n",
       "2                 NaN                NaN            f  Prenzlauer Berg   \n",
       "3                 NaN                NaN            f   Friedrichshain   \n",
       "4  within a few hours                92%            t  Prenzlauer Berg   \n",
       "\n",
       "         Neighborhood Group  ... Overall Rating Accuracy Rating  \\\n",
       "0                    Pankow  ...          100.0            10.0   \n",
       "1                    Pankow  ...           90.0             9.0   \n",
       "2                    Pankow  ...          100.0            10.0   \n",
       "3  Friedrichshain-Kreuzberg  ...          100.0            10.0   \n",
       "4                    Pankow  ...            NaN             NaN   \n",
       "\n",
       "  Cleanliness Rating Checkin Rating  Communication Rating  Location Rating  \\\n",
       "0               10.0           10.0                  10.0              9.0   \n",
       "1                9.0           10.0                  10.0              9.0   \n",
       "2               10.0           10.0                  10.0             10.0   \n",
       "3               10.0           10.0                  10.0             10.0   \n",
       "4                NaN            NaN                   NaN              NaN   \n",
       "\n",
       "  Value Rating Instant Bookable Business Travel Ready Price  \n",
       "0         10.0                t                     f  26.0  \n",
       "1         10.0                f                     f  41.0  \n",
       "2         10.0                f                     f  50.0  \n",
       "3          9.0                f                     f  50.0  \n",
       "4          NaN                t                     f  55.0  \n",
       "\n",
       "[5 rows x 39 columns]"
      ]
     },
     "execution_count": 238,
     "metadata": {},
     "output_type": "execute_result"
    }
   ],
   "source": [
    "# Importing the training data\n",
    "\n",
    "data = pd.read_csv('../../data/train_airbnb_berlin.csv', delimiter = ',')\n",
    "data.head()"
   ]
  },
  {
   "cell_type": "code",
   "execution_count": 240,
   "metadata": {},
   "outputs": [],
   "source": [
    "# Important preprocessing: replacing all '*' strings by NaNs\n",
    "\n",
    "data[data == '*'] = np.nan"
   ]
  },
  {
   "cell_type": "code",
   "execution_count": 241,
   "metadata": {},
   "outputs": [
    {
     "name": "stdout",
     "output_type": "stream",
     "text": [
      "(15692, 39)\n"
     ]
    },
    {
     "data": {
      "text/html": [
       "<div>\n",
       "<style scoped>\n",
       "    .dataframe tbody tr th:only-of-type {\n",
       "        vertical-align: middle;\n",
       "    }\n",
       "\n",
       "    .dataframe tbody tr th {\n",
       "        vertical-align: top;\n",
       "    }\n",
       "\n",
       "    .dataframe thead th {\n",
       "        text-align: right;\n",
       "    }\n",
       "</style>\n",
       "<table border=\"1\" class=\"dataframe\">\n",
       "  <thead>\n",
       "    <tr style=\"text-align: right;\">\n",
       "      <th></th>\n",
       "      <th>Listing ID</th>\n",
       "      <th>Host ID</th>\n",
       "      <th>Latitude</th>\n",
       "      <th>Longitude</th>\n",
       "      <th>Square Feet</th>\n",
       "      <th>Reviews</th>\n",
       "      <th>Overall Rating</th>\n",
       "      <th>Accuracy Rating</th>\n",
       "      <th>Cleanliness Rating</th>\n",
       "      <th>Checkin Rating</th>\n",
       "      <th>Communication Rating</th>\n",
       "      <th>Location Rating</th>\n",
       "      <th>Value Rating</th>\n",
       "      <th>Price</th>\n",
       "    </tr>\n",
       "  </thead>\n",
       "  <tbody>\n",
       "    <tr>\n",
       "      <th>count</th>\n",
       "      <td>1.569100e+04</td>\n",
       "      <td>1.569200e+04</td>\n",
       "      <td>15692.000000</td>\n",
       "      <td>15692.000000</td>\n",
       "      <td>303.000000</td>\n",
       "      <td>15692.000000</td>\n",
       "      <td>12730.000000</td>\n",
       "      <td>12721.000000</td>\n",
       "      <td>12722.000000</td>\n",
       "      <td>12719.000000</td>\n",
       "      <td>12722.000000</td>\n",
       "      <td>12721.000000</td>\n",
       "      <td>12720.000000</td>\n",
       "      <td>15683.000000</td>\n",
       "    </tr>\n",
       "    <tr>\n",
       "      <th>mean</th>\n",
       "      <td>1.780062e+07</td>\n",
       "      <td>6.119042e+07</td>\n",
       "      <td>52.509893</td>\n",
       "      <td>13.407334</td>\n",
       "      <td>445.900990</td>\n",
       "      <td>19.452014</td>\n",
       "      <td>94.717282</td>\n",
       "      <td>9.717475</td>\n",
       "      <td>9.328407</td>\n",
       "      <td>9.769164</td>\n",
       "      <td>9.779201</td>\n",
       "      <td>9.556874</td>\n",
       "      <td>9.458097</td>\n",
       "      <td>60.342983</td>\n",
       "    </tr>\n",
       "    <tr>\n",
       "      <th>std</th>\n",
       "      <td>9.952544e+06</td>\n",
       "      <td>6.739421e+07</td>\n",
       "      <td>0.031286</td>\n",
       "      <td>0.058646</td>\n",
       "      <td>414.817342</td>\n",
       "      <td>39.483853</td>\n",
       "      <td>7.069787</td>\n",
       "      <td>0.671793</td>\n",
       "      <td>1.023807</td>\n",
       "      <td>0.620347</td>\n",
       "      <td>0.619545</td>\n",
       "      <td>0.731109</td>\n",
       "      <td>0.788891</td>\n",
       "      <td>48.829687</td>\n",
       "    </tr>\n",
       "    <tr>\n",
       "      <th>min</th>\n",
       "      <td>2.241500e+04</td>\n",
       "      <td>1.101500e+04</td>\n",
       "      <td>52.369270</td>\n",
       "      <td>13.121400</td>\n",
       "      <td>0.000000</td>\n",
       "      <td>0.000000</td>\n",
       "      <td>20.000000</td>\n",
       "      <td>2.000000</td>\n",
       "      <td>2.000000</td>\n",
       "      <td>2.000000</td>\n",
       "      <td>2.000000</td>\n",
       "      <td>2.000000</td>\n",
       "      <td>2.000000</td>\n",
       "      <td>8.000000</td>\n",
       "    </tr>\n",
       "    <tr>\n",
       "      <th>25%</th>\n",
       "      <td>9.052831e+06</td>\n",
       "      <td>9.274528e+06</td>\n",
       "      <td>52.488920</td>\n",
       "      <td>13.376025</td>\n",
       "      <td>0.000000</td>\n",
       "      <td>1.000000</td>\n",
       "      <td>93.000000</td>\n",
       "      <td>10.000000</td>\n",
       "      <td>9.000000</td>\n",
       "      <td>10.000000</td>\n",
       "      <td>10.000000</td>\n",
       "      <td>9.000000</td>\n",
       "      <td>9.000000</td>\n",
       "      <td>32.000000</td>\n",
       "    </tr>\n",
       "    <tr>\n",
       "      <th>50%</th>\n",
       "      <td>1.865037e+07</td>\n",
       "      <td>3.358182e+07</td>\n",
       "      <td>52.509100</td>\n",
       "      <td>13.417250</td>\n",
       "      <td>440.000000</td>\n",
       "      <td>5.000000</td>\n",
       "      <td>97.000000</td>\n",
       "      <td>10.000000</td>\n",
       "      <td>10.000000</td>\n",
       "      <td>10.000000</td>\n",
       "      <td>10.000000</td>\n",
       "      <td>10.000000</td>\n",
       "      <td>10.000000</td>\n",
       "      <td>49.000000</td>\n",
       "    </tr>\n",
       "    <tr>\n",
       "      <th>75%</th>\n",
       "      <td>2.611308e+07</td>\n",
       "      <td>9.325677e+07</td>\n",
       "      <td>52.532713</td>\n",
       "      <td>13.439750</td>\n",
       "      <td>700.000000</td>\n",
       "      <td>17.000000</td>\n",
       "      <td>100.000000</td>\n",
       "      <td>10.000000</td>\n",
       "      <td>10.000000</td>\n",
       "      <td>10.000000</td>\n",
       "      <td>10.000000</td>\n",
       "      <td>10.000000</td>\n",
       "      <td>10.000000</td>\n",
       "      <td>70.000000</td>\n",
       "    </tr>\n",
       "    <tr>\n",
       "      <th>max</th>\n",
       "      <td>3.467450e+07</td>\n",
       "      <td>2.609698e+08</td>\n",
       "      <td>52.639670</td>\n",
       "      <td>13.709020</td>\n",
       "      <td>1912.000000</td>\n",
       "      <td>424.000000</td>\n",
       "      <td>100.000000</td>\n",
       "      <td>10.000000</td>\n",
       "      <td>10.000000</td>\n",
       "      <td>10.000000</td>\n",
       "      <td>10.000000</td>\n",
       "      <td>10.000000</td>\n",
       "      <td>10.000000</td>\n",
       "      <td>900.000000</td>\n",
       "    </tr>\n",
       "  </tbody>\n",
       "</table>\n",
       "</div>"
      ],
      "text/plain": [
       "         Listing ID       Host ID      Latitude     Longitude  Square Feet  \\\n",
       "count  1.569100e+04  1.569200e+04  15692.000000  15692.000000   303.000000   \n",
       "mean   1.780062e+07  6.119042e+07     52.509893     13.407334   445.900990   \n",
       "std    9.952544e+06  6.739421e+07      0.031286      0.058646   414.817342   \n",
       "min    2.241500e+04  1.101500e+04     52.369270     13.121400     0.000000   \n",
       "25%    9.052831e+06  9.274528e+06     52.488920     13.376025     0.000000   \n",
       "50%    1.865037e+07  3.358182e+07     52.509100     13.417250   440.000000   \n",
       "75%    2.611308e+07  9.325677e+07     52.532713     13.439750   700.000000   \n",
       "max    3.467450e+07  2.609698e+08     52.639670     13.709020  1912.000000   \n",
       "\n",
       "            Reviews  Overall Rating  Accuracy Rating  Cleanliness Rating  \\\n",
       "count  15692.000000    12730.000000     12721.000000        12722.000000   \n",
       "mean      19.452014       94.717282         9.717475            9.328407   \n",
       "std       39.483853        7.069787         0.671793            1.023807   \n",
       "min        0.000000       20.000000         2.000000            2.000000   \n",
       "25%        1.000000       93.000000        10.000000            9.000000   \n",
       "50%        5.000000       97.000000        10.000000           10.000000   \n",
       "75%       17.000000      100.000000        10.000000           10.000000   \n",
       "max      424.000000      100.000000        10.000000           10.000000   \n",
       "\n",
       "       Checkin Rating  Communication Rating  Location Rating  Value Rating  \\\n",
       "count    12719.000000          12722.000000     12721.000000  12720.000000   \n",
       "mean         9.769164              9.779201         9.556874      9.458097   \n",
       "std          0.620347              0.619545         0.731109      0.788891   \n",
       "min          2.000000              2.000000         2.000000      2.000000   \n",
       "25%         10.000000             10.000000         9.000000      9.000000   \n",
       "50%         10.000000             10.000000        10.000000     10.000000   \n",
       "75%         10.000000             10.000000        10.000000     10.000000   \n",
       "max         10.000000             10.000000        10.000000     10.000000   \n",
       "\n",
       "              Price  \n",
       "count  15683.000000  \n",
       "mean      60.342983  \n",
       "std       48.829687  \n",
       "min        8.000000  \n",
       "25%       32.000000  \n",
       "50%       49.000000  \n",
       "75%       70.000000  \n",
       "max      900.000000  "
      ]
     },
     "execution_count": 241,
     "metadata": {},
     "output_type": "execute_result"
    }
   ],
   "source": [
    "# Global overview of the data\n",
    "\n",
    "print(data.shape)\n",
    "data.describe()"
   ]
  },
  {
   "cell_type": "code",
   "execution_count": 242,
   "metadata": {},
   "outputs": [
    {
     "name": "stdout",
     "output_type": "stream",
     "text": [
      "Listing Name (n = 1): \n",
      "[nan]\n",
      "\n",
      "Host Response Time (n = 5): \n",
      "[nan, 'within a few hours', 'within an hour', 'within a day', 'a few days or more']\n",
      "\n",
      "Host Response Rate (n = 34): \n",
      "[nan, '92%', '100%', '80%', '71%', '83%', '98%', '78%', '89%', '50%', '90%', '70%', '20%', '97%', '91%', '88%', '75%', '93%', '0%', '67%', '33%', '40%', '58%', '86%', '60%', '95%', '94%', '96%', '82%', '63%', '99%', '87%', '25%', '30%']\n",
      "\n",
      "Is Superhost (n = 3): \n",
      "['f', 't', nan]\n",
      "\n",
      "neighbourhood (n = 63): \n",
      "['Prenzlauer Berg', 'Pankow', 'Friedrichshain', 'Mariendorf', 'Wilmersdorf', 'Kreuzberg', 'Moabit', 'NeukÃ¶lln', 'Alt-Treptow', 'SchÃ¶neberg', 'Reinickendorf', 'Mitte', 'Karlshorst', 'WeiÃ\\x9fensee', 'Friedenau', 'Hansaviertel', 'Wedding', 'Charlottenburg', 'Steglitz', 'Baumschulenweg', 'Alt-HohenschÃ¶nhausen', 'Rummelsburg', 'Lichterfelde', 'OberschÃ¶neweide', 'Britz', 'Lichtenberg', 'Grunewald', 'Altglienicke', 'Westend', 'Tempelhof', 'Marzahn', 'Mahlsdorf', 'Adlershof', 'NiederschÃ¶nhausen', 'Tegel', 'Rahnsdorf', 'SchmÃ¶ckwitz', 'Potsdamer Platz', 'Tiergarten', 'Fennpfuhl', nan, 'Dahlem', 'Halensee', 'Zehlendorf', 'Nikolassee', 'Friedrichsfelde', 'Wittenau', 'Lichtenrade', 'Wilhelmstadt', 'PlÃ¤nterwald', 'Biesdorf', 'Johannisthal', 'Spandau', 'Schmargendorf', 'Buckow', 'Lankwitz', 'KÃ¶penick', 'NiederschÃ¶neweide', 'Rudow', 'Wannsee', 'Karow', 'Friedrichshagen', 'FranzÃ¶sisch Buchholz']\n",
      "\n",
      "Neighborhood Group (n = 12): \n",
      "['Pankow', 'Friedrichshain-Kreuzberg', 'Tempelhof - SchÃ¶neberg', 'Charlottenburg-Wilm.', 'Mitte', 'NeukÃ¶lln', 'Treptow - KÃ¶penick', 'Reinickendorf', 'Lichtenberg', 'Steglitz - Zehlendorf', 'Marzahn - Hellersdorf', 'Spandau']\n",
      "\n",
      "City (n = 2): \n",
      "['Berlin', nan]\n",
      "\n",
      "Postal Code (n = 185): \n",
      "['10437.0', '13187.0', '10439.0', '10245', '10405.0', nan, '10997', '10961.0', '10553.0', '14197.0', '12047.0', '12435.0', '10781.0', '13407', '13086.0', '12055.0', '10245.0', '12161.0', '10249.0', '10555.0', '13353.0', '10999.0', '12053.0', '10969.0', '10629.0', '10709.0', '13357', '10967.0', '12167.0', '13347.0', '10407', '12049', '12437.0', '10247', '10249', '10407.0', '12049.0', '13055.0', '10317.0', '10178.0', '10787.0', '12055', '10997.0', '10965', '12059.0', '10829.0', '12157.0', '13359.0', '10115.0', '10119.0', '13357.0', '10409.0', '10179.0', '12051', '10365', '12159.0', '10711', '10405', '10435.0', '10963.0', '12043', '12045.0', '10551', '10961', '10247.0', '10823.0', '10627.0', '10369.0', '12043.0', '10585.0', '10967', '10439', '10999', '10587.0', '12203.0', '10437', '12099.0', '10965.0', '10243.0', '10783.0', '12623.0', '10589.0', '12045', '10777', '10777.0', '10969', '13407.0', '13189.0', '13347', '10555', '12051.0', '10117.0', '10717', '10179', '10117', '13507.0', '12589.0', '10559', '10115', '12587.0', '14059', '12057.0', '10713.0', '10785.0', '10629', '12347.0', '10318.0', '10719.0', '13088.0', '10367.0', '10785', '14129.0', '10435', '13355.0', '13353', '12101.0', '13359', '10178', '12489.0', '14055.0', '10365.0', '13187', '10779.0', '12059', '14050.0', '10585', '13086', '10243', '10317', '10553', '10557.0', '12527.0', '13403.0', '10827', '10409', '10823', '10551.0', '14059.0', '10315', '12163.0', '13156.0', '10319.0', '12683.0', '10627', '12047', '10559.0', '10781', '12103.0', '10707.0', '13349.0', '12099', '10717.0', '10623.0', '12435', '10715.0', '10625.0', '10557', '12105.0', '12053', '10315.0', '10827.0', '12555.0', '10963', '10119', '14195.0', '14057.0', '13355', '10825.0', '10789.0', '12459.0', '13189', '14193.0', '13351.0', '10711.0', '13409.0', '14057', '14169.0', '14163.0', '13088', '13351', '10829', '13125.0', '13581.0', '14052.0', '12103']\n",
      "\n",
      "Country Code (n = 1): \n",
      "['DE']\n",
      "\n",
      "Country (n = 1): \n",
      "['Germany']\n",
      "\n",
      "Is Exact Location (n = 2): \n",
      "['t', 'f']\n",
      "\n",
      "Property Type (n = 16): \n",
      "['Apartment', 'Condominium', 'Bed and breakfast', 'Loft', 'House', nan, 'Townhouse', 'Serviced apartment', 'Guesthouse', 'Hostel', 'Guest suite', 'Bungalow', 'Other', 'Boutique hotel', 'Hotel', 'Boat']\n",
      "\n",
      "Room Type (n = 3): \n",
      "['Private room', 'Entire home/apt', 'Shared room']\n",
      "\n",
      "Accomodates (n = 13): \n",
      "['2', '3', '4', '1', '6', '10', '9', '5', '8', '7', '12', nan, '16']\n",
      "\n",
      "Bathrooms (n = 8): \n",
      "['1.0', '2.0', '1.5', '2.5', nan, '0.5', '3.0', '0.0']\n",
      "\n",
      "Bedrooms (n = 7): \n",
      "['1.0', '2.0', '0.0', '3.0', '4.0', '5.0', nan]\n",
      "\n",
      "Beds (n = 12): \n",
      "['1.0', '2.0', '4.0', '8.0', '6.0', '5.0', '3.0', '7.0', nan, '9.0', '10.0', '0.0']\n",
      "\n",
      "Square Feet (n = 147): \n",
      "[nan, 831.0, 53.0, 235.0, 7.0, 646.0, 331.0, 753.0, 0.0, 609.0, 515.0, 1912.0, 700.0, 470.0, 639.0, 21.0, 702.0, 409.0, 775.0, 979.0, 415.0, 761.0, 431.0, 131.0, 632.0, 805.0, 455.0, 690.0, 440.0, 489.0, 1076.0, 1493.0, 1330.0, 252.0, 129.0, 453.0, 477.0, 355.0, 730.0, 598.0, 652.0, 380.0, 152.0, 485.0, 777.0, 402.0, 215.0, 807.0, 484.0, 542.0, 517.0, 615.0, 333.0, 985.0, 685.0, 450.0, 590.0, 10.0, 348.0, 121.0, 221.0, 861.0, 674.0, 1892.0, 588.0, 407.0, 507.0, 414.0, 463.0, 650.0, 594.0, 353.0, 1398.0, 46.0, 346.0, 285.0, 888.0, 261.0, 461.0, 479.0, 405.0, 451.0, 653.0, 198.0, 887.0, 161.0, 846.0, 480.0, 423.0, 361.0, 676.0, 1872.0, 404.0, 780.0, 763.0, 863.0, 752.0, 512.0, 1722.0, 637.0, 1052.0, 444.0, 192.0, 535.0, 802.0, 494.0, 492.0, 388.0, 245.0, 803.0, 891.0, 569.0, 649.0, 770.0, 592.0, 1235.0, 672.0, 952.0, 668.0, 872.0, 452.0, 1606.0, 678.0, 853.0, 372.0, 606.0, 386.0, 1023.0, 821.0, 352.0, 1343.0, 231.0, 63.0, 212.0, 417.0, 1392.0, 750.0, 475.0, 1299.0, 1002.0, 961.0, 1893.0, 855.0, 70.0, 931.0, 1896.0, 374.0]\n",
      "\n",
      "Guests Included (n = 8): \n",
      "['1', '2', '4', '5', '3', '6', '8', nan]\n",
      "\n",
      "Min Nights (n = 25): \n",
      "['2', '7', '1', '6', '5', '4', nan, '3', '20', '14', '21', '9', '25', '10', '8', '60', '12', '30', '28', '90', '180', '13', '61', '15', '62']\n",
      "\n",
      "Overall Rating (n = 42): \n",
      "[100.0, 90.0, nan, 99.0, 97.0, 94.0, 93.0, 80.0, 92.0, 98.0, 79.0, 75.0, 95.0, 88.0, 87.0, 96.0, 83.0, 86.0, 89.0, 91.0, 84.0, 60.0, 67.0, 73.0, 78.0, 70.0, 85.0, 77.0, 20.0, 76.0, 82.0, 50.0, 74.0, 40.0, 64.0, 81.0, 71.0, 68.0, 63.0, 72.0, 69.0, 65.0]\n",
      "\n",
      "Accuracy Rating (n = 8): \n",
      "[10.0, 9.0, nan, 6.0, 8.0, 7.0, 4.0, 2.0]\n",
      "\n",
      "Cleanliness Rating (n = 9): \n",
      "[10.0, 9.0, nan, 8.0, 7.0, 6.0, 5.0, 2.0, 4.0]\n",
      "\n",
      "Checkin Rating (n = 9): \n",
      "[10.0, nan, 9.0, 8.0, 6.0, 7.0, 2.0, 4.0, 5.0]\n",
      "\n",
      "Communication Rating (n = 9): \n",
      "[10.0, nan, 9.0, 8.0, 7.0, 2.0, 4.0, 6.0, 5.0]\n",
      "\n",
      "Location Rating (n = 8): \n",
      "[9.0, 10.0, nan, 8.0, 7.0, 6.0, 4.0, 2.0]\n",
      "\n",
      "Value Rating (n = 10): \n",
      "[10.0, 9.0, nan, 7.0, 8.0, 6.0, 2.0, 4.0, 5.0, 3.0]\n",
      "\n",
      "Instant Bookable (n = 2): \n",
      "['t', 'f']\n",
      "\n",
      "Business Travel Ready (n = 1): \n",
      "['f']\n",
      "\n"
     ]
    }
   ],
   "source": [
    "# Exploring the features with less than 200 DISTINCT values\n",
    "\n",
    "for feature in data.columns.tolist():\n",
    "    unique_list = data[feature].unique().tolist()\n",
    "    if len(unique_list) < 200:\n",
    "        print(f'{feature} (n = {len(unique_list)}): \\n{unique_list}\\n')"
   ]
  },
  {
   "cell_type": "code",
   "execution_count": 243,
   "metadata": {},
   "outputs": [
    {
     "data": {
      "text/plain": [
       "Listing ID               0.000064\n",
       "Listing Name             1.000000\n",
       "Host ID                  0.000000\n",
       "Host Name                0.001402\n",
       "Host Since               0.001338\n",
       "Host Response Time       0.450867\n",
       "Host Response Rate       0.461955\n",
       "Is Superhost             0.001466\n",
       "neighbourhood            0.012937\n",
       "Neighborhood Group       0.000000\n",
       "City                     0.003059\n",
       "Postal Code              0.070036\n",
       "Country Code             0.000000\n",
       "Country                  0.000000\n",
       "Latitude                 0.000000\n",
       "Longitude                0.000000\n",
       "Is Exact Location        0.000000\n",
       "Property Type            0.004780\n",
       "Room Type                0.000000\n",
       "Accomodates              0.001211\n",
       "Bathrooms                0.001593\n",
       "Bedrooms                 0.001020\n",
       "Beds                     0.001275\n",
       "Square Feet              0.980691\n",
       "Guests Included          0.000637\n",
       "Min Nights               0.015868\n",
       "Reviews                  0.000000\n",
       "First Review             0.172381\n",
       "Last Review              0.172445\n",
       "Overall Rating           0.188759\n",
       "Accuracy Rating          0.189332\n",
       "Cleanliness Rating       0.189268\n",
       "Checkin Rating           0.189460\n",
       "Communication Rating     0.189268\n",
       "Location Rating          0.189332\n",
       "Value Rating             0.189396\n",
       "Instant Bookable         0.000000\n",
       "Business Travel Ready    0.000000\n",
       "Price                    0.000574\n",
       "dtype: float64"
      ]
     },
     "execution_count": 243,
     "metadata": {},
     "output_type": "execute_result"
    }
   ],
   "source": [
    "# Checking the proportion of missing values for each feature\n",
    "\n",
    "data.isnull().sum()/data.shape[0]"
   ]
  },
  {
   "cell_type": "markdown",
   "metadata": {},
   "source": [
    "The preprocessing of the data will be done in two phases: the first one, the preliminary data preprocessing, will be common to all Machine Learning approaches that will be used in this project. Since different approaches require different preprocessings, the second phase will be specific to each one."
   ]
  },
  {
   "cell_type": "markdown",
   "metadata": {},
   "source": [
    "### Preliminary data preprocessing"
   ]
  },
  {
   "cell_type": "code",
   "execution_count": 244,
   "metadata": {},
   "outputs": [
    {
     "name": "stdout",
     "output_type": "stream",
     "text": [
      "Missing values per feature:\n",
      "\n",
      "Host Since          21\n",
      "Is Superhost        23\n",
      "Property Type       75\n",
      "Accomodates         19\n",
      "Bathrooms           25\n",
      "Bedrooms            16\n",
      "Beds                20\n",
      "Guests Included     10\n",
      "Min Nights         249\n",
      "Price                9\n",
      "dtype: int64\n",
      "\n",
      "Proportion of instances with missing values in the aforementioned features:\n",
      "\n",
      "0.02976038745857762\n"
     ]
    }
   ],
   "source": [
    "few_missing = data[[\"Host Since\",\n",
    "                    \"Is Superhost\",\n",
    "                    \"Property Type\",\n",
    "                    \"Accomodates\",\n",
    "                    \"Bathrooms\",\n",
    "                    \"Bedrooms\",\n",
    "                    \"Beds\",\n",
    "                    \"Guests Included\",\n",
    "                    \"Min Nights\",\n",
    "                    \"Price\"]].isnull().sum()\n",
    "\n",
    "print(f\"Missing values per feature:\\n\\n{few_missing}\\n\")\n",
    "\n",
    "# Proportion of instances with missing values in the aforementioned features\n",
    "\n",
    "few_missing_prop = few_missing.sum()/data.shape[0]\n",
    "\n",
    "print(f\"Proportion of instances with missing values in the aforementioned features:\\n\\n{few_missing_prop}\")"
   ]
  },
  {
   "cell_type": "markdown",
   "metadata": {},
   "source": [
    "The instances with missing values in the aforementioned attributes represent merely 3% of the entire dataset (as given above by *few_missing_prop*). We can therefore reasonably assume they are Missing Completely At Random (MCAR), which allows us to perform listwise deletion."
   ]
  },
  {
   "cell_type": "code",
   "execution_count": 245,
   "metadata": {},
   "outputs": [],
   "source": [
    "def preliminary_preprocessing(data):\n",
    "\n",
    "    # We remove all features that are deemed irrelevant for the price prediction\n",
    "\n",
    "    data_clean = data.drop([\"Host Name\",\n",
    "                            \"Host ID\",\n",
    "                            \"Listing ID\",\n",
    "                            \"Listing Name\",\n",
    "                            \"neighbourhood\",\n",
    "                            \"City\",\n",
    "                            \"Country Code\",\n",
    "                            \"Country\",\n",
    "                            \"Postal Code\",\n",
    "                            \"Square Feet\", \n",
    "                            \"First Review\",\n",
    "                            \"Last Review\",\n",
    "                            \"Business Travel Ready\"], axis=1)\n",
    "\n",
    "    # Removing instances with NaNs in the aforementioned features \n",
    "\n",
    "    data_clean = data_clean.dropna(subset=[\"Host Since\",\n",
    "                                           \"Is Superhost\",\n",
    "                                           \"Property Type\",\n",
    "                                           \"Accomodates\",\n",
    "                                           \"Bathrooms\",\n",
    "                                           \"Bedrooms\",\n",
    "                                           \"Beds\",\n",
    "                                           \"Guests Included\",\n",
    "                                           \"Min Nights\",\n",
    "                                           \"Price\"])\n",
    "\n",
    "    # Let's fill NaN values by \"unknown\" where we can\n",
    "\n",
    "    data_clean = data_clean.replace({\"Host Response Time\": np.nan}, \"unknown\")\n",
    "\n",
    "    # Replacing binary values by 0 and 1\n",
    "\n",
    "    data_clean = data_clean.replace({\"Is Superhost\": \"t\"}, 1)\n",
    "    data_clean = data_clean.replace({\"Is Superhost\": \"f\"}, 0)\n",
    "    data_clean[\"Is Superhost\"] = data_clean[\"Is Superhost\"].astype(float)    \n",
    "\n",
    "    data_clean = data_clean.replace({\"Is Exact Location\": \"t\"}, 1)\n",
    "    data_clean = data_clean.replace({\"Is Exact Location\": \"f\"}, 0)\n",
    "    data_clean[\"Is Exact Location\"] = data_clean[\"Is Exact Location\"].astype(float)\n",
    "\n",
    "    data_clean = data_clean.replace({\"Instant Bookable\": \"t\"}, 1)\n",
    "    data_clean = data_clean.replace({\"Instant Bookable\": \"f\"}, 0)\n",
    "    data_clean[\"Instant Bookable\"] = data_clean[\"Instant Bookable\"].astype(float)\n",
    "\n",
    "    # Converting certain numeric features into floats (they were strings)\n",
    "\n",
    "    data_clean[\"Accomodates\"] = data_clean[\"Accomodates\"].astype(float)\n",
    "    data_clean[\"Bathrooms\"] = data_clean[\"Bathrooms\"].astype(float)\n",
    "    data_clean[\"Bedrooms\"] = data_clean[\"Bedrooms\"].astype(float)      \n",
    "    data_clean[\"Beds\"] = data_clean[\"Beds\"].astype(float)          \n",
    "    data_clean[\"Guests Included\"] = data_clean[\"Guests Included\"].astype(float)\n",
    "    data_clean[\"Min Nights\"] = data_clean[\"Min Nights\"].astype(float)\n",
    "\n",
    "    # String to float for 'Host Response Rate' (removing the '%')\n",
    "\n",
    "    data_clean[\"Host Response Rate\"] = data_clean[\"Host Response Rate\"].str.rstrip(\"%\").astype(float)\n",
    "\n",
    "    # Changing host since into continous form\n",
    "\n",
    "    data_clean[\"Host Since\"] = pd.to_datetime(data_clean[\"Host Since\"])\n",
    "    most_recent =  max(data_clean[\"Host Since\"])\n",
    "    seniority = [(most_recent-x).days for x in data_clean[\"Host Since\"]]\n",
    "    data_clean[\"Host Since\"] = seniority\n",
    "\n",
    "    # One-hot encoding for categorical values\n",
    "\n",
    "    dummies_response_time  = pd.get_dummies(data_clean[[\"Host Response Time\"]])\n",
    "    dummies_property_type = pd.get_dummies(data_clean[[\"Property Type\"]])\n",
    "    dummies_room_type = pd.get_dummies(data_clean[[\"Room Type\"]])\n",
    "\n",
    "    X_ = data_clean.drop([\"Host Response Time\", \"Property Type\", \"Room Type\"], axis=1)\n",
    "    data_clean_final = pd.concat([X_, dummies_response_time, dummies_property_type, dummies_room_type], axis=1)\n",
    "    \n",
    "    return data_clean_final"
   ]
  },
  {
   "cell_type": "markdown",
   "metadata": {},
   "source": [
    "**Nota Bene:** Since \"Host Response Time\" is an **ordinal** categorical feature, we would have liked to encode it with numeric values (e.g., \"within an hour\" = 1, \"within a few hours\" = 2, so that \"within an hour\" < \"within a few hours\", and so on), but because of the missing values, we had to one-hot encode it."
   ]
  },
  {
   "cell_type": "code",
   "execution_count": 246,
   "metadata": {},
   "outputs": [],
   "source": [
    "data_clean = preliminary_preprocessing(data)"
   ]
  },
  {
   "cell_type": "code",
   "execution_count": 247,
   "metadata": {},
   "outputs": [
    {
     "data": {
      "text/plain": [
       "array([[<matplotlib.axes._subplots.AxesSubplot object at 0x7faad5328f98>,\n",
       "        <matplotlib.axes._subplots.AxesSubplot object at 0x7faad3c1f6a0>,\n",
       "        <matplotlib.axes._subplots.AxesSubplot object at 0x7faad3b92eb8>,\n",
       "        <matplotlib.axes._subplots.AxesSubplot object at 0x7faad0c7d048>,\n",
       "        <matplotlib.axes._subplots.AxesSubplot object at 0x7faad357a240>,\n",
       "        <matplotlib.axes._subplots.AxesSubplot object at 0x7faad35a57f0>,\n",
       "        <matplotlib.axes._subplots.AxesSubplot object at 0x7faad0d5fda0>],\n",
       "       [<matplotlib.axes._subplots.AxesSubplot object at 0x7faad1e883c8>,\n",
       "        <matplotlib.axes._subplots.AxesSubplot object at 0x7faad1e88400>,\n",
       "        <matplotlib.axes._subplots.AxesSubplot object at 0x7faad3d42ef0>,\n",
       "        <matplotlib.axes._subplots.AxesSubplot object at 0x7faad41744e0>,\n",
       "        <matplotlib.axes._subplots.AxesSubplot object at 0x7faad41a6a90>,\n",
       "        <matplotlib.axes._subplots.AxesSubplot object at 0x7faad42df080>,\n",
       "        <matplotlib.axes._subplots.AxesSubplot object at 0x7faad4522630>],\n",
       "       [<matplotlib.axes._subplots.AxesSubplot object at 0x7faad4555be0>,\n",
       "        <matplotlib.axes._subplots.AxesSubplot object at 0x7faad45931d0>,\n",
       "        <matplotlib.axes._subplots.AxesSubplot object at 0x7faad45c3780>,\n",
       "        <matplotlib.axes._subplots.AxesSubplot object at 0x7faad45f4d30>,\n",
       "        <matplotlib.axes._subplots.AxesSubplot object at 0x7faad4632320>,\n",
       "        <matplotlib.axes._subplots.AxesSubplot object at 0x7faad46638d0>,\n",
       "        <matplotlib.axes._subplots.AxesSubplot object at 0x7faad4696e80>],\n",
       "       [<matplotlib.axes._subplots.AxesSubplot object at 0x7faad46d3470>,\n",
       "        <matplotlib.axes._subplots.AxesSubplot object at 0x7faad4702a20>,\n",
       "        <matplotlib.axes._subplots.AxesSubplot object at 0x7faad4735fd0>,\n",
       "        <matplotlib.axes._subplots.AxesSubplot object at 0x7faad47715c0>,\n",
       "        <matplotlib.axes._subplots.AxesSubplot object at 0x7faad47a2b70>,\n",
       "        <matplotlib.axes._subplots.AxesSubplot object at 0x7faad5354160>,\n",
       "        <matplotlib.axes._subplots.AxesSubplot object at 0x7faad5385710>],\n",
       "       [<matplotlib.axes._subplots.AxesSubplot object at 0x7faad53b6cc0>,\n",
       "        <matplotlib.axes._subplots.AxesSubplot object at 0x7faad53f32b0>,\n",
       "        <matplotlib.axes._subplots.AxesSubplot object at 0x7faad5424860>,\n",
       "        <matplotlib.axes._subplots.AxesSubplot object at 0x7faad54abe10>,\n",
       "        <matplotlib.axes._subplots.AxesSubplot object at 0x7faad56a9400>,\n",
       "        <matplotlib.axes._subplots.AxesSubplot object at 0x7faad58059b0>,\n",
       "        <matplotlib.axes._subplots.AxesSubplot object at 0x7faad5836f60>],\n",
       "       [<matplotlib.axes._subplots.AxesSubplot object at 0x7faad5874550>,\n",
       "        <matplotlib.axes._subplots.AxesSubplot object at 0x7faad58a5b00>,\n",
       "        <matplotlib.axes._subplots.AxesSubplot object at 0x7faad58e30f0>,\n",
       "        <matplotlib.axes._subplots.AxesSubplot object at 0x7faad59156a0>,\n",
       "        <matplotlib.axes._subplots.AxesSubplot object at 0x7faad5a9ac50>,\n",
       "        <matplotlib.axes._subplots.AxesSubplot object at 0x7faad5ad8240>,\n",
       "        <matplotlib.axes._subplots.AxesSubplot object at 0x7faad5b067f0>],\n",
       "       [<matplotlib.axes._subplots.AxesSubplot object at 0x7faad5b3bda0>,\n",
       "        <matplotlib.axes._subplots.AxesSubplot object at 0x7faad5b79390>,\n",
       "        <matplotlib.axes._subplots.AxesSubplot object at 0x7faad5ba7940>,\n",
       "        <matplotlib.axes._subplots.AxesSubplot object at 0x7faad5e05ef0>,\n",
       "        <matplotlib.axes._subplots.AxesSubplot object at 0x7faad5e404e0>,\n",
       "        <matplotlib.axes._subplots.AxesSubplot object at 0x7faad5e71a90>,\n",
       "        <matplotlib.axes._subplots.AxesSubplot object at 0x7faad6034080>]],\n",
       "      dtype=object)"
      ]
     },
     "execution_count": 247,
     "metadata": {},
     "output_type": "execute_result"
    },
    {
     "data": {
      "image/png": "[encoded data removed]",
      "text/plain": [
       "<Figure size 2160x1440 with 49 Axes>"
      ]
     },
     "metadata": {
      "needs_background": "light"
     },
     "output_type": "display_data"
    }
   ],
   "source": [
    "# Visualizing the distributions of the features in data_clean\n",
    "\n",
    "data_clean.hist(figsize=(30,20),bins=18)"
   ]
  },
  {
   "cell_type": "code",
   "execution_count": 248,
   "metadata": {},
   "outputs": [
    {
     "name": "stdout",
     "output_type": "stream",
     "text": [
      "['Host Response Rate', 'Overall Rating', 'Accuracy Rating', 'Cleanliness Rating', 'Checkin Rating', 'Communication Rating', 'Location Rating', 'Value Rating']\n"
     ]
    },
    {
     "data": {
      "text/plain": [
       "Host Response Rate      0.462737\n",
       "Overall Rating          0.184479\n",
       "Accuracy Rating         0.185069\n",
       "Cleanliness Rating      0.185003\n",
       "Checkin Rating          0.185200\n",
       "Communication Rating    0.185003\n",
       "Location Rating         0.185069\n",
       "Value Rating            0.185134\n",
       "dtype: float64"
      ]
     },
     "execution_count": 248,
     "metadata": {},
     "output_type": "execute_result"
    }
   ],
   "source": [
    "# Checking the proportion of missing values for the attributes where there are some left\n",
    "\n",
    "features_missing = [feature for feature in data_clean.columns.tolist() if data_clean[feature].isna().sum()>0]\n",
    "print(features_missing)\n",
    "\n",
    "data_clean[features_missing].isna().sum()/data_clean.shape[0]"
   ]
  },
  {
   "cell_type": "markdown",
   "metadata": {},
   "source": [
    "We see that the proportion of missing values for these features is way too high to perform listwise selection. In order to preserve our data set, we have to impute them."
   ]
  },
  {
   "cell_type": "markdown",
   "metadata": {},
   "source": [
    "## Specific data preprocessing"
   ]
  },
  {
   "cell_type": "markdown",
   "metadata": {},
   "source": [
    "We will begin by taking care of the remaining missing values. We will perform both univariate and multivariate feature imputation, making sure that the requirements for such methods are met.\n",
    "\n",
    "For univariate imputation, we will use the following strategies:\n",
    "\n",
    "- mean\n",
    "- median\n",
    "- most frequent value\n",
    "\n",
    "For multivariate imputation, reserved for features that are Missing At Random (MAR), we will estimate the missing values of a feature by using the observed values of all the features.\n",
    "\n",
    "All decision trees use np.float32 arrays internally, so we need to make sure all features can be represented by floats: all the remaining nominal categorical features will be encoded into one-hot encoders.\n",
    "\n",
    "Additionally, to avoid any bias towards dominant classes, we will perform feature scaling using two approaches: min-max scaling and standardization."
   ]
  },
  {
   "cell_type": "code",
   "execution_count": null,
   "metadata": {},
   "outputs": [],
   "source": []
  },
  {
   "cell_type": "markdown",
   "metadata": {},
   "source": [
    "## Dimension Reduction"
   ]
  },
  {
   "cell_type": "markdown",
   "metadata": {},
   "source": [
    "### Feature Selection"
   ]
  },
  {
   "cell_type": "code",
   "execution_count": 210,
   "metadata": {},
   "outputs": [],
   "source": [
    "from sklearn import tree\n",
    "from sklearn import model_selection\n",
    "from sklearn.pipeline import Pipeline\n",
    "\n",
    "clf = tree.DecisionTreeRegressor().fit(X_train, y_train)\n",
    "kf_10 = model_selection.KFold(n_splits=10, shuffle=True, random_state=0)\n",
    "\n",
    "def processSubset(feature_set):\n",
    "    \n",
    "    # Fit decision tree model on feature_set and calculate score\n",
    "    score = -1 * model_selection.cross_val_score(clf,\n",
    "                                                 X_train[list(feature_set)],\n",
    "                                                 y_train.ravel(),\n",
    "                                                 cv=kf_10,\n",
    "                                                 scoring='neg_mean_squared_error').mean()\n",
    "\n",
    "    return {\"model\": list(feature_set), \"RSS\": score}"
   ]
  },
  {
   "cell_type": "markdown",
   "metadata": {},
   "source": [
    "#### Best Subset Selection"
   ]
  },
  {
   "cell_type": "code",
   "execution_count": 211,
   "metadata": {},
   "outputs": [],
   "source": [
    "###"
   ]
  },
  {
   "cell_type": "markdown",
   "metadata": {},
   "source": [
    "#### Forward Stepwise Selection"
   ]
  },
  {
   "cell_type": "code",
   "execution_count": 212,
   "metadata": {},
   "outputs": [],
   "source": [
    "import itertools\n",
    "import time\n",
    "from tqdm import tqdm\n",
    "\n",
    "def forward(features):\n",
    "    \n",
    "    # Pull out features we still need to process\n",
    "    remaining_features = [d for d in X_train.columns if d not in features]\n",
    "\n",
    "    tic = time.time()\n",
    "    \n",
    "    results = []\n",
    "    \n",
    "    for d in remaining_features:\n",
    "        results.append(processSubset(features+[d]))\n",
    "    \n",
    "    # Wrap everything up in a nice dataframe\n",
    "    models = pd.DataFrame(results)\n",
    "    \n",
    "    \n",
    "    # Choose the model with the lowest RSS\n",
    "    best_model = models.loc[models['RSS'].idxmin()]\n",
    "    \n",
    "    toc = time.time()     \n",
    "\n",
    "    print(\"Processed\", models.shape[0], \"models on\", len(features)+1, \"features in\", (toc-tic), \"seconds.\")\n",
    "    \n",
    "    # Return the best model, along with some other useful information about the model\n",
    "    return best_model"
   ]
  },
  {
   "cell_type": "code",
   "execution_count": 220,
   "metadata": {},
   "outputs": [
    {
     "name": "stderr",
     "output_type": "stream",
     "text": [
      "\n",
      "\n",
      "\n",
      "\n",
      "\n",
      "\n",
      "\n",
      "  0%|          | 0/58 [00:00<?, ?it/s]\u001b[A\u001b[A\u001b[A\u001b[A\u001b[A\u001b[A\u001b[A\n",
      "\n",
      "\n",
      "\n",
      "\n",
      "\n",
      "\n",
      "  2%|▏         | 1/58 [00:02<02:15,  2.38s/it]\u001b[A\u001b[A\u001b[A\u001b[A\u001b[A\u001b[A\u001b[A"
     ]
    },
    {
     "name": "stdout",
     "output_type": "stream",
     "text": [
      "Processed 58 models on 1 features in 2.375364065170288 seconds.\n",
      "['Accomodates']\n"
     ]
    },
    {
     "name": "stderr",
     "output_type": "stream",
     "text": [
      "\n",
      "\n",
      "\n",
      "\n",
      "\n",
      "\n",
      "\n",
      "  3%|▎         | 2/58 [00:05<02:18,  2.47s/it]\u001b[A\u001b[A\u001b[A\u001b[A\u001b[A\u001b[A\u001b[A"
     ]
    },
    {
     "name": "stdout",
     "output_type": "stream",
     "text": [
      "Processed 57 models on 2 features in 2.669595241546631 seconds.\n",
      "['Accomodates', 'Room Type_Entire home/apt']\n"
     ]
    },
    {
     "name": "stderr",
     "output_type": "stream",
     "text": [
      "\n",
      "\n",
      "\n",
      "\n",
      "\n",
      "\n",
      "\n",
      "  5%|▌         | 3/58 [00:08<02:30,  2.73s/it]\u001b[A\u001b[A\u001b[A\u001b[A\u001b[A\u001b[A\u001b[A"
     ]
    },
    {
     "name": "stdout",
     "output_type": "stream",
     "text": [
      "Processed 56 models on 3 features in 3.3339319229125977 seconds.\n",
      "['Accomodates', 'Room Type_Entire home/apt', 'Bathrooms']\n"
     ]
    },
    {
     "name": "stderr",
     "output_type": "stream",
     "text": [
      "\n",
      "\n",
      "\n",
      "\n",
      "\n",
      "\n",
      "\n",
      "  7%|▋         | 4/58 [00:12<02:45,  3.07s/it]\u001b[A\u001b[A\u001b[A\u001b[A\u001b[A\u001b[A\u001b[A"
     ]
    },
    {
     "name": "stdout",
     "output_type": "stream",
     "text": [
      "Processed 55 models on 4 features in 3.84582781791687 seconds.\n",
      "['Accomodates', 'Room Type_Entire home/apt', 'Bathrooms', 'Host Response Time_unknown']\n"
     ]
    },
    {
     "name": "stderr",
     "output_type": "stream",
     "text": [
      "\n",
      "\n",
      "\n",
      "\n",
      "\n",
      "\n",
      "\n",
      "  9%|▊         | 5/58 [00:16<03:00,  3.41s/it]\u001b[A\u001b[A\u001b[A\u001b[A\u001b[A\u001b[A\u001b[A"
     ]
    },
    {
     "name": "stdout",
     "output_type": "stream",
     "text": [
      "Processed 54 models on 5 features in 4.206762313842773 seconds.\n",
      "['Accomodates', 'Room Type_Entire home/apt', 'Bathrooms', 'Host Response Time_unknown', 'Property Type_Hotel']\n"
     ]
    },
    {
     "name": "stderr",
     "output_type": "stream",
     "text": [
      "\n",
      "\n",
      "\n",
      "\n",
      "\n",
      "\n",
      "\n",
      " 10%|█         | 6/58 [00:20<03:08,  3.63s/it]\u001b[A\u001b[A\u001b[A\u001b[A\u001b[A\u001b[A\u001b[A"
     ]
    },
    {
     "name": "stdout",
     "output_type": "stream",
     "text": [
      "Processed 53 models on 6 features in 4.150422096252441 seconds.\n",
      "['Accomodates', 'Room Type_Entire home/apt', 'Bathrooms', 'Host Response Time_unknown', 'Property Type_Hotel', 'Property Type_Boutique hotel']\n"
     ]
    },
    {
     "name": "stderr",
     "output_type": "stream",
     "text": [
      "\n",
      "\n",
      "\n",
      "\n",
      "\n",
      "\n",
      "\n",
      " 12%|█▏        | 7/58 [00:24<03:12,  3.78s/it]\u001b[A\u001b[A\u001b[A\u001b[A\u001b[A\u001b[A\u001b[A"
     ]
    },
    {
     "name": "stdout",
     "output_type": "stream",
     "text": [
      "Processed 52 models on 7 features in 4.105104923248291 seconds.\n",
      "['Accomodates', 'Room Type_Entire home/apt', 'Bathrooms', 'Host Response Time_unknown', 'Property Type_Hotel', 'Property Type_Boutique hotel', 'Property Type_Hostel']\n"
     ]
    },
    {
     "name": "stderr",
     "output_type": "stream",
     "text": [
      "\n",
      "\n",
      "\n",
      "\n",
      "\n",
      "\n",
      "\n",
      " 14%|█▍        | 8/58 [00:29<03:16,  3.93s/it]\u001b[A\u001b[A\u001b[A\u001b[A\u001b[A\u001b[A\u001b[A"
     ]
    },
    {
     "name": "stdout",
     "output_type": "stream",
     "text": [
      "Processed 51 models on 8 features in 4.291638135910034 seconds.\n",
      "['Accomodates', 'Room Type_Entire home/apt', 'Bathrooms', 'Host Response Time_unknown', 'Property Type_Hotel', 'Property Type_Boutique hotel', 'Property Type_Hostel', 'Steglitz - Zehlendorf']\n"
     ]
    },
    {
     "name": "stderr",
     "output_type": "stream",
     "text": [
      "\n",
      "\n",
      "\n",
      "\n",
      "\n",
      "\n",
      "\n",
      " 16%|█▌        | 9/58 [00:33<03:27,  4.24s/it]\u001b[A\u001b[A\u001b[A\u001b[A\u001b[A\u001b[A\u001b[A"
     ]
    },
    {
     "name": "stdout",
     "output_type": "stream",
     "text": [
      "Processed 50 models on 9 features in 4.9668638706207275 seconds.\n",
      "['Accomodates', 'Room Type_Entire home/apt', 'Bathrooms', 'Host Response Time_unknown', 'Property Type_Hotel', 'Property Type_Boutique hotel', 'Property Type_Hostel', 'Steglitz - Zehlendorf', 'Property Type_Other']\n"
     ]
    },
    {
     "name": "stderr",
     "output_type": "stream",
     "text": [
      "\n",
      "\n",
      "\n",
      "\n",
      "\n",
      "\n",
      "\n",
      " 17%|█▋        | 10/58 [00:39<03:43,  4.66s/it]\u001b[A\u001b[A\u001b[A\u001b[A\u001b[A\u001b[A\u001b[A"
     ]
    },
    {
     "name": "stdout",
     "output_type": "stream",
     "text": [
      "Processed 49 models on 10 features in 5.625663995742798 seconds.\n",
      "['Accomodates', 'Room Type_Entire home/apt', 'Bathrooms', 'Host Response Time_unknown', 'Property Type_Hotel', 'Property Type_Boutique hotel', 'Property Type_Hostel', 'Steglitz - Zehlendorf', 'Property Type_Other', 'Property Type_Boat']\n"
     ]
    },
    {
     "name": "stderr",
     "output_type": "stream",
     "text": [
      "\n",
      "\n",
      "\n",
      "\n",
      "\n",
      "\n",
      "\n",
      " 19%|█▉        | 11/58 [00:45<03:49,  4.88s/it]\u001b[A\u001b[A\u001b[A\u001b[A\u001b[A\u001b[A\u001b[A"
     ]
    },
    {
     "name": "stdout",
     "output_type": "stream",
     "text": [
      "Processed 48 models on 11 features in 5.39293909072876 seconds.\n",
      "['Accomodates', 'Room Type_Entire home/apt', 'Bathrooms', 'Host Response Time_unknown', 'Property Type_Hotel', 'Property Type_Boutique hotel', 'Property Type_Hostel', 'Steglitz - Zehlendorf', 'Property Type_Other', 'Property Type_Boat', 'Reinickendorf']\n"
     ]
    },
    {
     "name": "stderr",
     "output_type": "stream",
     "text": [
      "\n",
      "\n",
      "\n",
      "\n",
      "\n",
      "\n",
      "\n",
      " 21%|██        | 12/58 [00:50<03:49,  4.98s/it]\u001b[A\u001b[A\u001b[A\u001b[A\u001b[A\u001b[A\u001b[A"
     ]
    },
    {
     "name": "stdout",
     "output_type": "stream",
     "text": [
      "Processed 47 models on 12 features in 5.216602087020874 seconds.\n",
      "['Accomodates', 'Room Type_Entire home/apt', 'Bathrooms', 'Host Response Time_unknown', 'Property Type_Hotel', 'Property Type_Boutique hotel', 'Property Type_Hostel', 'Steglitz - Zehlendorf', 'Property Type_Other', 'Property Type_Boat', 'Reinickendorf', 'Property Type_Guesthouse']\n"
     ]
    },
    {
     "name": "stderr",
     "output_type": "stream",
     "text": [
      "\n",
      "\n",
      "\n",
      "\n",
      "\n",
      "\n",
      "\n",
      " 22%|██▏       | 13/58 [00:55<03:44,  5.00s/it]\u001b[A\u001b[A\u001b[A\u001b[A\u001b[A\u001b[A\u001b[A"
     ]
    },
    {
     "name": "stdout",
     "output_type": "stream",
     "text": [
      "Processed 46 models on 13 features in 5.024316072463989 seconds.\n",
      "['Accomodates', 'Room Type_Entire home/apt', 'Bathrooms', 'Host Response Time_unknown', 'Property Type_Hotel', 'Property Type_Boutique hotel', 'Property Type_Hostel', 'Steglitz - Zehlendorf', 'Property Type_Other', 'Property Type_Boat', 'Reinickendorf', 'Property Type_Guesthouse', 'Property Type_Bungalow']\n"
     ]
    },
    {
     "name": "stderr",
     "output_type": "stream",
     "text": [
      "\n",
      "\n",
      "\n",
      "\n",
      "\n",
      "\n",
      "\n",
      " 24%|██▍       | 14/58 [01:00<03:42,  5.06s/it]\u001b[A\u001b[A\u001b[A\u001b[A\u001b[A\u001b[A\u001b[A"
     ]
    },
    {
     "name": "stdout",
     "output_type": "stream",
     "text": [
      "Processed 45 models on 14 features in 5.20753812789917 seconds.\n",
      "['Accomodates', 'Room Type_Entire home/apt', 'Bathrooms', 'Host Response Time_unknown', 'Property Type_Hotel', 'Property Type_Boutique hotel', 'Property Type_Hostel', 'Steglitz - Zehlendorf', 'Property Type_Other', 'Property Type_Boat', 'Reinickendorf', 'Property Type_Guesthouse', 'Property Type_Bungalow', 'Property Type_Bed and breakfast']\n"
     ]
    },
    {
     "name": "stderr",
     "output_type": "stream",
     "text": [
      "\n",
      "\n",
      "\n",
      "\n",
      "\n",
      "\n",
      "\n",
      " 26%|██▌       | 15/58 [01:05<03:40,  5.12s/it]\u001b[A\u001b[A\u001b[A\u001b[A\u001b[A\u001b[A\u001b[A"
     ]
    },
    {
     "name": "stdout",
     "output_type": "stream",
     "text": [
      "Processed 44 models on 15 features in 5.2563560009002686 seconds.\n",
      "['Accomodates', 'Room Type_Entire home/apt', 'Bathrooms', 'Host Response Time_unknown', 'Property Type_Hotel', 'Property Type_Boutique hotel', 'Property Type_Hostel', 'Steglitz - Zehlendorf', 'Property Type_Other', 'Property Type_Boat', 'Reinickendorf', 'Property Type_Guesthouse', 'Property Type_Bungalow', 'Property Type_Bed and breakfast', 'Property Type_Guest suite']\n"
     ]
    },
    {
     "name": "stderr",
     "output_type": "stream",
     "text": [
      "\n",
      "\n",
      "\n",
      "\n",
      "\n",
      "\n",
      "\n",
      " 28%|██▊       | 16/58 [01:11<03:39,  5.22s/it]\u001b[A\u001b[A\u001b[A\u001b[A\u001b[A\u001b[A\u001b[A"
     ]
    },
    {
     "name": "stdout",
     "output_type": "stream",
     "text": [
      "Processed 43 models on 16 features in 5.445655107498169 seconds.\n",
      "['Accomodates', 'Room Type_Entire home/apt', 'Bathrooms', 'Host Response Time_unknown', 'Property Type_Hotel', 'Property Type_Boutique hotel', 'Property Type_Hostel', 'Steglitz - Zehlendorf', 'Property Type_Other', 'Property Type_Boat', 'Reinickendorf', 'Property Type_Guesthouse', 'Property Type_Bungalow', 'Property Type_Bed and breakfast', 'Property Type_Guest suite', 'Property Type_Condominium']\n"
     ]
    },
    {
     "name": "stderr",
     "output_type": "stream",
     "text": [
      "\n",
      "\n",
      "\n",
      "\n",
      "\n",
      "\n",
      "\n",
      " 29%|██▉       | 17/58 [01:17<03:42,  5.42s/it]\u001b[A\u001b[A\u001b[A\u001b[A\u001b[A\u001b[A\u001b[A"
     ]
    },
    {
     "name": "stdout",
     "output_type": "stream",
     "text": [
      "Processed 42 models on 17 features in 5.899734020233154 seconds.\n",
      "['Accomodates', 'Room Type_Entire home/apt', 'Bathrooms', 'Host Response Time_unknown', 'Property Type_Hotel', 'Property Type_Boutique hotel', 'Property Type_Hostel', 'Steglitz - Zehlendorf', 'Property Type_Other', 'Property Type_Boat', 'Reinickendorf', 'Property Type_Guesthouse', 'Property Type_Bungalow', 'Property Type_Bed and breakfast', 'Property Type_Guest suite', 'Property Type_Condominium', 'Room Type_Shared room']\n"
     ]
    },
    {
     "name": "stderr",
     "output_type": "stream",
     "text": [
      "\n",
      "\n",
      "\n",
      "\n",
      "\n",
      "\n",
      "\n",
      " 31%|███       | 18/58 [01:22<03:42,  5.55s/it]\u001b[A\u001b[A\u001b[A\u001b[A\u001b[A\u001b[A\u001b[A"
     ]
    },
    {
     "name": "stdout",
     "output_type": "stream",
     "text": [
      "Processed 41 models on 18 features in 5.842103958129883 seconds.\n",
      "['Accomodates', 'Room Type_Entire home/apt', 'Bathrooms', 'Host Response Time_unknown', 'Property Type_Hotel', 'Property Type_Boutique hotel', 'Property Type_Hostel', 'Steglitz - Zehlendorf', 'Property Type_Other', 'Property Type_Boat', 'Reinickendorf', 'Property Type_Guesthouse', 'Property Type_Bungalow', 'Property Type_Bed and breakfast', 'Property Type_Guest suite', 'Property Type_Condominium', 'Room Type_Shared room', 'Room Type_Private room']\n"
     ]
    },
    {
     "name": "stderr",
     "output_type": "stream",
     "text": [
      "\n",
      "\n",
      "\n",
      "\n",
      "\n",
      "\n",
      "\n",
      " 33%|███▎      | 19/58 [01:29<03:45,  5.77s/it]\u001b[A\u001b[A\u001b[A\u001b[A\u001b[A\u001b[A\u001b[A"
     ]
    },
    {
     "name": "stdout",
     "output_type": "stream",
     "text": [
      "Processed 40 models on 19 features in 6.291388750076294 seconds.\n",
      "['Accomodates', 'Room Type_Entire home/apt', 'Bathrooms', 'Host Response Time_unknown', 'Property Type_Hotel', 'Property Type_Boutique hotel', 'Property Type_Hostel', 'Steglitz - Zehlendorf', 'Property Type_Other', 'Property Type_Boat', 'Reinickendorf', 'Property Type_Guesthouse', 'Property Type_Bungalow', 'Property Type_Bed and breakfast', 'Property Type_Guest suite', 'Property Type_Condominium', 'Room Type_Shared room', 'Room Type_Private room', 'Spandau']\n"
     ]
    },
    {
     "name": "stderr",
     "output_type": "stream",
     "text": [
      "\n",
      "\n",
      "\n",
      "\n",
      "\n",
      "\n",
      "\n",
      " 34%|███▍      | 20/58 [01:35<03:44,  5.91s/it]\u001b[A\u001b[A\u001b[A\u001b[A\u001b[A\u001b[A\u001b[A"
     ]
    },
    {
     "name": "stdout",
     "output_type": "stream",
     "text": [
      "Processed 39 models on 20 features in 6.22791862487793 seconds.\n",
      "['Accomodates', 'Room Type_Entire home/apt', 'Bathrooms', 'Host Response Time_unknown', 'Property Type_Hotel', 'Property Type_Boutique hotel', 'Property Type_Hostel', 'Steglitz - Zehlendorf', 'Property Type_Other', 'Property Type_Boat', 'Reinickendorf', 'Property Type_Guesthouse', 'Property Type_Bungalow', 'Property Type_Bed and breakfast', 'Property Type_Guest suite', 'Property Type_Condominium', 'Room Type_Shared room', 'Room Type_Private room', 'Spandau', 'Host Response Time_a few days or more']\n"
     ]
    },
    {
     "name": "stderr",
     "output_type": "stream",
     "text": [
      "\n",
      "\n",
      "\n",
      "\n",
      "\n",
      "\n",
      "\n",
      " 36%|███▌      | 21/58 [01:41<03:42,  6.03s/it]\u001b[A\u001b[A\u001b[A\u001b[A\u001b[A\u001b[A\u001b[A"
     ]
    },
    {
     "name": "stdout",
     "output_type": "stream",
     "text": [
      "Processed 38 models on 21 features in 6.289124011993408 seconds.\n",
      "['Accomodates', 'Room Type_Entire home/apt', 'Bathrooms', 'Host Response Time_unknown', 'Property Type_Hotel', 'Property Type_Boutique hotel', 'Property Type_Hostel', 'Steglitz - Zehlendorf', 'Property Type_Other', 'Property Type_Boat', 'Reinickendorf', 'Property Type_Guesthouse', 'Property Type_Bungalow', 'Property Type_Bed and breakfast', 'Property Type_Guest suite', 'Property Type_Condominium', 'Room Type_Shared room', 'Room Type_Private room', 'Spandau', 'Host Response Time_a few days or more', 'Property Type_Townhouse']\n"
     ]
    },
    {
     "name": "stderr",
     "output_type": "stream",
     "text": [
      "\n",
      "\n",
      "\n",
      "\n",
      "\n",
      "\n",
      "\n",
      " 38%|███▊      | 22/58 [01:48<03:41,  6.16s/it]\u001b[A\u001b[A\u001b[A\u001b[A\u001b[A\u001b[A\u001b[A"
     ]
    },
    {
     "name": "stdout",
     "output_type": "stream",
     "text": [
      "Processed 37 models on 22 features in 6.452808141708374 seconds.\n",
      "['Accomodates', 'Room Type_Entire home/apt', 'Bathrooms', 'Host Response Time_unknown', 'Property Type_Hotel', 'Property Type_Boutique hotel', 'Property Type_Hostel', 'Steglitz - Zehlendorf', 'Property Type_Other', 'Property Type_Boat', 'Reinickendorf', 'Property Type_Guesthouse', 'Property Type_Bungalow', 'Property Type_Bed and breakfast', 'Property Type_Guest suite', 'Property Type_Condominium', 'Room Type_Shared room', 'Room Type_Private room', 'Spandau', 'Host Response Time_a few days or more', 'Property Type_Townhouse', 'Lichtenberg']\n"
     ]
    },
    {
     "name": "stderr",
     "output_type": "stream",
     "text": [
      "\n",
      "\n",
      "\n",
      "\n",
      "\n",
      "\n",
      "\n",
      " 40%|███▉      | 23/58 [01:54<03:38,  6.23s/it]\u001b[A\u001b[A\u001b[A\u001b[A\u001b[A\u001b[A\u001b[A"
     ]
    },
    {
     "name": "stdout",
     "output_type": "stream",
     "text": [
      "Processed 36 models on 23 features in 6.412534952163696 seconds.\n",
      "['Accomodates', 'Room Type_Entire home/apt', 'Bathrooms', 'Host Response Time_unknown', 'Property Type_Hotel', 'Property Type_Boutique hotel', 'Property Type_Hostel', 'Steglitz - Zehlendorf', 'Property Type_Other', 'Property Type_Boat', 'Reinickendorf', 'Property Type_Guesthouse', 'Property Type_Bungalow', 'Property Type_Bed and breakfast', 'Property Type_Guest suite', 'Property Type_Condominium', 'Room Type_Shared room', 'Room Type_Private room', 'Spandau', 'Host Response Time_a few days or more', 'Property Type_Townhouse', 'Lichtenberg', 'Charlottenburg-Wilm.']\n"
     ]
    },
    {
     "name": "stderr",
     "output_type": "stream",
     "text": [
      "\n",
      "\n",
      "\n",
      "\n",
      "\n",
      "\n",
      "\n",
      " 41%|████▏     | 24/58 [02:01<03:36,  6.37s/it]\u001b[A\u001b[A\u001b[A\u001b[A\u001b[A\u001b[A\u001b[A"
     ]
    },
    {
     "name": "stdout",
     "output_type": "stream",
     "text": [
      "Processed 35 models on 24 features in 6.689499139785767 seconds.\n",
      "['Accomodates', 'Room Type_Entire home/apt', 'Bathrooms', 'Host Response Time_unknown', 'Property Type_Hotel', 'Property Type_Boutique hotel', 'Property Type_Hostel', 'Steglitz - Zehlendorf', 'Property Type_Other', 'Property Type_Boat', 'Reinickendorf', 'Property Type_Guesthouse', 'Property Type_Bungalow', 'Property Type_Bed and breakfast', 'Property Type_Guest suite', 'Property Type_Condominium', 'Room Type_Shared room', 'Room Type_Private room', 'Spandau', 'Host Response Time_a few days or more', 'Property Type_Townhouse', 'Lichtenberg', 'Charlottenburg-Wilm.', 'NeukÃ¶lln']\n"
     ]
    },
    {
     "name": "stderr",
     "output_type": "stream",
     "text": [
      "\n",
      "\n",
      "\n",
      "\n",
      "\n",
      "\n",
      "\n",
      " 43%|████▎     | 25/58 [02:08<03:39,  6.65s/it]\u001b[A\u001b[A\u001b[A\u001b[A\u001b[A\u001b[A\u001b[A"
     ]
    },
    {
     "name": "stdout",
     "output_type": "stream",
     "text": [
      "Processed 34 models on 25 features in 7.298626184463501 seconds.\n",
      "['Accomodates', 'Room Type_Entire home/apt', 'Bathrooms', 'Host Response Time_unknown', 'Property Type_Hotel', 'Property Type_Boutique hotel', 'Property Type_Hostel', 'Steglitz - Zehlendorf', 'Property Type_Other', 'Property Type_Boat', 'Reinickendorf', 'Property Type_Guesthouse', 'Property Type_Bungalow', 'Property Type_Bed and breakfast', 'Property Type_Guest suite', 'Property Type_Condominium', 'Room Type_Shared room', 'Room Type_Private room', 'Spandau', 'Host Response Time_a few days or more', 'Property Type_Townhouse', 'Lichtenberg', 'Charlottenburg-Wilm.', 'NeukÃ¶lln', 'Treptow - KÃ¶penick']\n"
     ]
    },
    {
     "name": "stderr",
     "output_type": "stream",
     "text": [
      "\n",
      "\n",
      "\n",
      "\n",
      "\n",
      "\n",
      "\n",
      " 45%|████▍     | 26/58 [02:16<03:41,  6.92s/it]\u001b[A\u001b[A\u001b[A\u001b[A\u001b[A\u001b[A\u001b[A"
     ]
    },
    {
     "name": "stdout",
     "output_type": "stream",
     "text": [
      "Processed 33 models on 26 features in 7.556560277938843 seconds.\n",
      "['Accomodates', 'Room Type_Entire home/apt', 'Bathrooms', 'Host Response Time_unknown', 'Property Type_Hotel', 'Property Type_Boutique hotel', 'Property Type_Hostel', 'Steglitz - Zehlendorf', 'Property Type_Other', 'Property Type_Boat', 'Reinickendorf', 'Property Type_Guesthouse', 'Property Type_Bungalow', 'Property Type_Bed and breakfast', 'Property Type_Guest suite', 'Property Type_Condominium', 'Room Type_Shared room', 'Room Type_Private room', 'Spandau', 'Host Response Time_a few days or more', 'Property Type_Townhouse', 'Lichtenberg', 'Charlottenburg-Wilm.', 'NeukÃ¶lln', 'Treptow - KÃ¶penick', 'Tempelhof - SchÃ¶neberg']\n"
     ]
    },
    {
     "name": "stderr",
     "output_type": "stream",
     "text": [
      "\n",
      "\n",
      "\n",
      "\n",
      "\n",
      "\n",
      "\n",
      " 47%|████▋     | 27/58 [02:23<03:42,  7.17s/it]\u001b[A\u001b[A\u001b[A\u001b[A\u001b[A\u001b[A\u001b[A"
     ]
    },
    {
     "name": "stdout",
     "output_type": "stream",
     "text": [
      "Processed 32 models on 27 features in 7.725347995758057 seconds.\n",
      "['Accomodates', 'Room Type_Entire home/apt', 'Bathrooms', 'Host Response Time_unknown', 'Property Type_Hotel', 'Property Type_Boutique hotel', 'Property Type_Hostel', 'Steglitz - Zehlendorf', 'Property Type_Other', 'Property Type_Boat', 'Reinickendorf', 'Property Type_Guesthouse', 'Property Type_Bungalow', 'Property Type_Bed and breakfast', 'Property Type_Guest suite', 'Property Type_Condominium', 'Room Type_Shared room', 'Room Type_Private room', 'Spandau', 'Host Response Time_a few days or more', 'Property Type_Townhouse', 'Lichtenberg', 'Charlottenburg-Wilm.', 'NeukÃ¶lln', 'Treptow - KÃ¶penick', 'Tempelhof - SchÃ¶neberg', 'Host Response Time_within a day']\n"
     ]
    },
    {
     "name": "stderr",
     "output_type": "stream",
     "text": [
      "\n",
      "\n",
      "\n",
      "\n",
      "\n",
      "\n",
      "\n",
      " 48%|████▊     | 28/58 [02:31<03:39,  7.31s/it]\u001b[A\u001b[A\u001b[A\u001b[A\u001b[A\u001b[A\u001b[A"
     ]
    },
    {
     "name": "stdout",
     "output_type": "stream",
     "text": [
      "Processed 31 models on 28 features in 7.660109043121338 seconds.\n",
      "['Accomodates', 'Room Type_Entire home/apt', 'Bathrooms', 'Host Response Time_unknown', 'Property Type_Hotel', 'Property Type_Boutique hotel', 'Property Type_Hostel', 'Steglitz - Zehlendorf', 'Property Type_Other', 'Property Type_Boat', 'Reinickendorf', 'Property Type_Guesthouse', 'Property Type_Bungalow', 'Property Type_Bed and breakfast', 'Property Type_Guest suite', 'Property Type_Condominium', 'Room Type_Shared room', 'Room Type_Private room', 'Spandau', 'Host Response Time_a few days or more', 'Property Type_Townhouse', 'Lichtenberg', 'Charlottenburg-Wilm.', 'NeukÃ¶lln', 'Treptow - KÃ¶penick', 'Tempelhof - SchÃ¶neberg', 'Host Response Time_within a day', 'Is Superhost']\n"
     ]
    },
    {
     "name": "stderr",
     "output_type": "stream",
     "text": [
      "\n",
      "\n",
      "\n",
      "\n",
      "\n",
      "\n",
      "\n",
      " 50%|█████     | 29/58 [02:39<03:37,  7.49s/it]\u001b[A\u001b[A\u001b[A\u001b[A\u001b[A\u001b[A\u001b[A"
     ]
    },
    {
     "name": "stdout",
     "output_type": "stream",
     "text": [
      "Processed 30 models on 29 features in 7.880695104598999 seconds.\n",
      "['Accomodates', 'Room Type_Entire home/apt', 'Bathrooms', 'Host Response Time_unknown', 'Property Type_Hotel', 'Property Type_Boutique hotel', 'Property Type_Hostel', 'Steglitz - Zehlendorf', 'Property Type_Other', 'Property Type_Boat', 'Reinickendorf', 'Property Type_Guesthouse', 'Property Type_Bungalow', 'Property Type_Bed and breakfast', 'Property Type_Guest suite', 'Property Type_Condominium', 'Room Type_Shared room', 'Room Type_Private room', 'Spandau', 'Host Response Time_a few days or more', 'Property Type_Townhouse', 'Lichtenberg', 'Charlottenburg-Wilm.', 'NeukÃ¶lln', 'Treptow - KÃ¶penick', 'Tempelhof - SchÃ¶neberg', 'Host Response Time_within a day', 'Is Superhost', 'Property Type_House']\n"
     ]
    },
    {
     "name": "stderr",
     "output_type": "stream",
     "text": [
      "\n",
      "\n",
      "\n",
      "\n",
      "\n",
      "\n",
      "\n",
      " 52%|█████▏    | 30/58 [02:47<03:36,  7.72s/it]\u001b[A\u001b[A\u001b[A\u001b[A\u001b[A\u001b[A\u001b[A"
     ]
    },
    {
     "name": "stdout",
     "output_type": "stream",
     "text": [
      "Processed 29 models on 30 features in 8.277468919754028 seconds.\n",
      "['Accomodates', 'Room Type_Entire home/apt', 'Bathrooms', 'Host Response Time_unknown', 'Property Type_Hotel', 'Property Type_Boutique hotel', 'Property Type_Hostel', 'Steglitz - Zehlendorf', 'Property Type_Other', 'Property Type_Boat', 'Reinickendorf', 'Property Type_Guesthouse', 'Property Type_Bungalow', 'Property Type_Bed and breakfast', 'Property Type_Guest suite', 'Property Type_Condominium', 'Room Type_Shared room', 'Room Type_Private room', 'Spandau', 'Host Response Time_a few days or more', 'Property Type_Townhouse', 'Lichtenberg', 'Charlottenburg-Wilm.', 'NeukÃ¶lln', 'Treptow - KÃ¶penick', 'Tempelhof - SchÃ¶neberg', 'Host Response Time_within a day', 'Is Superhost', 'Property Type_House', 'Marzahn - Hellersdorf']\n"
     ]
    },
    {
     "name": "stderr",
     "output_type": "stream",
     "text": [
      "\n",
      "\n",
      "\n",
      "\n",
      "\n",
      "\n",
      "\n",
      " 53%|█████▎    | 31/58 [02:55<03:29,  7.75s/it]\u001b[A\u001b[A\u001b[A\u001b[A\u001b[A\u001b[A\u001b[A"
     ]
    },
    {
     "name": "stdout",
     "output_type": "stream",
     "text": [
      "Processed 28 models on 31 features in 7.797546148300171 seconds.\n",
      "['Accomodates', 'Room Type_Entire home/apt', 'Bathrooms', 'Host Response Time_unknown', 'Property Type_Hotel', 'Property Type_Boutique hotel', 'Property Type_Hostel', 'Steglitz - Zehlendorf', 'Property Type_Other', 'Property Type_Boat', 'Reinickendorf', 'Property Type_Guesthouse', 'Property Type_Bungalow', 'Property Type_Bed and breakfast', 'Property Type_Guest suite', 'Property Type_Condominium', 'Room Type_Shared room', 'Room Type_Private room', 'Spandau', 'Host Response Time_a few days or more', 'Property Type_Townhouse', 'Lichtenberg', 'Charlottenburg-Wilm.', 'NeukÃ¶lln', 'Treptow - KÃ¶penick', 'Tempelhof - SchÃ¶neberg', 'Host Response Time_within a day', 'Is Superhost', 'Property Type_House', 'Marzahn - Hellersdorf', 'Pankow']\n"
     ]
    },
    {
     "name": "stderr",
     "output_type": "stream",
     "text": [
      "\n",
      "\n",
      "\n",
      "\n",
      "\n",
      "\n",
      "\n",
      " 55%|█████▌    | 32/58 [03:03<03:25,  7.90s/it]\u001b[A\u001b[A\u001b[A\u001b[A\u001b[A\u001b[A\u001b[A"
     ]
    },
    {
     "name": "stdout",
     "output_type": "stream",
     "text": [
      "Processed 27 models on 32 features in 8.263778924942017 seconds.\n",
      "['Accomodates', 'Room Type_Entire home/apt', 'Bathrooms', 'Host Response Time_unknown', 'Property Type_Hotel', 'Property Type_Boutique hotel', 'Property Type_Hostel', 'Steglitz - Zehlendorf', 'Property Type_Other', 'Property Type_Boat', 'Reinickendorf', 'Property Type_Guesthouse', 'Property Type_Bungalow', 'Property Type_Bed and breakfast', 'Property Type_Guest suite', 'Property Type_Condominium', 'Room Type_Shared room', 'Room Type_Private room', 'Spandau', 'Host Response Time_a few days or more', 'Property Type_Townhouse', 'Lichtenberg', 'Charlottenburg-Wilm.', 'NeukÃ¶lln', 'Treptow - KÃ¶penick', 'Tempelhof - SchÃ¶neberg', 'Host Response Time_within a day', 'Is Superhost', 'Property Type_House', 'Marzahn - Hellersdorf', 'Pankow', 'Host Response Time_within a few hours']\n"
     ]
    },
    {
     "name": "stderr",
     "output_type": "stream",
     "text": [
      "\n",
      "\n",
      "\n",
      "\n",
      "\n",
      "\n",
      "\n",
      " 57%|█████▋    | 33/58 [03:13<03:27,  8.30s/it]\u001b[A\u001b[A\u001b[A\u001b[A\u001b[A\u001b[A\u001b[A"
     ]
    },
    {
     "name": "stdout",
     "output_type": "stream",
     "text": [
      "Processed 26 models on 33 features in 9.234086036682129 seconds.\n",
      "['Accomodates', 'Room Type_Entire home/apt', 'Bathrooms', 'Host Response Time_unknown', 'Property Type_Hotel', 'Property Type_Boutique hotel', 'Property Type_Hostel', 'Steglitz - Zehlendorf', 'Property Type_Other', 'Property Type_Boat', 'Reinickendorf', 'Property Type_Guesthouse', 'Property Type_Bungalow', 'Property Type_Bed and breakfast', 'Property Type_Guest suite', 'Property Type_Condominium', 'Room Type_Shared room', 'Room Type_Private room', 'Spandau', 'Host Response Time_a few days or more', 'Property Type_Townhouse', 'Lichtenberg', 'Charlottenburg-Wilm.', 'NeukÃ¶lln', 'Treptow - KÃ¶penick', 'Tempelhof - SchÃ¶neberg', 'Host Response Time_within a day', 'Is Superhost', 'Property Type_House', 'Marzahn - Hellersdorf', 'Pankow', 'Host Response Time_within a few hours', 'Host Response Time_within an hour']\n"
     ]
    },
    {
     "name": "stderr",
     "output_type": "stream",
     "text": [
      "\n",
      "\n",
      "\n",
      "\n",
      "\n",
      "\n",
      "\n",
      " 59%|█████▊    | 34/58 [03:21<03:19,  8.33s/it]\u001b[A\u001b[A\u001b[A\u001b[A\u001b[A\u001b[A\u001b[A"
     ]
    },
    {
     "name": "stdout",
     "output_type": "stream",
     "text": [
      "Processed 25 models on 34 features in 8.396704196929932 seconds.\n",
      "['Accomodates', 'Room Type_Entire home/apt', 'Bathrooms', 'Host Response Time_unknown', 'Property Type_Hotel', 'Property Type_Boutique hotel', 'Property Type_Hostel', 'Steglitz - Zehlendorf', 'Property Type_Other', 'Property Type_Boat', 'Reinickendorf', 'Property Type_Guesthouse', 'Property Type_Bungalow', 'Property Type_Bed and breakfast', 'Property Type_Guest suite', 'Property Type_Condominium', 'Room Type_Shared room', 'Room Type_Private room', 'Spandau', 'Host Response Time_a few days or more', 'Property Type_Townhouse', 'Lichtenberg', 'Charlottenburg-Wilm.', 'NeukÃ¶lln', 'Treptow - KÃ¶penick', 'Tempelhof - SchÃ¶neberg', 'Host Response Time_within a day', 'Is Superhost', 'Property Type_House', 'Marzahn - Hellersdorf', 'Pankow', 'Host Response Time_within a few hours', 'Host Response Time_within an hour', 'Property Type_Serviced apartment']\n"
     ]
    },
    {
     "name": "stderr",
     "output_type": "stream",
     "text": [
      "\n",
      "\n",
      "\n",
      "\n",
      "\n",
      "\n",
      "\n",
      " 60%|██████    | 35/58 [03:29<03:11,  8.32s/it]\u001b[A\u001b[A\u001b[A\u001b[A\u001b[A\u001b[A\u001b[A"
     ]
    },
    {
     "name": "stdout",
     "output_type": "stream",
     "text": [
      "Processed 24 models on 35 features in 8.28662395477295 seconds.\n",
      "['Accomodates', 'Room Type_Entire home/apt', 'Bathrooms', 'Host Response Time_unknown', 'Property Type_Hotel', 'Property Type_Boutique hotel', 'Property Type_Hostel', 'Steglitz - Zehlendorf', 'Property Type_Other', 'Property Type_Boat', 'Reinickendorf', 'Property Type_Guesthouse', 'Property Type_Bungalow', 'Property Type_Bed and breakfast', 'Property Type_Guest suite', 'Property Type_Condominium', 'Room Type_Shared room', 'Room Type_Private room', 'Spandau', 'Host Response Time_a few days or more', 'Property Type_Townhouse', 'Lichtenberg', 'Charlottenburg-Wilm.', 'NeukÃ¶lln', 'Treptow - KÃ¶penick', 'Tempelhof - SchÃ¶neberg', 'Host Response Time_within a day', 'Is Superhost', 'Property Type_House', 'Marzahn - Hellersdorf', 'Pankow', 'Host Response Time_within a few hours', 'Host Response Time_within an hour', 'Property Type_Serviced apartment', 'Boy or Girl?_Boy']\n"
     ]
    },
    {
     "name": "stderr",
     "output_type": "stream",
     "text": [
      "\n",
      "\n",
      "\n",
      "\n",
      "\n",
      "\n",
      "\n",
      " 62%|██████▏   | 36/58 [03:39<03:10,  8.66s/it]\u001b[A\u001b[A\u001b[A\u001b[A\u001b[A\u001b[A\u001b[A"
     ]
    },
    {
     "name": "stdout",
     "output_type": "stream",
     "text": [
      "Processed 23 models on 36 features in 9.44909119606018 seconds.\n",
      "['Accomodates', 'Room Type_Entire home/apt', 'Bathrooms', 'Host Response Time_unknown', 'Property Type_Hotel', 'Property Type_Boutique hotel', 'Property Type_Hostel', 'Steglitz - Zehlendorf', 'Property Type_Other', 'Property Type_Boat', 'Reinickendorf', 'Property Type_Guesthouse', 'Property Type_Bungalow', 'Property Type_Bed and breakfast', 'Property Type_Guest suite', 'Property Type_Condominium', 'Room Type_Shared room', 'Room Type_Private room', 'Spandau', 'Host Response Time_a few days or more', 'Property Type_Townhouse', 'Lichtenberg', 'Charlottenburg-Wilm.', 'NeukÃ¶lln', 'Treptow - KÃ¶penick', 'Tempelhof - SchÃ¶neberg', 'Host Response Time_within a day', 'Is Superhost', 'Property Type_House', 'Marzahn - Hellersdorf', 'Pankow', 'Host Response Time_within a few hours', 'Host Response Time_within an hour', 'Property Type_Serviced apartment', 'Boy or Girl?_Boy', 'Boy or Girl?_Girl']\n"
     ]
    },
    {
     "name": "stderr",
     "output_type": "stream",
     "text": [
      "\n",
      "\n",
      "\n",
      "\n",
      "\n",
      "\n",
      "\n",
      " 64%|██████▍   | 37/58 [03:48<03:08,  8.96s/it]\u001b[A\u001b[A\u001b[A\u001b[A\u001b[A\u001b[A\u001b[A"
     ]
    },
    {
     "name": "stdout",
     "output_type": "stream",
     "text": [
      "Processed 22 models on 37 features in 9.646456241607666 seconds.\n",
      "['Accomodates', 'Room Type_Entire home/apt', 'Bathrooms', 'Host Response Time_unknown', 'Property Type_Hotel', 'Property Type_Boutique hotel', 'Property Type_Hostel', 'Steglitz - Zehlendorf', 'Property Type_Other', 'Property Type_Boat', 'Reinickendorf', 'Property Type_Guesthouse', 'Property Type_Bungalow', 'Property Type_Bed and breakfast', 'Property Type_Guest suite', 'Property Type_Condominium', 'Room Type_Shared room', 'Room Type_Private room', 'Spandau', 'Host Response Time_a few days or more', 'Property Type_Townhouse', 'Lichtenberg', 'Charlottenburg-Wilm.', 'NeukÃ¶lln', 'Treptow - KÃ¶penick', 'Tempelhof - SchÃ¶neberg', 'Host Response Time_within a day', 'Is Superhost', 'Property Type_House', 'Marzahn - Hellersdorf', 'Pankow', 'Host Response Time_within a few hours', 'Host Response Time_within an hour', 'Property Type_Serviced apartment', 'Boy or Girl?_Boy', 'Boy or Girl?_Girl', 'Instant Bookable']\n"
     ]
    },
    {
     "name": "stderr",
     "output_type": "stream",
     "text": [
      "\n",
      "\n",
      "\n",
      "\n",
      "\n",
      "\n",
      "\n",
      " 66%|██████▌   | 38/58 [03:58<03:02,  9.15s/it]\u001b[A\u001b[A\u001b[A\u001b[A\u001b[A\u001b[A\u001b[A"
     ]
    },
    {
     "name": "stdout",
     "output_type": "stream",
     "text": [
      "Processed 21 models on 38 features in 9.586006164550781 seconds.\n",
      "['Accomodates', 'Room Type_Entire home/apt', 'Bathrooms', 'Host Response Time_unknown', 'Property Type_Hotel', 'Property Type_Boutique hotel', 'Property Type_Hostel', 'Steglitz - Zehlendorf', 'Property Type_Other', 'Property Type_Boat', 'Reinickendorf', 'Property Type_Guesthouse', 'Property Type_Bungalow', 'Property Type_Bed and breakfast', 'Property Type_Guest suite', 'Property Type_Condominium', 'Room Type_Shared room', 'Room Type_Private room', 'Spandau', 'Host Response Time_a few days or more', 'Property Type_Townhouse', 'Lichtenberg', 'Charlottenburg-Wilm.', 'NeukÃ¶lln', 'Treptow - KÃ¶penick', 'Tempelhof - SchÃ¶neberg', 'Host Response Time_within a day', 'Is Superhost', 'Property Type_House', 'Marzahn - Hellersdorf', 'Pankow', 'Host Response Time_within a few hours', 'Host Response Time_within an hour', 'Property Type_Serviced apartment', 'Boy or Girl?_Boy', 'Boy or Girl?_Girl', 'Instant Bookable', 'Host Response Rate']\n"
     ]
    },
    {
     "name": "stderr",
     "output_type": "stream",
     "text": [
      "\n",
      "\n",
      "\n",
      "\n",
      "\n",
      "\n",
      "\n",
      " 67%|██████▋   | 39/58 [04:08<02:57,  9.36s/it]\u001b[A\u001b[A\u001b[A\u001b[A\u001b[A\u001b[A\u001b[A"
     ]
    },
    {
     "name": "stdout",
     "output_type": "stream",
     "text": [
      "Processed 20 models on 39 features in 9.83624815940857 seconds.\n",
      "['Accomodates', 'Room Type_Entire home/apt', 'Bathrooms', 'Host Response Time_unknown', 'Property Type_Hotel', 'Property Type_Boutique hotel', 'Property Type_Hostel', 'Steglitz - Zehlendorf', 'Property Type_Other', 'Property Type_Boat', 'Reinickendorf', 'Property Type_Guesthouse', 'Property Type_Bungalow', 'Property Type_Bed and breakfast', 'Property Type_Guest suite', 'Property Type_Condominium', 'Room Type_Shared room', 'Room Type_Private room', 'Spandau', 'Host Response Time_a few days or more', 'Property Type_Townhouse', 'Lichtenberg', 'Charlottenburg-Wilm.', 'NeukÃ¶lln', 'Treptow - KÃ¶penick', 'Tempelhof - SchÃ¶neberg', 'Host Response Time_within a day', 'Is Superhost', 'Property Type_House', 'Marzahn - Hellersdorf', 'Pankow', 'Host Response Time_within a few hours', 'Host Response Time_within an hour', 'Property Type_Serviced apartment', 'Boy or Girl?_Boy', 'Boy or Girl?_Girl', 'Instant Bookable', 'Host Response Rate', 'Mitte']\n"
     ]
    },
    {
     "name": "stderr",
     "output_type": "stream",
     "text": [
      "\n",
      "\n",
      "\n",
      "\n",
      "\n",
      "\n",
      "\n",
      " 69%|██████▉   | 40/58 [04:18<02:53,  9.61s/it]\u001b[A\u001b[A\u001b[A\u001b[A\u001b[A\u001b[A\u001b[A"
     ]
    },
    {
     "name": "stdout",
     "output_type": "stream",
     "text": [
      "Processed 19 models on 40 features in 10.212163925170898 seconds.\n",
      "['Accomodates', 'Room Type_Entire home/apt', 'Bathrooms', 'Host Response Time_unknown', 'Property Type_Hotel', 'Property Type_Boutique hotel', 'Property Type_Hostel', 'Steglitz - Zehlendorf', 'Property Type_Other', 'Property Type_Boat', 'Reinickendorf', 'Property Type_Guesthouse', 'Property Type_Bungalow', 'Property Type_Bed and breakfast', 'Property Type_Guest suite', 'Property Type_Condominium', 'Room Type_Shared room', 'Room Type_Private room', 'Spandau', 'Host Response Time_a few days or more', 'Property Type_Townhouse', 'Lichtenberg', 'Charlottenburg-Wilm.', 'NeukÃ¶lln', 'Treptow - KÃ¶penick', 'Tempelhof - SchÃ¶neberg', 'Host Response Time_within a day', 'Is Superhost', 'Property Type_House', 'Marzahn - Hellersdorf', 'Pankow', 'Host Response Time_within a few hours', 'Host Response Time_within an hour', 'Property Type_Serviced apartment', 'Boy or Girl?_Boy', 'Boy or Girl?_Girl', 'Instant Bookable', 'Host Response Rate', 'Mitte', 'Friedrichshain-Kreuzberg']\n"
     ]
    },
    {
     "name": "stderr",
     "output_type": "stream",
     "text": [
      "\n",
      "\n",
      "\n",
      "\n",
      "\n",
      "\n",
      "\n",
      " 71%|███████   | 41/58 [04:28<02:43,  9.61s/it]\u001b[A\u001b[A\u001b[A\u001b[A\u001b[A\u001b[A\u001b[A"
     ]
    },
    {
     "name": "stdout",
     "output_type": "stream",
     "text": [
      "Processed 18 models on 41 features in 9.600568056106567 seconds.\n",
      "['Accomodates', 'Room Type_Entire home/apt', 'Bathrooms', 'Host Response Time_unknown', 'Property Type_Hotel', 'Property Type_Boutique hotel', 'Property Type_Hostel', 'Steglitz - Zehlendorf', 'Property Type_Other', 'Property Type_Boat', 'Reinickendorf', 'Property Type_Guesthouse', 'Property Type_Bungalow', 'Property Type_Bed and breakfast', 'Property Type_Guest suite', 'Property Type_Condominium', 'Room Type_Shared room', 'Room Type_Private room', 'Spandau', 'Host Response Time_a few days or more', 'Property Type_Townhouse', 'Lichtenberg', 'Charlottenburg-Wilm.', 'NeukÃ¶lln', 'Treptow - KÃ¶penick', 'Tempelhof - SchÃ¶neberg', 'Host Response Time_within a day', 'Is Superhost', 'Property Type_House', 'Marzahn - Hellersdorf', 'Pankow', 'Host Response Time_within a few hours', 'Host Response Time_within an hour', 'Property Type_Serviced apartment', 'Boy or Girl?_Boy', 'Boy or Girl?_Girl', 'Instant Bookable', 'Host Response Rate', 'Mitte', 'Friedrichshain-Kreuzberg', 'Is Exact Location']\n"
     ]
    },
    {
     "name": "stderr",
     "output_type": "stream",
     "text": [
      "\n",
      "\n",
      "\n",
      "\n",
      "\n",
      "\n",
      "\n",
      " 72%|███████▏  | 42/58 [04:37<02:34,  9.64s/it]\u001b[A\u001b[A\u001b[A\u001b[A\u001b[A\u001b[A\u001b[A"
     ]
    },
    {
     "name": "stdout",
     "output_type": "stream",
     "text": [
      "Processed 17 models on 42 features in 9.70724606513977 seconds.\n",
      "['Accomodates', 'Room Type_Entire home/apt', 'Bathrooms', 'Host Response Time_unknown', 'Property Type_Hotel', 'Property Type_Boutique hotel', 'Property Type_Hostel', 'Steglitz - Zehlendorf', 'Property Type_Other', 'Property Type_Boat', 'Reinickendorf', 'Property Type_Guesthouse', 'Property Type_Bungalow', 'Property Type_Bed and breakfast', 'Property Type_Guest suite', 'Property Type_Condominium', 'Room Type_Shared room', 'Room Type_Private room', 'Spandau', 'Host Response Time_a few days or more', 'Property Type_Townhouse', 'Lichtenberg', 'Charlottenburg-Wilm.', 'NeukÃ¶lln', 'Treptow - KÃ¶penick', 'Tempelhof - SchÃ¶neberg', 'Host Response Time_within a day', 'Is Superhost', 'Property Type_House', 'Marzahn - Hellersdorf', 'Pankow', 'Host Response Time_within a few hours', 'Host Response Time_within an hour', 'Property Type_Serviced apartment', 'Boy or Girl?_Boy', 'Boy or Girl?_Girl', 'Instant Bookable', 'Host Response Rate', 'Mitte', 'Friedrichshain-Kreuzberg', 'Is Exact Location', 'Property Type_Loft']\n"
     ]
    },
    {
     "name": "stderr",
     "output_type": "stream",
     "text": [
      "\n",
      "\n",
      "\n",
      "\n",
      "\n",
      "\n",
      "\n",
      " 74%|███████▍  | 43/58 [04:47<02:26,  9.75s/it]\u001b[A\u001b[A\u001b[A\u001b[A\u001b[A\u001b[A\u001b[A"
     ]
    },
    {
     "name": "stdout",
     "output_type": "stream",
     "text": [
      "Processed 16 models on 43 features in 9.985649108886719 seconds.\n",
      "['Accomodates', 'Room Type_Entire home/apt', 'Bathrooms', 'Host Response Time_unknown', 'Property Type_Hotel', 'Property Type_Boutique hotel', 'Property Type_Hostel', 'Steglitz - Zehlendorf', 'Property Type_Other', 'Property Type_Boat', 'Reinickendorf', 'Property Type_Guesthouse', 'Property Type_Bungalow', 'Property Type_Bed and breakfast', 'Property Type_Guest suite', 'Property Type_Condominium', 'Room Type_Shared room', 'Room Type_Private room', 'Spandau', 'Host Response Time_a few days or more', 'Property Type_Townhouse', 'Lichtenberg', 'Charlottenburg-Wilm.', 'NeukÃ¶lln', 'Treptow - KÃ¶penick', 'Tempelhof - SchÃ¶neberg', 'Host Response Time_within a day', 'Is Superhost', 'Property Type_House', 'Marzahn - Hellersdorf', 'Pankow', 'Host Response Time_within a few hours', 'Host Response Time_within an hour', 'Property Type_Serviced apartment', 'Boy or Girl?_Boy', 'Boy or Girl?_Girl', 'Instant Bookable', 'Host Response Rate', 'Mitte', 'Friedrichshain-Kreuzberg', 'Is Exact Location', 'Property Type_Loft', 'Property Type_Apartment']\n"
     ]
    },
    {
     "name": "stderr",
     "output_type": "stream",
     "text": [
      "\n",
      "\n",
      "\n",
      "\n",
      "\n",
      "\n",
      "\n",
      " 76%|███████▌  | 44/58 [04:56<02:13,  9.51s/it]\u001b[A\u001b[A\u001b[A\u001b[A\u001b[A\u001b[A\u001b[A"
     ]
    },
    {
     "name": "stdout",
     "output_type": "stream",
     "text": [
      "Processed 15 models on 44 features in 8.970907926559448 seconds.\n",
      "['Accomodates', 'Room Type_Entire home/apt', 'Bathrooms', 'Host Response Time_unknown', 'Property Type_Hotel', 'Property Type_Boutique hotel', 'Property Type_Hostel', 'Steglitz - Zehlendorf', 'Property Type_Other', 'Property Type_Boat', 'Reinickendorf', 'Property Type_Guesthouse', 'Property Type_Bungalow', 'Property Type_Bed and breakfast', 'Property Type_Guest suite', 'Property Type_Condominium', 'Room Type_Shared room', 'Room Type_Private room', 'Spandau', 'Host Response Time_a few days or more', 'Property Type_Townhouse', 'Lichtenberg', 'Charlottenburg-Wilm.', 'NeukÃ¶lln', 'Treptow - KÃ¶penick', 'Tempelhof - SchÃ¶neberg', 'Host Response Time_within a day', 'Is Superhost', 'Property Type_House', 'Marzahn - Hellersdorf', 'Pankow', 'Host Response Time_within a few hours', 'Host Response Time_within an hour', 'Property Type_Serviced apartment', 'Boy or Girl?_Boy', 'Boy or Girl?_Girl', 'Instant Bookable', 'Host Response Rate', 'Mitte', 'Friedrichshain-Kreuzberg', 'Is Exact Location', 'Property Type_Loft', 'Property Type_Apartment', 'Guests Included']\n"
     ]
    },
    {
     "name": "stderr",
     "output_type": "stream",
     "text": [
      "\n",
      "\n",
      "\n",
      "\n",
      "\n",
      "\n",
      "\n",
      " 78%|███████▊  | 45/58 [05:05<01:59,  9.21s/it]\u001b[A\u001b[A\u001b[A\u001b[A\u001b[A\u001b[A\u001b[A"
     ]
    },
    {
     "name": "stdout",
     "output_type": "stream",
     "text": [
      "Processed 14 models on 45 features in 8.507379055023193 seconds.\n",
      "['Accomodates', 'Room Type_Entire home/apt', 'Bathrooms', 'Host Response Time_unknown', 'Property Type_Hotel', 'Property Type_Boutique hotel', 'Property Type_Hostel', 'Steglitz - Zehlendorf', 'Property Type_Other', 'Property Type_Boat', 'Reinickendorf', 'Property Type_Guesthouse', 'Property Type_Bungalow', 'Property Type_Bed and breakfast', 'Property Type_Guest suite', 'Property Type_Condominium', 'Room Type_Shared room', 'Room Type_Private room', 'Spandau', 'Host Response Time_a few days or more', 'Property Type_Townhouse', 'Lichtenberg', 'Charlottenburg-Wilm.', 'NeukÃ¶lln', 'Treptow - KÃ¶penick', 'Tempelhof - SchÃ¶neberg', 'Host Response Time_within a day', 'Is Superhost', 'Property Type_House', 'Marzahn - Hellersdorf', 'Pankow', 'Host Response Time_within a few hours', 'Host Response Time_within an hour', 'Property Type_Serviced apartment', 'Boy or Girl?_Boy', 'Boy or Girl?_Girl', 'Instant Bookable', 'Host Response Rate', 'Mitte', 'Friedrichshain-Kreuzberg', 'Is Exact Location', 'Property Type_Loft', 'Property Type_Apartment', 'Guests Included', 'Beds']\n"
     ]
    },
    {
     "name": "stderr",
     "output_type": "stream",
     "text": [
      "\n",
      "\n",
      "\n",
      "\n",
      "\n",
      "\n",
      "\n",
      " 79%|███████▉  | 46/58 [05:14<01:51,  9.29s/it]\u001b[A\u001b[A\u001b[A\u001b[A\u001b[A\u001b[A\u001b[A"
     ]
    },
    {
     "name": "stdout",
     "output_type": "stream",
     "text": [
      "Processed 13 models on 46 features in 9.457130193710327 seconds.\n",
      "['Accomodates', 'Room Type_Entire home/apt', 'Bathrooms', 'Host Response Time_unknown', 'Property Type_Hotel', 'Property Type_Boutique hotel', 'Property Type_Hostel', 'Steglitz - Zehlendorf', 'Property Type_Other', 'Property Type_Boat', 'Reinickendorf', 'Property Type_Guesthouse', 'Property Type_Bungalow', 'Property Type_Bed and breakfast', 'Property Type_Guest suite', 'Property Type_Condominium', 'Room Type_Shared room', 'Room Type_Private room', 'Spandau', 'Host Response Time_a few days or more', 'Property Type_Townhouse', 'Lichtenberg', 'Charlottenburg-Wilm.', 'NeukÃ¶lln', 'Treptow - KÃ¶penick', 'Tempelhof - SchÃ¶neberg', 'Host Response Time_within a day', 'Is Superhost', 'Property Type_House', 'Marzahn - Hellersdorf', 'Pankow', 'Host Response Time_within a few hours', 'Host Response Time_within an hour', 'Property Type_Serviced apartment', 'Boy or Girl?_Boy', 'Boy or Girl?_Girl', 'Instant Bookable', 'Host Response Rate', 'Mitte', 'Friedrichshain-Kreuzberg', 'Is Exact Location', 'Property Type_Loft', 'Property Type_Apartment', 'Guests Included', 'Beds', 'Bedrooms']\n"
     ]
    },
    {
     "name": "stderr",
     "output_type": "stream",
     "text": [
      "\n",
      "\n",
      "\n",
      "\n",
      "\n",
      "\n",
      "\n",
      " 81%|████████  | 47/58 [05:23<01:39,  9.08s/it]\u001b[A\u001b[A\u001b[A\u001b[A\u001b[A\u001b[A\u001b[A"
     ]
    },
    {
     "name": "stdout",
     "output_type": "stream",
     "text": [
      "Processed 12 models on 47 features in 8.591954708099365 seconds.\n",
      "['Accomodates', 'Room Type_Entire home/apt', 'Bathrooms', 'Host Response Time_unknown', 'Property Type_Hotel', 'Property Type_Boutique hotel', 'Property Type_Hostel', 'Steglitz - Zehlendorf', 'Property Type_Other', 'Property Type_Boat', 'Reinickendorf', 'Property Type_Guesthouse', 'Property Type_Bungalow', 'Property Type_Bed and breakfast', 'Property Type_Guest suite', 'Property Type_Condominium', 'Room Type_Shared room', 'Room Type_Private room', 'Spandau', 'Host Response Time_a few days or more', 'Property Type_Townhouse', 'Lichtenberg', 'Charlottenburg-Wilm.', 'NeukÃ¶lln', 'Treptow - KÃ¶penick', 'Tempelhof - SchÃ¶neberg', 'Host Response Time_within a day', 'Is Superhost', 'Property Type_House', 'Marzahn - Hellersdorf', 'Pankow', 'Host Response Time_within a few hours', 'Host Response Time_within an hour', 'Property Type_Serviced apartment', 'Boy or Girl?_Boy', 'Boy or Girl?_Girl', 'Instant Bookable', 'Host Response Rate', 'Mitte', 'Friedrichshain-Kreuzberg', 'Is Exact Location', 'Property Type_Loft', 'Property Type_Apartment', 'Guests Included', 'Beds', 'Bedrooms', 'Accuracy Rating']\n"
     ]
    },
    {
     "name": "stderr",
     "output_type": "stream",
     "text": [
      "\n",
      "\n",
      "\n",
      "\n",
      "\n",
      "\n",
      "\n",
      " 83%|████████▎ | 48/58 [05:31<01:27,  8.76s/it]\u001b[A\u001b[A\u001b[A\u001b[A\u001b[A\u001b[A\u001b[A"
     ]
    },
    {
     "name": "stdout",
     "output_type": "stream",
     "text": [
      "Processed 11 models on 48 features in 8.005939960479736 seconds.\n",
      "['Accomodates', 'Room Type_Entire home/apt', 'Bathrooms', 'Host Response Time_unknown', 'Property Type_Hotel', 'Property Type_Boutique hotel', 'Property Type_Hostel', 'Steglitz - Zehlendorf', 'Property Type_Other', 'Property Type_Boat', 'Reinickendorf', 'Property Type_Guesthouse', 'Property Type_Bungalow', 'Property Type_Bed and breakfast', 'Property Type_Guest suite', 'Property Type_Condominium', 'Room Type_Shared room', 'Room Type_Private room', 'Spandau', 'Host Response Time_a few days or more', 'Property Type_Townhouse', 'Lichtenberg', 'Charlottenburg-Wilm.', 'NeukÃ¶lln', 'Treptow - KÃ¶penick', 'Tempelhof - SchÃ¶neberg', 'Host Response Time_within a day', 'Is Superhost', 'Property Type_House', 'Marzahn - Hellersdorf', 'Pankow', 'Host Response Time_within a few hours', 'Host Response Time_within an hour', 'Property Type_Serviced apartment', 'Boy or Girl?_Boy', 'Boy or Girl?_Girl', 'Instant Bookable', 'Host Response Rate', 'Mitte', 'Friedrichshain-Kreuzberg', 'Is Exact Location', 'Property Type_Loft', 'Property Type_Apartment', 'Guests Included', 'Beds', 'Bedrooms', 'Accuracy Rating', 'Location Rating']\n"
     ]
    },
    {
     "name": "stderr",
     "output_type": "stream",
     "text": [
      "\n",
      "\n",
      "\n",
      "\n",
      "\n",
      "\n",
      "\n",
      " 84%|████████▍ | 49/58 [05:39<01:16,  8.46s/it]\u001b[A\u001b[A\u001b[A\u001b[A\u001b[A\u001b[A\u001b[A"
     ]
    },
    {
     "name": "stdout",
     "output_type": "stream",
     "text": [
      "Processed 10 models on 49 features in 7.74366021156311 seconds.\n",
      "['Accomodates', 'Room Type_Entire home/apt', 'Bathrooms', 'Host Response Time_unknown', 'Property Type_Hotel', 'Property Type_Boutique hotel', 'Property Type_Hostel', 'Steglitz - Zehlendorf', 'Property Type_Other', 'Property Type_Boat', 'Reinickendorf', 'Property Type_Guesthouse', 'Property Type_Bungalow', 'Property Type_Bed and breakfast', 'Property Type_Guest suite', 'Property Type_Condominium', 'Room Type_Shared room', 'Room Type_Private room', 'Spandau', 'Host Response Time_a few days or more', 'Property Type_Townhouse', 'Lichtenberg', 'Charlottenburg-Wilm.', 'NeukÃ¶lln', 'Treptow - KÃ¶penick', 'Tempelhof - SchÃ¶neberg', 'Host Response Time_within a day', 'Is Superhost', 'Property Type_House', 'Marzahn - Hellersdorf', 'Pankow', 'Host Response Time_within a few hours', 'Host Response Time_within an hour', 'Property Type_Serviced apartment', 'Boy or Girl?_Boy', 'Boy or Girl?_Girl', 'Instant Bookable', 'Host Response Rate', 'Mitte', 'Friedrichshain-Kreuzberg', 'Is Exact Location', 'Property Type_Loft', 'Property Type_Apartment', 'Guests Included', 'Beds', 'Bedrooms', 'Accuracy Rating', 'Location Rating', 'Communication Rating']\n"
     ]
    },
    {
     "name": "stderr",
     "output_type": "stream",
     "text": [
      "\n",
      "\n",
      "\n",
      "\n",
      "\n",
      "\n",
      "\n",
      " 86%|████████▌ | 50/58 [05:46<01:04,  8.11s/it]\u001b[A\u001b[A\u001b[A\u001b[A\u001b[A\u001b[A\u001b[A"
     ]
    },
    {
     "name": "stdout",
     "output_type": "stream",
     "text": [
      "Processed 9 models on 50 features in 7.2826828956604 seconds.\n",
      "['Accomodates', 'Room Type_Entire home/apt', 'Bathrooms', 'Host Response Time_unknown', 'Property Type_Hotel', 'Property Type_Boutique hotel', 'Property Type_Hostel', 'Steglitz - Zehlendorf', 'Property Type_Other', 'Property Type_Boat', 'Reinickendorf', 'Property Type_Guesthouse', 'Property Type_Bungalow', 'Property Type_Bed and breakfast', 'Property Type_Guest suite', 'Property Type_Condominium', 'Room Type_Shared room', 'Room Type_Private room', 'Spandau', 'Host Response Time_a few days or more', 'Property Type_Townhouse', 'Lichtenberg', 'Charlottenburg-Wilm.', 'NeukÃ¶lln', 'Treptow - KÃ¶penick', 'Tempelhof - SchÃ¶neberg', 'Host Response Time_within a day', 'Is Superhost', 'Property Type_House', 'Marzahn - Hellersdorf', 'Pankow', 'Host Response Time_within a few hours', 'Host Response Time_within an hour', 'Property Type_Serviced apartment', 'Boy or Girl?_Boy', 'Boy or Girl?_Girl', 'Instant Bookable', 'Host Response Rate', 'Mitte', 'Friedrichshain-Kreuzberg', 'Is Exact Location', 'Property Type_Loft', 'Property Type_Apartment', 'Guests Included', 'Beds', 'Bedrooms', 'Accuracy Rating', 'Location Rating', 'Communication Rating', 'Checkin Rating']\n"
     ]
    },
    {
     "name": "stderr",
     "output_type": "stream",
     "text": [
      "\n",
      "\n",
      "\n",
      "\n",
      "\n",
      "\n",
      "\n",
      " 88%|████████▊ | 51/58 [05:53<00:54,  7.73s/it]\u001b[A\u001b[A\u001b[A\u001b[A\u001b[A\u001b[A\u001b[A"
     ]
    },
    {
     "name": "stdout",
     "output_type": "stream",
     "text": [
      "Processed 8 models on 51 features in 6.846930027008057 seconds.\n",
      "['Accomodates', 'Room Type_Entire home/apt', 'Bathrooms', 'Host Response Time_unknown', 'Property Type_Hotel', 'Property Type_Boutique hotel', 'Property Type_Hostel', 'Steglitz - Zehlendorf', 'Property Type_Other', 'Property Type_Boat', 'Reinickendorf', 'Property Type_Guesthouse', 'Property Type_Bungalow', 'Property Type_Bed and breakfast', 'Property Type_Guest suite', 'Property Type_Condominium', 'Room Type_Shared room', 'Room Type_Private room', 'Spandau', 'Host Response Time_a few days or more', 'Property Type_Townhouse', 'Lichtenberg', 'Charlottenburg-Wilm.', 'NeukÃ¶lln', 'Treptow - KÃ¶penick', 'Tempelhof - SchÃ¶neberg', 'Host Response Time_within a day', 'Is Superhost', 'Property Type_House', 'Marzahn - Hellersdorf', 'Pankow', 'Host Response Time_within a few hours', 'Host Response Time_within an hour', 'Property Type_Serviced apartment', 'Boy or Girl?_Boy', 'Boy or Girl?_Girl', 'Instant Bookable', 'Host Response Rate', 'Mitte', 'Friedrichshain-Kreuzberg', 'Is Exact Location', 'Property Type_Loft', 'Property Type_Apartment', 'Guests Included', 'Beds', 'Bedrooms', 'Accuracy Rating', 'Location Rating', 'Communication Rating', 'Checkin Rating', 'Overall Rating']\n"
     ]
    },
    {
     "name": "stderr",
     "output_type": "stream",
     "text": [
      "\n",
      "\n",
      "\n",
      "\n",
      "\n",
      "\n",
      "\n",
      " 90%|████████▉ | 52/58 [06:00<00:44,  7.50s/it]\u001b[A\u001b[A\u001b[A\u001b[A\u001b[A\u001b[A\u001b[A"
     ]
    },
    {
     "name": "stdout",
     "output_type": "stream",
     "text": [
      "Processed 7 models on 52 features in 6.956053018569946 seconds.\n",
      "['Accomodates', 'Room Type_Entire home/apt', 'Bathrooms', 'Host Response Time_unknown', 'Property Type_Hotel', 'Property Type_Boutique hotel', 'Property Type_Hostel', 'Steglitz - Zehlendorf', 'Property Type_Other', 'Property Type_Boat', 'Reinickendorf', 'Property Type_Guesthouse', 'Property Type_Bungalow', 'Property Type_Bed and breakfast', 'Property Type_Guest suite', 'Property Type_Condominium', 'Room Type_Shared room', 'Room Type_Private room', 'Spandau', 'Host Response Time_a few days or more', 'Property Type_Townhouse', 'Lichtenberg', 'Charlottenburg-Wilm.', 'NeukÃ¶lln', 'Treptow - KÃ¶penick', 'Tempelhof - SchÃ¶neberg', 'Host Response Time_within a day', 'Is Superhost', 'Property Type_House', 'Marzahn - Hellersdorf', 'Pankow', 'Host Response Time_within a few hours', 'Host Response Time_within an hour', 'Property Type_Serviced apartment', 'Boy or Girl?_Boy', 'Boy or Girl?_Girl', 'Instant Bookable', 'Host Response Rate', 'Mitte', 'Friedrichshain-Kreuzberg', 'Is Exact Location', 'Property Type_Loft', 'Property Type_Apartment', 'Guests Included', 'Beds', 'Bedrooms', 'Accuracy Rating', 'Location Rating', 'Communication Rating', 'Checkin Rating', 'Overall Rating', 'Host Since']\n"
     ]
    },
    {
     "name": "stderr",
     "output_type": "stream",
     "text": [
      "\n",
      "\n",
      "\n",
      "\n",
      "\n",
      "\n",
      "\n",
      " 91%|█████████▏| 53/58 [06:07<00:36,  7.40s/it]\u001b[A\u001b[A\u001b[A\u001b[A\u001b[A\u001b[A\u001b[A"
     ]
    },
    {
     "name": "stdout",
     "output_type": "stream",
     "text": [
      "Processed 6 models on 53 features in 7.156906843185425 seconds.\n",
      "['Accomodates', 'Room Type_Entire home/apt', 'Bathrooms', 'Host Response Time_unknown', 'Property Type_Hotel', 'Property Type_Boutique hotel', 'Property Type_Hostel', 'Steglitz - Zehlendorf', 'Property Type_Other', 'Property Type_Boat', 'Reinickendorf', 'Property Type_Guesthouse', 'Property Type_Bungalow', 'Property Type_Bed and breakfast', 'Property Type_Guest suite', 'Property Type_Condominium', 'Room Type_Shared room', 'Room Type_Private room', 'Spandau', 'Host Response Time_a few days or more', 'Property Type_Townhouse', 'Lichtenberg', 'Charlottenburg-Wilm.', 'NeukÃ¶lln', 'Treptow - KÃ¶penick', 'Tempelhof - SchÃ¶neberg', 'Host Response Time_within a day', 'Is Superhost', 'Property Type_House', 'Marzahn - Hellersdorf', 'Pankow', 'Host Response Time_within a few hours', 'Host Response Time_within an hour', 'Property Type_Serviced apartment', 'Boy or Girl?_Boy', 'Boy or Girl?_Girl', 'Instant Bookable', 'Host Response Rate', 'Mitte', 'Friedrichshain-Kreuzberg', 'Is Exact Location', 'Property Type_Loft', 'Property Type_Apartment', 'Guests Included', 'Beds', 'Bedrooms', 'Accuracy Rating', 'Location Rating', 'Communication Rating', 'Checkin Rating', 'Overall Rating', 'Host Since', 'Cleanliness Rating']\n"
     ]
    },
    {
     "name": "stderr",
     "output_type": "stream",
     "text": [
      "\n",
      "\n",
      "\n",
      "\n",
      "\n",
      "\n",
      "\n",
      " 93%|█████████▎| 54/58 [06:13<00:27,  6.98s/it]\u001b[A\u001b[A\u001b[A\u001b[A\u001b[A\u001b[A\u001b[A"
     ]
    },
    {
     "name": "stdout",
     "output_type": "stream",
     "text": [
      "Processed 5 models on 54 features in 5.994368076324463 seconds.\n",
      "['Accomodates', 'Room Type_Entire home/apt', 'Bathrooms', 'Host Response Time_unknown', 'Property Type_Hotel', 'Property Type_Boutique hotel', 'Property Type_Hostel', 'Steglitz - Zehlendorf', 'Property Type_Other', 'Property Type_Boat', 'Reinickendorf', 'Property Type_Guesthouse', 'Property Type_Bungalow', 'Property Type_Bed and breakfast', 'Property Type_Guest suite', 'Property Type_Condominium', 'Room Type_Shared room', 'Room Type_Private room', 'Spandau', 'Host Response Time_a few days or more', 'Property Type_Townhouse', 'Lichtenberg', 'Charlottenburg-Wilm.', 'NeukÃ¶lln', 'Treptow - KÃ¶penick', 'Tempelhof - SchÃ¶neberg', 'Host Response Time_within a day', 'Is Superhost', 'Property Type_House', 'Marzahn - Hellersdorf', 'Pankow', 'Host Response Time_within a few hours', 'Host Response Time_within an hour', 'Property Type_Serviced apartment', 'Boy or Girl?_Boy', 'Boy or Girl?_Girl', 'Instant Bookable', 'Host Response Rate', 'Mitte', 'Friedrichshain-Kreuzberg', 'Is Exact Location', 'Property Type_Loft', 'Property Type_Apartment', 'Guests Included', 'Beds', 'Bedrooms', 'Accuracy Rating', 'Location Rating', 'Communication Rating', 'Checkin Rating', 'Overall Rating', 'Host Since', 'Cleanliness Rating', 'Value Rating']\n"
     ]
    },
    {
     "name": "stderr",
     "output_type": "stream",
     "text": [
      "\n",
      "\n",
      "\n",
      "\n",
      "\n",
      "\n",
      "\n",
      " 95%|█████████▍| 55/58 [06:18<00:19,  6.54s/it]\u001b[A\u001b[A\u001b[A\u001b[A\u001b[A\u001b[A\u001b[A"
     ]
    },
    {
     "name": "stdout",
     "output_type": "stream",
     "text": [
      "Processed 4 models on 55 features in 5.508554935455322 seconds.\n",
      "['Accomodates', 'Room Type_Entire home/apt', 'Bathrooms', 'Host Response Time_unknown', 'Property Type_Hotel', 'Property Type_Boutique hotel', 'Property Type_Hostel', 'Steglitz - Zehlendorf', 'Property Type_Other', 'Property Type_Boat', 'Reinickendorf', 'Property Type_Guesthouse', 'Property Type_Bungalow', 'Property Type_Bed and breakfast', 'Property Type_Guest suite', 'Property Type_Condominium', 'Room Type_Shared room', 'Room Type_Private room', 'Spandau', 'Host Response Time_a few days or more', 'Property Type_Townhouse', 'Lichtenberg', 'Charlottenburg-Wilm.', 'NeukÃ¶lln', 'Treptow - KÃ¶penick', 'Tempelhof - SchÃ¶neberg', 'Host Response Time_within a day', 'Is Superhost', 'Property Type_House', 'Marzahn - Hellersdorf', 'Pankow', 'Host Response Time_within a few hours', 'Host Response Time_within an hour', 'Property Type_Serviced apartment', 'Boy or Girl?_Boy', 'Boy or Girl?_Girl', 'Instant Bookable', 'Host Response Rate', 'Mitte', 'Friedrichshain-Kreuzberg', 'Is Exact Location', 'Property Type_Loft', 'Property Type_Apartment', 'Guests Included', 'Beds', 'Bedrooms', 'Accuracy Rating', 'Location Rating', 'Communication Rating', 'Checkin Rating', 'Overall Rating', 'Host Since', 'Cleanliness Rating', 'Value Rating', 'Longitude']\n"
     ]
    },
    {
     "name": "stderr",
     "output_type": "stream",
     "text": [
      "\n",
      "\n",
      "\n",
      "\n",
      "\n",
      "\n",
      "\n",
      " 97%|█████████▋| 56/58 [06:23<00:11,  5.86s/it]\u001b[A\u001b[A\u001b[A\u001b[A\u001b[A\u001b[A\u001b[A"
     ]
    },
    {
     "name": "stdout",
     "output_type": "stream",
     "text": [
      "Processed 3 models on 56 features in 4.286189794540405 seconds.\n",
      "['Accomodates', 'Room Type_Entire home/apt', 'Bathrooms', 'Host Response Time_unknown', 'Property Type_Hotel', 'Property Type_Boutique hotel', 'Property Type_Hostel', 'Steglitz - Zehlendorf', 'Property Type_Other', 'Property Type_Boat', 'Reinickendorf', 'Property Type_Guesthouse', 'Property Type_Bungalow', 'Property Type_Bed and breakfast', 'Property Type_Guest suite', 'Property Type_Condominium', 'Room Type_Shared room', 'Room Type_Private room', 'Spandau', 'Host Response Time_a few days or more', 'Property Type_Townhouse', 'Lichtenberg', 'Charlottenburg-Wilm.', 'NeukÃ¶lln', 'Treptow - KÃ¶penick', 'Tempelhof - SchÃ¶neberg', 'Host Response Time_within a day', 'Is Superhost', 'Property Type_House', 'Marzahn - Hellersdorf', 'Pankow', 'Host Response Time_within a few hours', 'Host Response Time_within an hour', 'Property Type_Serviced apartment', 'Boy or Girl?_Boy', 'Boy or Girl?_Girl', 'Instant Bookable', 'Host Response Rate', 'Mitte', 'Friedrichshain-Kreuzberg', 'Is Exact Location', 'Property Type_Loft', 'Property Type_Apartment', 'Guests Included', 'Beds', 'Bedrooms', 'Accuracy Rating', 'Location Rating', 'Communication Rating', 'Checkin Rating', 'Overall Rating', 'Host Since', 'Cleanliness Rating', 'Value Rating', 'Longitude', 'Reviews']\n"
     ]
    },
    {
     "name": "stderr",
     "output_type": "stream",
     "text": [
      "\n",
      "\n",
      "\n",
      "\n",
      "\n",
      "\n",
      "\n",
      " 98%|█████████▊| 57/58 [06:26<00:05,  5.06s/it]\u001b[A\u001b[A\u001b[A\u001b[A\u001b[A\u001b[A\u001b[A"
     ]
    },
    {
     "name": "stdout",
     "output_type": "stream",
     "text": [
      "Processed 2 models on 57 features in 3.188593864440918 seconds.\n",
      "['Accomodates', 'Room Type_Entire home/apt', 'Bathrooms', 'Host Response Time_unknown', 'Property Type_Hotel', 'Property Type_Boutique hotel', 'Property Type_Hostel', 'Steglitz - Zehlendorf', 'Property Type_Other', 'Property Type_Boat', 'Reinickendorf', 'Property Type_Guesthouse', 'Property Type_Bungalow', 'Property Type_Bed and breakfast', 'Property Type_Guest suite', 'Property Type_Condominium', 'Room Type_Shared room', 'Room Type_Private room', 'Spandau', 'Host Response Time_a few days or more', 'Property Type_Townhouse', 'Lichtenberg', 'Charlottenburg-Wilm.', 'NeukÃ¶lln', 'Treptow - KÃ¶penick', 'Tempelhof - SchÃ¶neberg', 'Host Response Time_within a day', 'Is Superhost', 'Property Type_House', 'Marzahn - Hellersdorf', 'Pankow', 'Host Response Time_within a few hours', 'Host Response Time_within an hour', 'Property Type_Serviced apartment', 'Boy or Girl?_Boy', 'Boy or Girl?_Girl', 'Instant Bookable', 'Host Response Rate', 'Mitte', 'Friedrichshain-Kreuzberg', 'Is Exact Location', 'Property Type_Loft', 'Property Type_Apartment', 'Guests Included', 'Beds', 'Bedrooms', 'Accuracy Rating', 'Location Rating', 'Communication Rating', 'Checkin Rating', 'Overall Rating', 'Host Since', 'Cleanliness Rating', 'Value Rating', 'Longitude', 'Reviews', 'Min Nights']\n"
     ]
    },
    {
     "name": "stderr",
     "output_type": "stream",
     "text": [
      "\n",
      "\n",
      "\n",
      "\n",
      "\n",
      "\n",
      "\n",
      "100%|██████████| 58/58 [06:28<00:00,  4.07s/it]\u001b[A\u001b[A\u001b[A\u001b[A\u001b[A\u001b[A\u001b[A"
     ]
    },
    {
     "name": "stdout",
     "output_type": "stream",
     "text": [
      "Processed 1 models on 58 features in 1.763382911682129 seconds.\n",
      "['Accomodates', 'Room Type_Entire home/apt', 'Bathrooms', 'Host Response Time_unknown', 'Property Type_Hotel', 'Property Type_Boutique hotel', 'Property Type_Hostel', 'Steglitz - Zehlendorf', 'Property Type_Other', 'Property Type_Boat', 'Reinickendorf', 'Property Type_Guesthouse', 'Property Type_Bungalow', 'Property Type_Bed and breakfast', 'Property Type_Guest suite', 'Property Type_Condominium', 'Room Type_Shared room', 'Room Type_Private room', 'Spandau', 'Host Response Time_a few days or more', 'Property Type_Townhouse', 'Lichtenberg', 'Charlottenburg-Wilm.', 'NeukÃ¶lln', 'Treptow - KÃ¶penick', 'Tempelhof - SchÃ¶neberg', 'Host Response Time_within a day', 'Is Superhost', 'Property Type_House', 'Marzahn - Hellersdorf', 'Pankow', 'Host Response Time_within a few hours', 'Host Response Time_within an hour', 'Property Type_Serviced apartment', 'Boy or Girl?_Boy', 'Boy or Girl?_Girl', 'Instant Bookable', 'Host Response Rate', 'Mitte', 'Friedrichshain-Kreuzberg', 'Is Exact Location', 'Property Type_Loft', 'Property Type_Apartment', 'Guests Included', 'Beds', 'Bedrooms', 'Accuracy Rating', 'Location Rating', 'Communication Rating', 'Checkin Rating', 'Overall Rating', 'Host Since', 'Cleanliness Rating', 'Value Rating', 'Longitude', 'Reviews', 'Min Nights', 'Latitude']\n",
      "Total elapsed time: 388.1420178413391 seconds.\n"
     ]
    }
   ],
   "source": [
    "models_fwd = pd.DataFrame(columns=[\"model\", \"RSS\"])\n",
    "\n",
    "tic = time.time()\n",
    "features = []\n",
    "\n",
    "for i in tqdm(range(1, len(data.columns))):  # len()+1 ???\n",
    "    models_fwd.loc[i] = forward(features)\n",
    "    features = models_fwd.loc[i][\"model\"]\n",
    "    print(features)\n",
    "\n",
    "toc = time.time()\n",
    "print(\"Total elapsed time:\", (toc-tic), \"seconds.\")"
   ]
  },
  {
   "cell_type": "markdown",
   "metadata": {},
   "source": [
    "We now have the best model $\\mathcal{M}_k$ for each number of features $k$ and want to choose the best $\\mathcal{M}_k$. The $\\textbf{RSS}$ values obtained previously correspond to the prediction error on the test samples (thanks to our cross-validation approach). Therefore, we will choose the model with the lowest $\\textbf{RSS}$."
   ]
  },
  {
   "cell_type": "code",
   "execution_count": 222,
   "metadata": {},
   "outputs": [
    {
     "data": {
      "text/plain": [
       "[<matplotlib.lines.Line2D at 0x7faad302e160>]"
      ]
     },
     "execution_count": 222,
     "metadata": {},
     "output_type": "execute_result"
    },
    {
     "data": {
      "image/png": "[encoded data removed]",
      "text/plain": [
       "<Figure size 432x288 with 1 Axes>"
      ]
     },
     "metadata": {
      "needs_background": "light"
     },
     "output_type": "display_data"
    }
   ],
   "source": [
    "import matplotlib.pyplot as plt\n",
    "\n",
    "plt.plot(models_fwd[\"RSS\"])\n",
    "plt.xlabel('# Features')\n",
    "plt.ylabel('RSS')\n",
    "plt.plot(models_fwd[\"RSS\"].idxmin(), models_fwd[\"RSS\"].min(), \"or\")"
   ]
  },
  {
   "cell_type": "code",
   "execution_count": 249,
   "metadata": {},
   "outputs": [],
   "source": [
    "# Something seems wrong with the graph (minimum should be around 30 features)\n",
    "# Obtain features of the best model according to the FSS"
   ]
  },
  {
   "cell_type": "markdown",
   "metadata": {},
   "source": [
    "#### Backward Stepwise Selection"
   ]
  },
  {
   "cell_type": "code",
   "execution_count": 250,
   "metadata": {},
   "outputs": [],
   "source": [
    "def backward(features):\n",
    "        \n",
    "    tic = time.time()    \n",
    "        \n",
    "    results = []\n",
    "    \n",
    "    for combo in itertools.combinations(features, len(features)-1):\n",
    "        results.append(processSubset(combo))\n",
    "    \n",
    "    # Wrap everything up in a nice dataframe\n",
    "    models = pd.DataFrame(results)\n",
    "    \n",
    "    # Choose the model with the lowest RSS\n",
    "    best_model = models.loc[models['RSS'].idxmin()]\n",
    "    \n",
    "    toc = time.time()\n",
    "    print(\"Processed\", models.shape[0], \"models on\", len(features)-1, \"features in\", (toc-tic), \"seconds.\")\n",
    "\n",
    "        \n",
    "    # Return the best model, along with some other useful information about the model\n",
    "    return best_model"
   ]
  },
  {
   "cell_type": "code",
   "execution_count": 251,
   "metadata": {},
   "outputs": [
    {
     "ename": "KeyError",
     "evalue": "\"['City', 'neighbourhood', 'Listing ID', 'Listing Name', 'Neighborhood Group', 'Business Travel Ready', 'First Review', 'Last Review', 'Postal Code', 'Room Type', 'Country', 'Host Response Time', 'Host ID', 'Host Name', 'Square Feet', 'Country Code', 'Property Type'] not in index\"",
     "output_type": "error",
     "traceback": [
      "\u001b[0;31m---------------------------------------------------------------------------\u001b[0m",
      "\u001b[0;31mKeyError\u001b[0m                                  Traceback (most recent call last)",
      "\u001b[0;32m<ipython-input-251-a75debca2067>\u001b[0m in \u001b[0;36m<module>\u001b[0;34m\u001b[0m\n\u001b[1;32m      5\u001b[0m \u001b[0;34m\u001b[0m\u001b[0m\n\u001b[1;32m      6\u001b[0m \u001b[0;32mwhile\u001b[0m\u001b[0;34m(\u001b[0m\u001b[0mlen\u001b[0m\u001b[0;34m(\u001b[0m\u001b[0mfeatures\u001b[0m\u001b[0;34m)\u001b[0m \u001b[0;34m>\u001b[0m \u001b[0;36m1\u001b[0m\u001b[0;34m)\u001b[0m\u001b[0;34m:\u001b[0m\u001b[0;34m\u001b[0m\u001b[0;34m\u001b[0m\u001b[0m\n\u001b[0;32m----> 7\u001b[0;31m     \u001b[0mmodels_bwd\u001b[0m\u001b[0;34m.\u001b[0m\u001b[0mloc\u001b[0m\u001b[0;34m[\u001b[0m\u001b[0mlen\u001b[0m\u001b[0;34m(\u001b[0m\u001b[0mfeatures\u001b[0m\u001b[0;34m)\u001b[0m\u001b[0;34m-\u001b[0m\u001b[0;36m1\u001b[0m\u001b[0;34m]\u001b[0m \u001b[0;34m=\u001b[0m \u001b[0mbackward\u001b[0m\u001b[0;34m(\u001b[0m\u001b[0mfeatures\u001b[0m\u001b[0;34m)\u001b[0m\u001b[0;34m\u001b[0m\u001b[0;34m\u001b[0m\u001b[0m\n\u001b[0m\u001b[1;32m      8\u001b[0m     \u001b[0mfeatures\u001b[0m \u001b[0;34m=\u001b[0m \u001b[0mmodels_bwd\u001b[0m\u001b[0;34m.\u001b[0m\u001b[0mloc\u001b[0m\u001b[0;34m[\u001b[0m\u001b[0mlen\u001b[0m\u001b[0;34m(\u001b[0m\u001b[0mfeatures\u001b[0m\u001b[0;34m)\u001b[0m\u001b[0;34m-\u001b[0m\u001b[0;36m1\u001b[0m\u001b[0;34m]\u001b[0m\u001b[0;34m[\u001b[0m\u001b[0;34m\"model\"\u001b[0m\u001b[0;34m]\u001b[0m\u001b[0;34m\u001b[0m\u001b[0;34m\u001b[0m\u001b[0m\n\u001b[1;32m      9\u001b[0m     \u001b[0mprint\u001b[0m\u001b[0;34m(\u001b[0m\u001b[0mfeatures\u001b[0m\u001b[0;34m)\u001b[0m\u001b[0;34m\u001b[0m\u001b[0;34m\u001b[0m\u001b[0m\n",
      "\u001b[0;32m<ipython-input-250-40fea497587f>\u001b[0m in \u001b[0;36mbackward\u001b[0;34m(features)\u001b[0m\n\u001b[1;32m      6\u001b[0m \u001b[0;34m\u001b[0m\u001b[0m\n\u001b[1;32m      7\u001b[0m     \u001b[0;32mfor\u001b[0m \u001b[0mcombo\u001b[0m \u001b[0;32min\u001b[0m \u001b[0mitertools\u001b[0m\u001b[0;34m.\u001b[0m\u001b[0mcombinations\u001b[0m\u001b[0;34m(\u001b[0m\u001b[0mfeatures\u001b[0m\u001b[0;34m,\u001b[0m \u001b[0mlen\u001b[0m\u001b[0;34m(\u001b[0m\u001b[0mfeatures\u001b[0m\u001b[0;34m)\u001b[0m\u001b[0;34m-\u001b[0m\u001b[0;36m1\u001b[0m\u001b[0;34m)\u001b[0m\u001b[0;34m:\u001b[0m\u001b[0;34m\u001b[0m\u001b[0;34m\u001b[0m\u001b[0m\n\u001b[0;32m----> 8\u001b[0;31m         \u001b[0mresults\u001b[0m\u001b[0;34m.\u001b[0m\u001b[0mappend\u001b[0m\u001b[0;34m(\u001b[0m\u001b[0mprocessSubset\u001b[0m\u001b[0;34m(\u001b[0m\u001b[0mcombo\u001b[0m\u001b[0;34m)\u001b[0m\u001b[0;34m)\u001b[0m\u001b[0;34m\u001b[0m\u001b[0;34m\u001b[0m\u001b[0m\n\u001b[0m\u001b[1;32m      9\u001b[0m \u001b[0;34m\u001b[0m\u001b[0m\n\u001b[1;32m     10\u001b[0m     \u001b[0;31m# Wrap everything up in a nice dataframe\u001b[0m\u001b[0;34m\u001b[0m\u001b[0;34m\u001b[0m\u001b[0;34m\u001b[0m\u001b[0m\n",
      "\u001b[0;32m<ipython-input-210-a11c343a14d2>\u001b[0m in \u001b[0;36mprocessSubset\u001b[0;34m(feature_set)\u001b[0m\n\u001b[1;32m     10\u001b[0m     \u001b[0;31m# Fit decision tree model on feature_set and calculate score\u001b[0m\u001b[0;34m\u001b[0m\u001b[0;34m\u001b[0m\u001b[0;34m\u001b[0m\u001b[0m\n\u001b[1;32m     11\u001b[0m     score = -1 * model_selection.cross_val_score(clf,\n\u001b[0;32m---> 12\u001b[0;31m                                                  \u001b[0mX_train\u001b[0m\u001b[0;34m[\u001b[0m\u001b[0mlist\u001b[0m\u001b[0;34m(\u001b[0m\u001b[0mfeature_set\u001b[0m\u001b[0;34m)\u001b[0m\u001b[0;34m]\u001b[0m\u001b[0;34m,\u001b[0m\u001b[0;34m\u001b[0m\u001b[0;34m\u001b[0m\u001b[0m\n\u001b[0m\u001b[1;32m     13\u001b[0m                                                  \u001b[0my_train\u001b[0m\u001b[0;34m.\u001b[0m\u001b[0mravel\u001b[0m\u001b[0;34m(\u001b[0m\u001b[0;34m)\u001b[0m\u001b[0;34m,\u001b[0m\u001b[0;34m\u001b[0m\u001b[0;34m\u001b[0m\u001b[0m\n\u001b[1;32m     14\u001b[0m                                                  \u001b[0mcv\u001b[0m\u001b[0;34m=\u001b[0m\u001b[0mkf_10\u001b[0m\u001b[0;34m,\u001b[0m\u001b[0;34m\u001b[0m\u001b[0;34m\u001b[0m\u001b[0m\n",
      "\u001b[0;32m~/anaconda3/lib/python3.7/site-packages/pandas/core/frame.py\u001b[0m in \u001b[0;36m__getitem__\u001b[0;34m(self, key)\u001b[0m\n\u001b[1;32m   2932\u001b[0m                 \u001b[0mkey\u001b[0m \u001b[0;34m=\u001b[0m \u001b[0mlist\u001b[0m\u001b[0;34m(\u001b[0m\u001b[0mkey\u001b[0m\u001b[0;34m)\u001b[0m\u001b[0;34m\u001b[0m\u001b[0;34m\u001b[0m\u001b[0m\n\u001b[1;32m   2933\u001b[0m             indexer = self.loc._convert_to_indexer(key, axis=1,\n\u001b[0;32m-> 2934\u001b[0;31m                                                    raise_missing=True)\n\u001b[0m\u001b[1;32m   2935\u001b[0m \u001b[0;34m\u001b[0m\u001b[0m\n\u001b[1;32m   2936\u001b[0m         \u001b[0;31m# take() does not accept boolean indexers\u001b[0m\u001b[0;34m\u001b[0m\u001b[0;34m\u001b[0m\u001b[0;34m\u001b[0m\u001b[0m\n",
      "\u001b[0;32m~/anaconda3/lib/python3.7/site-packages/pandas/core/indexing.py\u001b[0m in \u001b[0;36m_convert_to_indexer\u001b[0;34m(self, obj, axis, is_setter, raise_missing)\u001b[0m\n\u001b[1;32m   1352\u001b[0m                 kwargs = {'raise_missing': True if is_setter else\n\u001b[1;32m   1353\u001b[0m                           raise_missing}\n\u001b[0;32m-> 1354\u001b[0;31m                 \u001b[0;32mreturn\u001b[0m \u001b[0mself\u001b[0m\u001b[0;34m.\u001b[0m\u001b[0m_get_listlike_indexer\u001b[0m\u001b[0;34m(\u001b[0m\u001b[0mobj\u001b[0m\u001b[0;34m,\u001b[0m \u001b[0maxis\u001b[0m\u001b[0;34m,\u001b[0m \u001b[0;34m**\u001b[0m\u001b[0mkwargs\u001b[0m\u001b[0;34m)\u001b[0m\u001b[0;34m[\u001b[0m\u001b[0;36m1\u001b[0m\u001b[0;34m]\u001b[0m\u001b[0;34m\u001b[0m\u001b[0;34m\u001b[0m\u001b[0m\n\u001b[0m\u001b[1;32m   1355\u001b[0m         \u001b[0;32melse\u001b[0m\u001b[0;34m:\u001b[0m\u001b[0;34m\u001b[0m\u001b[0;34m\u001b[0m\u001b[0m\n\u001b[1;32m   1356\u001b[0m             \u001b[0;32mtry\u001b[0m\u001b[0;34m:\u001b[0m\u001b[0;34m\u001b[0m\u001b[0;34m\u001b[0m\u001b[0m\n",
      "\u001b[0;32m~/anaconda3/lib/python3.7/site-packages/pandas/core/indexing.py\u001b[0m in \u001b[0;36m_get_listlike_indexer\u001b[0;34m(self, key, axis, raise_missing)\u001b[0m\n\u001b[1;32m   1159\u001b[0m         self._validate_read_indexer(keyarr, indexer,\n\u001b[1;32m   1160\u001b[0m                                     \u001b[0mo\u001b[0m\u001b[0;34m.\u001b[0m\u001b[0m_get_axis_number\u001b[0m\u001b[0;34m(\u001b[0m\u001b[0maxis\u001b[0m\u001b[0;34m)\u001b[0m\u001b[0;34m,\u001b[0m\u001b[0;34m\u001b[0m\u001b[0;34m\u001b[0m\u001b[0m\n\u001b[0;32m-> 1161\u001b[0;31m                                     raise_missing=raise_missing)\n\u001b[0m\u001b[1;32m   1162\u001b[0m         \u001b[0;32mreturn\u001b[0m \u001b[0mkeyarr\u001b[0m\u001b[0;34m,\u001b[0m \u001b[0mindexer\u001b[0m\u001b[0;34m\u001b[0m\u001b[0;34m\u001b[0m\u001b[0m\n\u001b[1;32m   1163\u001b[0m \u001b[0;34m\u001b[0m\u001b[0m\n",
      "\u001b[0;32m~/anaconda3/lib/python3.7/site-packages/pandas/core/indexing.py\u001b[0m in \u001b[0;36m_validate_read_indexer\u001b[0;34m(self, key, indexer, axis, raise_missing)\u001b[0m\n\u001b[1;32m   1250\u001b[0m             \u001b[0;32mif\u001b[0m \u001b[0;32mnot\u001b[0m\u001b[0;34m(\u001b[0m\u001b[0mself\u001b[0m\u001b[0;34m.\u001b[0m\u001b[0mname\u001b[0m \u001b[0;34m==\u001b[0m \u001b[0;34m'loc'\u001b[0m \u001b[0;32mand\u001b[0m \u001b[0;32mnot\u001b[0m \u001b[0mraise_missing\u001b[0m\u001b[0;34m)\u001b[0m\u001b[0;34m:\u001b[0m\u001b[0;34m\u001b[0m\u001b[0;34m\u001b[0m\u001b[0m\n\u001b[1;32m   1251\u001b[0m                 \u001b[0mnot_found\u001b[0m \u001b[0;34m=\u001b[0m \u001b[0mlist\u001b[0m\u001b[0;34m(\u001b[0m\u001b[0mset\u001b[0m\u001b[0;34m(\u001b[0m\u001b[0mkey\u001b[0m\u001b[0;34m)\u001b[0m \u001b[0;34m-\u001b[0m \u001b[0mset\u001b[0m\u001b[0;34m(\u001b[0m\u001b[0max\u001b[0m\u001b[0;34m)\u001b[0m\u001b[0;34m)\u001b[0m\u001b[0;34m\u001b[0m\u001b[0;34m\u001b[0m\u001b[0m\n\u001b[0;32m-> 1252\u001b[0;31m                 \u001b[0;32mraise\u001b[0m \u001b[0mKeyError\u001b[0m\u001b[0;34m(\u001b[0m\u001b[0;34m\"{} not in index\"\u001b[0m\u001b[0;34m.\u001b[0m\u001b[0mformat\u001b[0m\u001b[0;34m(\u001b[0m\u001b[0mnot_found\u001b[0m\u001b[0;34m)\u001b[0m\u001b[0;34m)\u001b[0m\u001b[0;34m\u001b[0m\u001b[0;34m\u001b[0m\u001b[0m\n\u001b[0m\u001b[1;32m   1253\u001b[0m \u001b[0;34m\u001b[0m\u001b[0m\n\u001b[1;32m   1254\u001b[0m             \u001b[0;31m# we skip the warning on Categorical/Interval\u001b[0m\u001b[0;34m\u001b[0m\u001b[0;34m\u001b[0m\u001b[0;34m\u001b[0m\u001b[0m\n",
      "\u001b[0;31mKeyError\u001b[0m: \"['City', 'neighbourhood', 'Listing ID', 'Listing Name', 'Neighborhood Group', 'Business Travel Ready', 'First Review', 'Last Review', 'Postal Code', 'Room Type', 'Country', 'Host Response Time', 'Host ID', 'Host Name', 'Square Feet', 'Country Code', 'Property Type'] not in index\""
     ]
    }
   ],
   "source": [
    "models_bwd = pd.DataFrame(columns=[\"model\", \"RSS\"], index = range(1, len(data.columns)))\n",
    "\n",
    "tic = time.time()\n",
    "features = data.columns\n",
    "\n",
    "while(len(features) > 1):  \n",
    "    models_bwd.loc[len(features)-1] = backward(features)\n",
    "    features = models_bwd.loc[len(features)-1][\"model\"]\n",
    "    print(features)\n",
    "\n",
    "toc = time.time()\n",
    "print(\"Total elapsed time:\", (toc-tic), \"seconds.\")"
   ]
  },
  {
   "cell_type": "markdown",
   "metadata": {},
   "source": [
    "### Principal Components Analysis (PCA)"
   ]
  },
  {
   "cell_type": "markdown",
   "metadata": {},
   "source": [
    "## Decision Tree"
   ]
  },
  {
   "cell_type": "code",
   "execution_count": 223,
   "metadata": {},
   "outputs": [],
   "source": [
    "import pandas as pd\n",
    "import numpy as np\n",
    "import copy\n",
    "import seaborn as sb\n",
    "import matplotlib.pyplot as plt\n",
    "from matplotlib.gridspec import GridSpec\n",
    "\n",
    "from sklearn.model_selection import train_test_split\n",
    "from sklearn.preprocessing import StandardScaler\n",
    "# from sklearn.linear_model import SGDRegressor\n",
    "from sklearn import tree"
   ]
  },
  {
   "cell_type": "code",
   "execution_count": 224,
   "metadata": {},
   "outputs": [],
   "source": [
    "data = pd.read_csv('../../data/train_airbnb_berlin_preprocessed.csv', delimiter = ';')"
   ]
  },
  {
   "cell_type": "code",
   "execution_count": 225,
   "metadata": {},
   "outputs": [],
   "source": [
    "data = data.drop(['Host Name',  # we have gender info\n",
    "                  'Postal Code',\n",
    "                  'neighbourhood'], axis=1)  # removing neighborhood FOR NOW (check later)"
   ]
  },
  {
   "cell_type": "code",
   "execution_count": 226,
   "metadata": {},
   "outputs": [],
   "source": [
    "# We encode 'Neighborhood Group' classes into a one hot encoder\n",
    "encoder = pd.get_dummies(data['Neighborhood Group'], dtype = 'int64')\n",
    "for feature in encoder.columns:\n",
    "    data[feature] = encoder[feature]\n",
    "\n",
    "del data['Neighborhood Group']"
   ]
  },
  {
   "cell_type": "code",
   "execution_count": 227,
   "metadata": {},
   "outputs": [],
   "source": [
    "train_set, test_set = train_test_split(data, test_size=0.2, random_state=0)"
   ]
  },
  {
   "cell_type": "code",
   "execution_count": 228,
   "metadata": {},
   "outputs": [],
   "source": [
    "features = [col for col in train_set.columns.tolist() if col != 'Price']\n",
    "\n",
    "X_train, y_train = train_set[features], train_set['Price']\n",
    "\n",
    "clf = tree.DecisionTreeRegressor().fit(X_train, y_train)"
   ]
  },
  {
   "cell_type": "code",
   "execution_count": 229,
   "metadata": {},
   "outputs": [
    {
     "data": {
      "text/plain": [
       "57.07292638369519"
      ]
     },
     "execution_count": 229,
     "metadata": {},
     "output_type": "execute_result"
    }
   ],
   "source": [
    "from sklearn.metrics import mean_squared_error\n",
    "\n",
    "\n",
    "X_test, y_test = test_set[features], test_set['Price']\n",
    "y_predicted = clf.predict(X_test)\n",
    "np.sqrt(mean_squared_error(y_test, y_predicted))"
   ]
  },
  {
   "cell_type": "code",
   "execution_count": 232,
   "metadata": {},
   "outputs": [
    {
     "name": "stderr",
     "output_type": "stream",
     "text": [
      "/Users/Paul/anaconda3/lib/python3.7/site-packages/sklearn/model_selection/_split.py:657: Warning: The least populated class in y has only 1 members, which is too few. The minimum number of members in any class cannot be less than n_splits=10.\n",
      "  % (min_groups, self.n_splits)), Warning)\n"
     ]
    },
    {
     "name": "stdout",
     "output_type": "stream",
     "text": [
      "MSE:  1749.1234446627375\n",
      "max_depth:  {'max_depth': 7, 'min_samples_split': 10}\n"
     ]
    },
    {
     "name": "stderr",
     "output_type": "stream",
     "text": [
      "/Users/Paul/anaconda3/lib/python3.7/site-packages/sklearn/model_selection/_search.py:813: DeprecationWarning: The default of the `iid` parameter will change from True to False in version 0.22 and will be removed in 0.24. This will change numeric results when test-set sizes are unequal.\n",
      "  DeprecationWarning)\n"
     ]
    }
   ],
   "source": [
    "from sklearn.model_selection import GridSearchCV\n",
    "\n",
    "pgrid = {\"max_depth\": [1, 2, 3, 4, 5, 6, 7],\n",
    "         \"min_samples_split\": [2, 3, 5, 10, 15, 20]}\n",
    "\n",
    "grid_search = GridSearchCV(tree.DecisionTreeClassifier(),\n",
    "                           param_grid=pgrid,\n",
    "                           scoring='neg_mean_squared_error',\n",
    "                           cv=10)\n",
    "grid_search.fit(X_train, y_train)\n",
    "# grid_search.best_estimator_.score(X_test, y_test)\n",
    "y_predicted = grid_search.best_estimator_.predict(X_test)\n",
    "\n",
    "print(\"MSE: \", mean_squared_error(y_test, y_predicted))\n",
    "print(\"max_depth: \", grid_search.best_params_)"
   ]
  },
  {
   "cell_type": "code",
   "execution_count": 233,
   "metadata": {},
   "outputs": [
    {
     "data": {
      "text/plain": [
       "array([30., 30., 30., ..., 50., 30., 30.])"
      ]
     },
     "execution_count": 233,
     "metadata": {},
     "output_type": "execute_result"
    }
   ],
   "source": [
    "y_predicted"
   ]
  },
  {
   "cell_type": "code",
   "execution_count": 234,
   "metadata": {},
   "outputs": [
    {
     "data": {
      "text/plain": [
       "array([18., 39., 21., ..., 90., 60., 30.])"
      ]
     },
     "execution_count": 234,
     "metadata": {},
     "output_type": "execute_result"
    }
   ],
   "source": [
    "y_test_array = np.array(y_test)\n",
    "\n",
    "y_test_array"
   ]
  },
  {
   "cell_type": "code",
   "execution_count": 235,
   "metadata": {},
   "outputs": [],
   "source": [
    "df = pd.DataFrame({'y_predicted': y_predicted, 'y_test': y_test_array})"
   ]
  },
  {
   "cell_type": "code",
   "execution_count": 236,
   "metadata": {},
   "outputs": [
    {
     "data": {
      "text/html": [
       "<div>\n",
       "<style scoped>\n",
       "    .dataframe tbody tr th:only-of-type {\n",
       "        vertical-align: middle;\n",
       "    }\n",
       "\n",
       "    .dataframe tbody tr th {\n",
       "        vertical-align: top;\n",
       "    }\n",
       "\n",
       "    .dataframe thead th {\n",
       "        text-align: right;\n",
       "    }\n",
       "</style>\n",
       "<table border=\"1\" class=\"dataframe\">\n",
       "  <thead>\n",
       "    <tr style=\"text-align: right;\">\n",
       "      <th></th>\n",
       "      <th>y_predicted</th>\n",
       "      <th>y_test</th>\n",
       "    </tr>\n",
       "  </thead>\n",
       "  <tbody>\n",
       "    <tr>\n",
       "      <th>0</th>\n",
       "      <td>30.0</td>\n",
       "      <td>18.0</td>\n",
       "    </tr>\n",
       "    <tr>\n",
       "      <th>1</th>\n",
       "      <td>30.0</td>\n",
       "      <td>39.0</td>\n",
       "    </tr>\n",
       "    <tr>\n",
       "      <th>2</th>\n",
       "      <td>30.0</td>\n",
       "      <td>21.0</td>\n",
       "    </tr>\n",
       "    <tr>\n",
       "      <th>3</th>\n",
       "      <td>30.0</td>\n",
       "      <td>35.0</td>\n",
       "    </tr>\n",
       "    <tr>\n",
       "      <th>4</th>\n",
       "      <td>80.0</td>\n",
       "      <td>70.0</td>\n",
       "    </tr>\n",
       "    <tr>\n",
       "      <th>5</th>\n",
       "      <td>40.0</td>\n",
       "      <td>40.0</td>\n",
       "    </tr>\n",
       "    <tr>\n",
       "      <th>6</th>\n",
       "      <td>30.0</td>\n",
       "      <td>18.0</td>\n",
       "    </tr>\n",
       "    <tr>\n",
       "      <th>7</th>\n",
       "      <td>100.0</td>\n",
       "      <td>50.0</td>\n",
       "    </tr>\n",
       "    <tr>\n",
       "      <th>8</th>\n",
       "      <td>50.0</td>\n",
       "      <td>120.0</td>\n",
       "    </tr>\n",
       "    <tr>\n",
       "      <th>9</th>\n",
       "      <td>150.0</td>\n",
       "      <td>280.0</td>\n",
       "    </tr>\n",
       "    <tr>\n",
       "      <th>10</th>\n",
       "      <td>25.0</td>\n",
       "      <td>32.0</td>\n",
       "    </tr>\n",
       "    <tr>\n",
       "      <th>11</th>\n",
       "      <td>340.0</td>\n",
       "      <td>120.0</td>\n",
       "    </tr>\n",
       "    <tr>\n",
       "      <th>12</th>\n",
       "      <td>35.0</td>\n",
       "      <td>23.0</td>\n",
       "    </tr>\n",
       "    <tr>\n",
       "      <th>13</th>\n",
       "      <td>50.0</td>\n",
       "      <td>65.0</td>\n",
       "    </tr>\n",
       "    <tr>\n",
       "      <th>14</th>\n",
       "      <td>35.0</td>\n",
       "      <td>80.0</td>\n",
       "    </tr>\n",
       "    <tr>\n",
       "      <th>15</th>\n",
       "      <td>30.0</td>\n",
       "      <td>35.0</td>\n",
       "    </tr>\n",
       "    <tr>\n",
       "      <th>16</th>\n",
       "      <td>25.0</td>\n",
       "      <td>45.0</td>\n",
       "    </tr>\n",
       "    <tr>\n",
       "      <th>17</th>\n",
       "      <td>50.0</td>\n",
       "      <td>35.0</td>\n",
       "    </tr>\n",
       "    <tr>\n",
       "      <th>18</th>\n",
       "      <td>50.0</td>\n",
       "      <td>40.0</td>\n",
       "    </tr>\n",
       "    <tr>\n",
       "      <th>19</th>\n",
       "      <td>50.0</td>\n",
       "      <td>60.0</td>\n",
       "    </tr>\n",
       "    <tr>\n",
       "      <th>20</th>\n",
       "      <td>35.0</td>\n",
       "      <td>25.0</td>\n",
       "    </tr>\n",
       "    <tr>\n",
       "      <th>21</th>\n",
       "      <td>50.0</td>\n",
       "      <td>45.0</td>\n",
       "    </tr>\n",
       "    <tr>\n",
       "      <th>22</th>\n",
       "      <td>30.0</td>\n",
       "      <td>90.0</td>\n",
       "    </tr>\n",
       "    <tr>\n",
       "      <th>23</th>\n",
       "      <td>30.0</td>\n",
       "      <td>80.0</td>\n",
       "    </tr>\n",
       "    <tr>\n",
       "      <th>24</th>\n",
       "      <td>30.0</td>\n",
       "      <td>20.0</td>\n",
       "    </tr>\n",
       "    <tr>\n",
       "      <th>25</th>\n",
       "      <td>50.0</td>\n",
       "      <td>65.0</td>\n",
       "    </tr>\n",
       "    <tr>\n",
       "      <th>26</th>\n",
       "      <td>100.0</td>\n",
       "      <td>150.0</td>\n",
       "    </tr>\n",
       "    <tr>\n",
       "      <th>27</th>\n",
       "      <td>100.0</td>\n",
       "      <td>75.0</td>\n",
       "    </tr>\n",
       "    <tr>\n",
       "      <th>28</th>\n",
       "      <td>30.0</td>\n",
       "      <td>65.0</td>\n",
       "    </tr>\n",
       "    <tr>\n",
       "      <th>29</th>\n",
       "      <td>35.0</td>\n",
       "      <td>54.0</td>\n",
       "    </tr>\n",
       "    <tr>\n",
       "      <th>...</th>\n",
       "      <td>...</td>\n",
       "      <td>...</td>\n",
       "    </tr>\n",
       "    <tr>\n",
       "      <th>3024</th>\n",
       "      <td>30.0</td>\n",
       "      <td>35.0</td>\n",
       "    </tr>\n",
       "    <tr>\n",
       "      <th>3025</th>\n",
       "      <td>80.0</td>\n",
       "      <td>77.0</td>\n",
       "    </tr>\n",
       "    <tr>\n",
       "      <th>3026</th>\n",
       "      <td>30.0</td>\n",
       "      <td>40.0</td>\n",
       "    </tr>\n",
       "    <tr>\n",
       "      <th>3027</th>\n",
       "      <td>30.0</td>\n",
       "      <td>40.0</td>\n",
       "    </tr>\n",
       "    <tr>\n",
       "      <th>3028</th>\n",
       "      <td>35.0</td>\n",
       "      <td>45.0</td>\n",
       "    </tr>\n",
       "    <tr>\n",
       "      <th>3029</th>\n",
       "      <td>50.0</td>\n",
       "      <td>60.0</td>\n",
       "    </tr>\n",
       "    <tr>\n",
       "      <th>3030</th>\n",
       "      <td>30.0</td>\n",
       "      <td>38.0</td>\n",
       "    </tr>\n",
       "    <tr>\n",
       "      <th>3031</th>\n",
       "      <td>35.0</td>\n",
       "      <td>30.0</td>\n",
       "    </tr>\n",
       "    <tr>\n",
       "      <th>3032</th>\n",
       "      <td>35.0</td>\n",
       "      <td>19.0</td>\n",
       "    </tr>\n",
       "    <tr>\n",
       "      <th>3033</th>\n",
       "      <td>55.0</td>\n",
       "      <td>125.0</td>\n",
       "    </tr>\n",
       "    <tr>\n",
       "      <th>3034</th>\n",
       "      <td>30.0</td>\n",
       "      <td>40.0</td>\n",
       "    </tr>\n",
       "    <tr>\n",
       "      <th>3035</th>\n",
       "      <td>80.0</td>\n",
       "      <td>50.0</td>\n",
       "    </tr>\n",
       "    <tr>\n",
       "      <th>3036</th>\n",
       "      <td>35.0</td>\n",
       "      <td>30.0</td>\n",
       "    </tr>\n",
       "    <tr>\n",
       "      <th>3037</th>\n",
       "      <td>35.0</td>\n",
       "      <td>22.0</td>\n",
       "    </tr>\n",
       "    <tr>\n",
       "      <th>3038</th>\n",
       "      <td>99.0</td>\n",
       "      <td>125.0</td>\n",
       "    </tr>\n",
       "    <tr>\n",
       "      <th>3039</th>\n",
       "      <td>30.0</td>\n",
       "      <td>35.0</td>\n",
       "    </tr>\n",
       "    <tr>\n",
       "      <th>3040</th>\n",
       "      <td>30.0</td>\n",
       "      <td>45.0</td>\n",
       "    </tr>\n",
       "    <tr>\n",
       "      <th>3041</th>\n",
       "      <td>30.0</td>\n",
       "      <td>27.0</td>\n",
       "    </tr>\n",
       "    <tr>\n",
       "      <th>3042</th>\n",
       "      <td>30.0</td>\n",
       "      <td>49.0</td>\n",
       "    </tr>\n",
       "    <tr>\n",
       "      <th>3043</th>\n",
       "      <td>50.0</td>\n",
       "      <td>40.0</td>\n",
       "    </tr>\n",
       "    <tr>\n",
       "      <th>3044</th>\n",
       "      <td>100.0</td>\n",
       "      <td>86.0</td>\n",
       "    </tr>\n",
       "    <tr>\n",
       "      <th>3045</th>\n",
       "      <td>50.0</td>\n",
       "      <td>80.0</td>\n",
       "    </tr>\n",
       "    <tr>\n",
       "      <th>3046</th>\n",
       "      <td>35.0</td>\n",
       "      <td>29.0</td>\n",
       "    </tr>\n",
       "    <tr>\n",
       "      <th>3047</th>\n",
       "      <td>30.0</td>\n",
       "      <td>45.0</td>\n",
       "    </tr>\n",
       "    <tr>\n",
       "      <th>3048</th>\n",
       "      <td>40.0</td>\n",
       "      <td>55.0</td>\n",
       "    </tr>\n",
       "    <tr>\n",
       "      <th>3049</th>\n",
       "      <td>30.0</td>\n",
       "      <td>40.0</td>\n",
       "    </tr>\n",
       "    <tr>\n",
       "      <th>3050</th>\n",
       "      <td>30.0</td>\n",
       "      <td>60.0</td>\n",
       "    </tr>\n",
       "    <tr>\n",
       "      <th>3051</th>\n",
       "      <td>50.0</td>\n",
       "      <td>90.0</td>\n",
       "    </tr>\n",
       "    <tr>\n",
       "      <th>3052</th>\n",
       "      <td>30.0</td>\n",
       "      <td>60.0</td>\n",
       "    </tr>\n",
       "    <tr>\n",
       "      <th>3053</th>\n",
       "      <td>30.0</td>\n",
       "      <td>30.0</td>\n",
       "    </tr>\n",
       "  </tbody>\n",
       "</table>\n",
       "<p>3054 rows × 2 columns</p>\n",
       "</div>"
      ],
      "text/plain": [
       "      y_predicted  y_test\n",
       "0            30.0    18.0\n",
       "1            30.0    39.0\n",
       "2            30.0    21.0\n",
       "3            30.0    35.0\n",
       "4            80.0    70.0\n",
       "5            40.0    40.0\n",
       "6            30.0    18.0\n",
       "7           100.0    50.0\n",
       "8            50.0   120.0\n",
       "9           150.0   280.0\n",
       "10           25.0    32.0\n",
       "11          340.0   120.0\n",
       "12           35.0    23.0\n",
       "13           50.0    65.0\n",
       "14           35.0    80.0\n",
       "15           30.0    35.0\n",
       "16           25.0    45.0\n",
       "17           50.0    35.0\n",
       "18           50.0    40.0\n",
       "19           50.0    60.0\n",
       "20           35.0    25.0\n",
       "21           50.0    45.0\n",
       "22           30.0    90.0\n",
       "23           30.0    80.0\n",
       "24           30.0    20.0\n",
       "25           50.0    65.0\n",
       "26          100.0   150.0\n",
       "27          100.0    75.0\n",
       "28           30.0    65.0\n",
       "29           35.0    54.0\n",
       "...           ...     ...\n",
       "3024         30.0    35.0\n",
       "3025         80.0    77.0\n",
       "3026         30.0    40.0\n",
       "3027         30.0    40.0\n",
       "3028         35.0    45.0\n",
       "3029         50.0    60.0\n",
       "3030         30.0    38.0\n",
       "3031         35.0    30.0\n",
       "3032         35.0    19.0\n",
       "3033         55.0   125.0\n",
       "3034         30.0    40.0\n",
       "3035         80.0    50.0\n",
       "3036         35.0    30.0\n",
       "3037         35.0    22.0\n",
       "3038         99.0   125.0\n",
       "3039         30.0    35.0\n",
       "3040         30.0    45.0\n",
       "3041         30.0    27.0\n",
       "3042         30.0    49.0\n",
       "3043         50.0    40.0\n",
       "3044        100.0    86.0\n",
       "3045         50.0    80.0\n",
       "3046         35.0    29.0\n",
       "3047         30.0    45.0\n",
       "3048         40.0    55.0\n",
       "3049         30.0    40.0\n",
       "3050         30.0    60.0\n",
       "3051         50.0    90.0\n",
       "3052         30.0    60.0\n",
       "3053         30.0    30.0\n",
       "\n",
       "[3054 rows x 2 columns]"
      ]
     },
     "execution_count": 236,
     "metadata": {},
     "output_type": "execute_result"
    }
   ],
   "source": [
    "df"
   ]
  },
  {
   "cell_type": "code",
   "execution_count": null,
   "metadata": {},
   "outputs": [],
   "source": [
    "# Below, some tests"
   ]
  },
  {
   "cell_type": "code",
   "execution_count": 123,
   "metadata": {},
   "outputs": [
    {
     "name": "stdout",
     "output_type": "stream",
     "text": [
      "                                          Price\n",
      "Price                                  1.000000\n",
      "Accomodates                            0.503195\n",
      "Room Type_Entire home/apt              0.419790\n",
      "Beds                                   0.418072\n",
      "Bedrooms                               0.414246\n",
      "Room Type_Private room                 0.410835\n",
      "Guests Included                        0.356774\n",
      "Bathrooms                              0.259733\n",
      "Property Type_Loft                     0.161723\n",
      "Property Type_Apartment                0.153003\n",
      "Host Response Time_unknown             0.134629\n",
      "Host Response Time_within an hour      0.103189\n",
      "Property Type_Serviced apartment       0.100933\n",
      "NeukÃ¶lln                              0.094428\n",
      "Is Superhost                           0.073918\n",
      "Reviews                                0.069833\n",
      "Property Type_Hotel                    0.066789\n",
      "Mitte                                  0.066628\n",
      "Location Rating                        0.063794\n",
      "Cleanliness Rating                     0.062158\n",
      "Charlottenburg-Wilm.                   0.055955\n",
      "Property Type_Condominium              0.051878\n",
      "Value Rating                           0.051427\n",
      "Room Type_Shared room                  0.046535\n",
      "Host Response Time_within a few hours  0.045817\n",
      "Overall Rating                         0.042586\n",
      "Longitude                              0.042523\n",
      "Latitude                               0.039405\n",
      "Treptow - KÃ¶penick                    0.037248\n",
      "Reinickendorf                          0.036445\n",
      "Pankow                                 0.033398\n",
      "Instant Bookable                       0.032113\n",
      "Lichtenberg                            0.028799\n",
      "Communication Rating                   0.026596\n",
      "Host Since                             0.025111\n",
      "Property Type_Boutique hotel           0.022122\n",
      "Steglitz - Zehlendorf                  0.021059\n",
      "Host Response Rate                     0.020604\n",
      "Checkin Rating                         0.019533\n",
      "Property Type_Boat                     0.019179\n",
      "Min Nights                             0.019177\n",
      "Boy or Girl?_Boy                       0.018873\n",
      "Boy or Girl?_Girl                      0.018873\n",
      "Accuracy Rating                        0.017943\n",
      "Property Type_Hostel                   0.017579\n",
      "Tempelhof - SchÃ¶neberg                0.016804\n",
      "Host Response Time_a few days or more  0.013763\n",
      "Host Response Time_within a day        0.011433\n",
      "Friedrichshain-Kreuzberg               0.009715\n",
      "Property Type_Guesthouse               0.007439\n",
      "Property Type_Townhouse                0.007063\n",
      "Marzahn - Hellersdorf                  0.006370\n",
      "Property Type_House                    0.005887\n",
      "Property Type_Bungalow                 0.004433\n",
      "Is Exact Location                      0.004168\n",
      "Property Type_Bed and breakfast        0.003736\n",
      "Property Type_Other                    0.003615\n",
      "Spandau                                0.001345\n",
      "Property Type_Guest suite              0.000760\n"
     ]
    },
    {
     "data": {
      "text/plain": [
       "<BarContainer object of 59 artists>"
      ]
     },
     "execution_count": 123,
     "metadata": {},
     "output_type": "execute_result"
    },
    {
     "data": {
      "image/png": "[encoded data removed]",
      "text/plain": [
       "<Figure size 432x288 with 1 Axes>"
      ]
     },
     "metadata": {
      "needs_background": "light"
     },
     "output_type": "display_data"
    }
   ],
   "source": [
    "print(abs(train_set.corr()[['Price']]).sort_values(by='Price', ascending=False))\n",
    "\n",
    "plt.bar(train_set.columns, abs(train_set.corr()['Price']).sort_values(ascending=False))"
   ]
  },
  {
   "cell_type": "code",
   "execution_count": 124,
   "metadata": {},
   "outputs": [
    {
     "data": {
      "text/plain": [
       "<matplotlib.collections.PathCollection at 0x7fab88d07278>"
      ]
     },
     "execution_count": 124,
     "metadata": {},
     "output_type": "execute_result"
    },
    {
     "data": {
      "image/png": "[encoded data removed]",
      "text/plain": [
       "<Figure size 432x288 with 1 Axes>"
      ]
     },
     "metadata": {
      "needs_background": "light"
     },
     "output_type": "display_data"
    }
   ],
   "source": [
    "plt.scatter(train_set['Host Response Time_unknown'], train_set['Price'])"
   ]
  },
  {
   "cell_type": "code",
   "execution_count": 125,
   "metadata": {},
   "outputs": [
    {
     "data": {
      "text/plain": [
       "<matplotlib.collections.PathCollection at 0x7fab88d5ef28>"
      ]
     },
     "execution_count": 125,
     "metadata": {},
     "output_type": "execute_result"
    },
    {
     "data": {
      "image/png": "[encoded data removed]",
      "text/plain": [
       "<Figure size 432x288 with 1 Axes>"
      ]
     },
     "metadata": {
      "needs_background": "light"
     },
     "output_type": "display_data"
    }
   ],
   "source": [
    "plt.scatter(train_set['Longitude'], train_set['Price'])"
   ]
  },
  {
   "cell_type": "code",
   "execution_count": 110,
   "metadata": {},
   "outputs": [
    {
     "name": "stdout",
     "output_type": "stream",
     "text": [
      "Index(['Host Since', 'Host Response Rate', 'Is Superhost', 'Latitude',\n",
      "       'Longitude', 'Is Exact Location', 'Accomodates', 'Bathrooms',\n",
      "       'Bedrooms', 'Beds', 'Guests Included', 'Min Nights', 'Reviews',\n",
      "       'Overall Rating', 'Accuracy Rating', 'Cleanliness Rating',\n",
      "       'Checkin Rating', 'Communication Rating', 'Location Rating',\n",
      "       'Value Rating', 'Instant Bookable',\n",
      "       'Host Response Time_a few days or more', 'Host Response Time_unknown',\n",
      "       'Host Response Time_within a day',\n",
      "       'Host Response Time_within a few hours',\n",
      "       'Host Response Time_within an hour', 'Property Type_Apartment',\n",
      "       'Property Type_Bed and breakfast', 'Property Type_Boat',\n",
      "       'Property Type_Boutique hotel', 'Property Type_Bungalow',\n",
      "       'Property Type_Condominium', 'Property Type_Guest suite',\n",
      "       'Property Type_Guesthouse', 'Property Type_Hostel',\n",
      "       'Property Type_Hotel', 'Property Type_House', 'Property Type_Loft',\n",
      "       'Property Type_Other', 'Property Type_Serviced apartment',\n",
      "       'Property Type_Townhouse', 'Room Type_Entire home/apt',\n",
      "       'Room Type_Private room', 'Room Type_Shared room', 'Boy or Girl?_Boy',\n",
      "       'Boy or Girl?_Girl', 'Charlottenburg-Wilm.', 'Friedrichshain-Kreuzberg',\n",
      "       'Lichtenberg', 'Marzahn - Hellersdorf', 'Mitte', 'NeukÃ¶lln', 'Pankow',\n",
      "       'Reinickendorf', 'Spandau', 'Steglitz - Zehlendorf',\n",
      "       'Tempelhof - SchÃ¶neberg', 'Treptow - KÃ¶penick'],\n",
      "      dtype='object')\n"
     ]
    },
    {
     "data": {
      "image/png": "[encoded data removed]",
      "text/plain": [
       "<Figure size 432x288 with 1 Axes>"
      ]
     },
     "metadata": {
      "needs_background": "light"
     },
     "output_type": "display_data"
    }
   ],
   "source": [
    "clf.feature_importances_\n",
    "plt.bar(X_train.columns, clf.feature_importances_)\n",
    "print(X_train.columns)"
   ]
  }
 ],
 "metadata": {
  "kernelspec": {
   "display_name": "Python 3",
   "language": "python",
   "name": "python3"
  },
  "language_info": {
   "codemirror_mode": {
    "name": "ipython",
    "version": 3
   },
   "file_extension": ".py",
   "mimetype": "text/x-python",
   "name": "python",
   "nbconvert_exporter": "python",
   "pygments_lexer": "ipython3",
   "version": "3.7.3"
  }
 },
 "nbformat": 4,
 "nbformat_minor": 2
}
