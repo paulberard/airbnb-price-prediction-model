{
  "cells": [
    {
      "cell_type": "markdown",
      "metadata": {
        "id": "_KXQRrwnbgxp"
      },
      "source": [
        "Petit code pour faire le biais sur les noms :) C'est celine qui sera contente "
      ]
    },
    {
      "cell_type": "code",
      "execution_count": null,
      "metadata": {
        "id": "tMy3mLijbrSB"
      },
      "outputs": [],
      "source": [
        "## Imports \n",
        "from tensorflow.keras.models import load_model\n",
        "import pandas as pd\n",
        "import numpy as np\n",
        "import re "
      ]
    },
    {
      "cell_type": "markdown",
      "metadata": {
        "id": "vejITnHTb54V"
      },
      "source": [
        "Ajouter aux dossiers le model boyorgirl et les donnees train "
      ]
    },
    {
      "cell_type": "code",
      "execution_count": null,
      "metadata": {
        "id": "Gg3sH2S5brWJ"
      },
      "outputs": [],
      "source": [
        "## Loadings \n",
        "pred_model = load_model('boyorgirl.h5')\n",
        "train_data = pd.read_csv( 'train_airbnb_berlin.csv' , delimiter = ',')"
      ]
    },
    {
      "cell_type": "code",
      "execution_count": null,
      "metadata": {
        "id": "wa-nFPv5brZa"
      },
      "outputs": [],
      "source": [
        "## preprocess \n",
        "\n",
        "def preprocess(names_df):\n",
        "\n",
        "    names_df['Host Name'] = names_df['Host Name'].apply(lambda x: 'nan' if type(x)!=type('hello') else x)\n",
        "    print(names_df['Host Name'] )\n",
        "\n",
        "    names_df['Host Name'] = names_df['Host Name'].apply(lambda x: 'nan' if  bool(re.match(\"^[A-Za-z0-9_-]*$\",x))==False else x)\n",
        "    print(names_df['Host Name'])\n",
        "\n",
        "    names_df['name']= names_df['Host Name']\n",
        "    names_df['name'] = names_df['name'].str.lower()\n",
        "\n",
        "    names_df['name'] = [list(name) for name in names_df['name']]\n",
        "\n",
        "    name_length = 50\n",
        "    names_df['name'] = [\n",
        "        (name + [' ']*name_length)[:name_length] \n",
        "        for name in names_df['name']\n",
        "    ]\n",
        "\n",
        "    names_df['name'] = [\n",
        "        [\n",
        "            max(0.0, ord(char)-96.0) \n",
        "            for char in name\n",
        "        ]\n",
        "        for name in names_df['name']\n",
        "    ]\n",
        "\n",
        "    return names_df\n"
      ]
    },
    {
      "cell_type": "code",
      "execution_count": null,
      "metadata": {
        "id": "_GLggP0pbPal"
      },
      "outputs": [],
      "source": [
        "### prediction \n",
        "\n",
        "pred_df = train_data\n",
        "pred_df = preprocess(pred_df)\n",
        "\n",
        "result = pred_model.predict(np.array(pred_df['name'].tolist()))\n",
        "\n",
        "pred_df['Boy or Girl?'] = [\n",
        "        'Boy' if logit > 0.5 else 'Girl' for logit in result\n",
        "    ]\n",
        "\n",
        "pred_df.drop('name', axis=1, inplace=True)\n",
        "pred_df\n",
        "\n"
      ]
    }
  ],
  "metadata": {
    "colab": {
      "collapsed_sections": [],
      "provenance": []
    },
    "kernelspec": {
      "display_name": "Python 3.8.5 64-bit ('anaconda3')",
      "language": "python",
      "name": "python3"
    },
    "language_info": {
      "name": "python",
      "version": "3.8.5"
    },
    "vscode": {
      "interpreter": {
        "hash": "ee297d9bfd1b391f4ae5278f07df2a8a2ded74b08d2a4f831c38209ce9ada1da"
      }
    }
  },
  "nbformat": 4,
  "nbformat_minor": 0
}
