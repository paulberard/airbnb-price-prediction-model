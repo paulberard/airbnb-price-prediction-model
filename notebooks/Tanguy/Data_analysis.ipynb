{
 "cells": [
  {
   "cell_type": "code",
   "execution_count": 52,
   "metadata": {},
   "outputs": [],
   "source": [
    "import pandas as pd\n",
    "import numpy as np\n",
    "import copy"
   ]
  },
  {
   "cell_type": "markdown",
   "metadata": {},
   "source": [
    "# Import data"
   ]
  },
  {
   "cell_type": "code",
   "execution_count": 53,
   "metadata": {},
   "outputs": [],
   "source": [
    "data = pd.read_csv('../../data/train_airbnb_berlin.csv', delimiter = ',')"
   ]
  },
  {
   "cell_type": "markdown",
   "metadata": {},
   "source": [
    "# Data analysis "
   ]
  },
  {
   "cell_type": "code",
   "execution_count": 54,
   "metadata": {},
   "outputs": [
    {
     "data": {
      "text/plain": [
       "\"\\n'Listing ID' : useless, take out of data\\n'Listing Name' : useless, take out of data\\n'Host ID' : transform feature to number of listings\\n'Host Name' : useless, take out of data (except if we can separate by gender --> new feature gender of host)\\n'Host Since' : transform date into a continuous number\\n'Host Response Time': build 4 discrete values + unknown for NaNs\\n'Host Response Rate': transform percentage to number + treat NaNs\\n'Is Superhost' : transform to binary 0, 1\\n'neighbourhood' : tranform classes to numbers (not sure, think about it)\\n'Neighbourhood Group' : transform classes to numbers, but is this feature usefull ??\\n'City' : useless, take out of data\\n'Postal Code' : leave as is\\n'Country' : useless, take out of data\\n'Country Code' : useless, take out of data\\n'Latitude' : keep as is\\n'Longitude' : keep as is + we could think of a feature combining Latitude and Longitude\\n'Is Exact Location' : transform to binary\\n'Property Type' : transform classes to numbers\\n'Room Type' : transform to 3 discrete variables\\n'Accomodates' : leave as is\\n'Bathrooms' : leave as is\\n'Bedrooms' : leave as is\\n'Beds' : leave as is\\n'Square Feet' : take out of data because 98% of NaNs\\n'Guests Included' : leave as is\\n'Min Nights' : leave as is\\n'Reviews' : leave as is (number of reviews)\\n'First Review' : transform date into a continuous number\\n'Last Review' : transform date into a continuous number\\n'Overall Rating' : leave as is\\n'Accuracy Rating' : leave as is\\n'Cleanliness Rating' : leave as is\\n'Checkin Rating' : leave as is\\n'Communication Rating' : leave as is\\n'Location Rating' : leave as is\\n'Value Rating' : leave as is\\n'Instant Bookable' : transform to binary\\n'Business Travel Ready' : useless all false\\n'Price' : leave as is\\n\""
      ]
     },
     "execution_count": 54,
     "metadata": {},
     "output_type": "execute_result"
    }
   ],
   "source": [
    "data.head()\n",
    "\n",
    "'''\n",
    "'Listing ID' : useless, take out of data\n",
    "'Listing Name' : useless, take out of data\n",
    "'Host ID' : transform feature to number of listings\n",
    "'Host Name' : useless, take out of data (except if we can separate by gender --> new feature gender of host)\n",
    "'Host Since' : transform date into a continuous number\n",
    "'Host Response Time': build 4 discrete values + unknown for NaNs\n",
    "'Host Response Rate': transform percentage to number + treat NaNs\n",
    "'Is Superhost' : transform to binary 0, 1\n",
    "'neighbourhood' : tranform classes to numbers (not sure, think about it)\n",
    "'Neighbourhood Group' : transform classes to numbers, but is this feature usefull ??\n",
    "'City' : useless, take out of data\n",
    "'Postal Code' : leave as is\n",
    "'Country' : useless, take out of data\n",
    "'Country Code' : useless, take out of data\n",
    "'Latitude' : keep as is\n",
    "'Longitude' : keep as is + we could think of a feature combining Latitude and Longitude\n",
    "'Is Exact Location' : transform to binary\n",
    "'Property Type' : transform classes to numbers\n",
    "'Room Type' : transform to 3 discrete variables\n",
    "'Accomodates' : leave as is\n",
    "'Bathrooms' : leave as is\n",
    "'Bedrooms' : leave as is\n",
    "'Beds' : leave as is\n",
    "'Square Feet' : take out of data because 98% of NaNs\n",
    "'Guests Included' : leave as is\n",
    "'Min Nights' : leave as is\n",
    "'Reviews' : leave as is (number of reviews)\n",
    "'First Review' : transform date into a continuous number\n",
    "'Last Review' : transform date into a continuous number\n",
    "'Overall Rating' : leave as is\n",
    "'Accuracy Rating' : leave as is\n",
    "'Cleanliness Rating' : leave as is\n",
    "'Checkin Rating' : leave as is\n",
    "'Communication Rating' : leave as is\n",
    "'Location Rating' : leave as is\n",
    "'Value Rating' : leave as is\n",
    "'Instant Bookable' : transform to binary\n",
    "'Business Travel Ready' : useless all false\n",
    "'Price' : leave as is\n",
    "'''"
   ]
  },
  {
   "cell_type": "code",
   "execution_count": 55,
   "metadata": {},
   "outputs": [
    {
     "data": {
      "text/plain": [
       "(15692, 39)"
      ]
     },
     "execution_count": 55,
     "metadata": {},
     "output_type": "execute_result"
    }
   ],
   "source": [
    "data.shape"
   ]
  },
  {
   "cell_type": "code",
   "execution_count": 56,
   "metadata": {},
   "outputs": [
    {
     "data": {
      "text/plain": [
       "Listing ID               0.000064\n",
       "Listing Name             0.003441\n",
       "Host ID                  0.000000\n",
       "Host Name                0.001402\n",
       "Host Since               0.001338\n",
       "Host Response Time       0.450867\n",
       "Host Response Rate       0.450867\n",
       "Is Superhost             0.001466\n",
       "neighbourhood            0.000000\n",
       "Neighborhood Group       0.000000\n",
       "City                     0.000064\n",
       "Postal Code              0.014593\n",
       "Country Code             0.000000\n",
       "Country                  0.000000\n",
       "Latitude                 0.000000\n",
       "Longitude                0.000000\n",
       "Is Exact Location        0.000000\n",
       "Property Type            0.000000\n",
       "Room Type                0.000000\n",
       "Accomodates              0.000000\n",
       "Bathrooms                0.000892\n",
       "Bedrooms                 0.000319\n",
       "Beds                     0.000510\n",
       "Square Feet              0.980691\n",
       "Guests Included          0.000000\n",
       "Min Nights               0.000000\n",
       "Reviews                  0.000000\n",
       "First Review             0.172381\n",
       "Last Review              0.172445\n",
       "Overall Rating           0.188759\n",
       "Accuracy Rating          0.189332\n",
       "Cleanliness Rating       0.189268\n",
       "Checkin Rating           0.189460\n",
       "Communication Rating     0.189268\n",
       "Location Rating          0.189332\n",
       "Value Rating             0.189396\n",
       "Instant Bookable         0.000000\n",
       "Business Travel Ready    0.000000\n",
       "Price                    0.000574\n",
       "dtype: float64"
      ]
     },
     "execution_count": 56,
     "metadata": {},
     "output_type": "execute_result"
    }
   ],
   "source": [
    "data.isnull().sum()/data.shape[0]"
   ]
  },
  {
   "cell_type": "code",
   "execution_count": 57,
   "metadata": {},
   "outputs": [
    {
     "data": {
      "text/plain": [
       "0                       NaN\n",
       "1                       NaN\n",
       "2                       NaN\n",
       "3                       NaN\n",
       "4        within a few hours\n",
       "                ...        \n",
       "15687    a few days or more\n",
       "15688                   NaN\n",
       "15689                   NaN\n",
       "15690          within a day\n",
       "15691        within an hour\n",
       "Name: Host Response Time, Length: 15692, dtype: object"
      ]
     },
     "execution_count": 57,
     "metadata": {},
     "output_type": "execute_result"
    }
   ],
   "source": [
    "data['Host Response Time']"
   ]
  },
  {
   "cell_type": "code",
   "execution_count": 58,
   "metadata": {},
   "outputs": [
    {
     "data": {
      "text/plain": [
       "0        2017-07-07\n",
       "1        2015-05-26\n",
       "2        2016-04-19\n",
       "3        2018-07-31\n",
       "4               NaN\n",
       "            ...    \n",
       "15687    2016-09-15\n",
       "15688    2016-04-15\n",
       "15689           NaN\n",
       "15690    2016-04-07\n",
       "15691           NaN\n",
       "Name: First Review, Length: 15692, dtype: object"
      ]
     },
     "execution_count": 58,
     "metadata": {},
     "output_type": "execute_result"
    }
   ],
   "source": [
    "data['First Review']"
   ]
  },
  {
   "cell_type": "markdown",
   "metadata": {},
   "source": [
    "# Data preprocessing"
   ]
  },
  {
   "cell_type": "code",
   "execution_count": 59,
   "metadata": {},
   "outputs": [],
   "source": [
    "del data['Square Feet']\n",
    "del data['Listing ID']\n",
    "del data['Listing Name']\n",
    "del data['Host Name']\n",
    "del data['City']\n",
    "del data['Country']\n",
    "del data['First Review']\n",
    "del data['Last Review']\n",
    "del data['Business Travel Ready']"
   ]
  },
  {
   "cell_type": "code",
   "execution_count": 65,
   "metadata": {},
   "outputs": [],
   "source": [
    "data[data=='*'] = np.nan"
   ]
  },
  {
   "cell_type": "markdown",
   "metadata": {},
   "source": [
    "### data_1 : just eliminate all instances with NaNs"
   ]
  },
  {
   "cell_type": "code",
   "execution_count": 60,
   "metadata": {},
   "outputs": [
    {
     "name": "stdout",
     "output_type": "stream",
     "text": [
      "<class 'pandas.core.frame.DataFrame'>\n",
      "Int64Index: 7524 entries, 5 to 15690\n",
      "Data columns (total 30 columns):\n",
      " #   Column                Non-Null Count  Dtype  \n",
      "---  ------                --------------  -----  \n",
      " 0   Host ID               7524 non-null   float64\n",
      " 1   Host Since            7524 non-null   object \n",
      " 2   Host Response Time    7524 non-null   object \n",
      " 3   Host Response Rate    7524 non-null   object \n",
      " 4   Is Superhost          7524 non-null   object \n",
      " 5   neighbourhood         7524 non-null   object \n",
      " 6   Neighborhood Group    7524 non-null   object \n",
      " 7   Postal Code           7524 non-null   object \n",
      " 8   Country Code          7524 non-null   object \n",
      " 9   Latitude              7524 non-null   float64\n",
      " 10  Longitude             7524 non-null   float64\n",
      " 11  Is Exact Location     7524 non-null   object \n",
      " 12  Property Type         7524 non-null   object \n",
      " 13  Room Type             7524 non-null   object \n",
      " 14  Accomodates           7524 non-null   object \n",
      " 15  Bathrooms             7524 non-null   object \n",
      " 16  Bedrooms              7524 non-null   object \n",
      " 17  Beds                  7524 non-null   object \n",
      " 18  Guests Included       7524 non-null   object \n",
      " 19  Min Nights            7524 non-null   object \n",
      " 20  Reviews               7524 non-null   int64  \n",
      " 21  Overall Rating        7524 non-null   float64\n",
      " 22  Accuracy Rating       7524 non-null   float64\n",
      " 23  Cleanliness Rating    7524 non-null   float64\n",
      " 24  Checkin Rating        7524 non-null   float64\n",
      " 25  Communication Rating  7524 non-null   float64\n",
      " 26  Location Rating       7524 non-null   float64\n",
      " 27  Value Rating          7524 non-null   float64\n",
      " 28  Instant Bookable      7524 non-null   object \n",
      " 29  Price                 7524 non-null   float64\n",
      "dtypes: float64(11), int64(1), object(18)\n",
      "memory usage: 1.8+ MB\n"
     ]
    }
   ],
   "source": [
    "# Naively drop all instances with NaNs\n",
    "data_1 = data[~data.isnull().any(axis=1)]\n",
    "data_1.info()"
   ]
  },
  {
   "cell_type": "markdown",
   "metadata": {},
   "source": [
    "### data_2 : treat Host Response Time and Host Response Rate then data_1"
   ]
  },
  {
   "cell_type": "code",
   "execution_count": 61,
   "metadata": {},
   "outputs": [
    {
     "name": "stdout",
     "output_type": "stream",
     "text": [
      "<class 'pandas.core.frame.DataFrame'>\n",
      "Int64Index: 12498 entries, 0 to 15690\n",
      "Data columns (total 30 columns):\n",
      " #   Column                Non-Null Count  Dtype  \n",
      "---  ------                --------------  -----  \n",
      " 0   Host ID               12498 non-null  float64\n",
      " 1   Host Since            12498 non-null  object \n",
      " 2   Host Response Time    12498 non-null  object \n",
      " 3   Host Response Rate    12498 non-null  object \n",
      " 4   Is Superhost          12498 non-null  object \n",
      " 5   neighbourhood         12498 non-null  object \n",
      " 6   Neighborhood Group    12498 non-null  object \n",
      " 7   Postal Code           12498 non-null  object \n",
      " 8   Country Code          12498 non-null  object \n",
      " 9   Latitude              12498 non-null  float64\n",
      " 10  Longitude             12498 non-null  float64\n",
      " 11  Is Exact Location     12498 non-null  object \n",
      " 12  Property Type         12498 non-null  object \n",
      " 13  Room Type             12498 non-null  object \n",
      " 14  Accomodates           12498 non-null  object \n",
      " 15  Bathrooms             12498 non-null  object \n",
      " 16  Bedrooms              12498 non-null  object \n",
      " 17  Beds                  12498 non-null  object \n",
      " 18  Guests Included       12498 non-null  object \n",
      " 19  Min Nights            12498 non-null  object \n",
      " 20  Reviews               12498 non-null  int64  \n",
      " 21  Overall Rating        12498 non-null  float64\n",
      " 22  Accuracy Rating       12498 non-null  float64\n",
      " 23  Cleanliness Rating    12498 non-null  float64\n",
      " 24  Checkin Rating        12498 non-null  float64\n",
      " 25  Communication Rating  12498 non-null  float64\n",
      " 26  Location Rating       12498 non-null  float64\n",
      " 27  Value Rating          12498 non-null  float64\n",
      " 28  Instant Bookable      12498 non-null  object \n",
      " 29  Price                 12498 non-null  float64\n",
      "dtypes: float64(11), int64(1), object(18)\n",
      "memory usage: 3.0+ MB\n"
     ]
    },
    {
     "name": "stderr",
     "output_type": "stream",
     "text": [
      "<ipython-input-61-7dbcd05ae5e2>:3: SettingWithCopyWarning: \n",
      "A value is trying to be set on a copy of a slice from a DataFrame\n",
      "\n",
      "See the caveats in the documentation: https://pandas.pydata.org/pandas-docs/stable/user_guide/indexing.html#returning-a-view-versus-a-copy\n",
      "  data_2['Host Response Time'][data_2['Host Response Time'].isnull()] = 'unknown'\n",
      "<ipython-input-61-7dbcd05ae5e2>:4: SettingWithCopyWarning: \n",
      "A value is trying to be set on a copy of a slice from a DataFrame\n",
      "\n",
      "See the caveats in the documentation: https://pandas.pydata.org/pandas-docs/stable/user_guide/indexing.html#returning-a-view-versus-a-copy\n",
      "  data_2['Host Response Rate'][data_2['Host Response Rate'].isnull()] = 'unknown'\n"
     ]
    }
   ],
   "source": [
    "data_2 = copy.copy(data)\n",
    "\n",
    "data_2['Host Response Time'][data_2['Host Response Time'].isnull()] = 'unknown'\n",
    "data_2['Host Response Rate'][data_2['Host Response Rate'].isnull()] = 'unknown'\n",
    "\n",
    "data_2 = data_2[~data_2.isnull().any(axis=1)]\n",
    "\n",
    "data_2.info()"
   ]
  },
  {
   "cell_type": "markdown",
   "metadata": {},
   "source": [
    "### data_3 : data_2 + set ratings to the mean when not given then data_1"
   ]
  },
  {
   "cell_type": "code",
   "execution_count": 62,
   "metadata": {},
   "outputs": [
    {
     "name": "stdout",
     "output_type": "stream",
     "text": [
      "<class 'pandas.core.frame.DataFrame'>\n",
      "Int64Index: 15405 entries, 0 to 15691\n",
      "Data columns (total 30 columns):\n",
      " #   Column                Non-Null Count  Dtype  \n",
      "---  ------                --------------  -----  \n",
      " 0   Host ID               15405 non-null  float64\n",
      " 1   Host Since            15405 non-null  object \n",
      " 2   Host Response Time    15405 non-null  object \n",
      " 3   Host Response Rate    15405 non-null  object \n",
      " 4   Is Superhost          15405 non-null  object \n",
      " 5   neighbourhood         15405 non-null  object \n",
      " 6   Neighborhood Group    15405 non-null  object \n",
      " 7   Postal Code           15405 non-null  object \n",
      " 8   Country Code          15405 non-null  object \n",
      " 9   Latitude              15405 non-null  float64\n",
      " 10  Longitude             15405 non-null  float64\n",
      " 11  Is Exact Location     15405 non-null  object \n",
      " 12  Property Type         15405 non-null  object \n",
      " 13  Room Type             15405 non-null  object \n",
      " 14  Accomodates           15405 non-null  object \n",
      " 15  Bathrooms             15405 non-null  object \n",
      " 16  Bedrooms              15405 non-null  object \n",
      " 17  Beds                  15405 non-null  object \n",
      " 18  Guests Included       15405 non-null  object \n",
      " 19  Min Nights            15405 non-null  object \n",
      " 20  Reviews               15405 non-null  int64  \n",
      " 21  Overall Rating        15405 non-null  float64\n",
      " 22  Accuracy Rating       15405 non-null  float64\n",
      " 23  Cleanliness Rating    15405 non-null  float64\n",
      " 24  Checkin Rating        15405 non-null  float64\n",
      " 25  Communication Rating  15405 non-null  float64\n",
      " 26  Location Rating       15405 non-null  float64\n",
      " 27  Value Rating          15405 non-null  float64\n",
      " 28  Instant Bookable      15405 non-null  object \n",
      " 29  Price                 15405 non-null  float64\n",
      "dtypes: float64(11), int64(1), object(18)\n",
      "memory usage: 3.6+ MB\n"
     ]
    },
    {
     "name": "stderr",
     "output_type": "stream",
     "text": [
      "<ipython-input-62-b5aaa92fb404>:3: SettingWithCopyWarning: \n",
      "A value is trying to be set on a copy of a slice from a DataFrame\n",
      "\n",
      "See the caveats in the documentation: https://pandas.pydata.org/pandas-docs/stable/user_guide/indexing.html#returning-a-view-versus-a-copy\n",
      "  data_3['Host Response Time'][data_3['Host Response Time'].isnull()] = 'unknown'\n",
      "<ipython-input-62-b5aaa92fb404>:4: SettingWithCopyWarning: \n",
      "A value is trying to be set on a copy of a slice from a DataFrame\n",
      "\n",
      "See the caveats in the documentation: https://pandas.pydata.org/pandas-docs/stable/user_guide/indexing.html#returning-a-view-versus-a-copy\n",
      "  data_3['Host Response Rate'][data_3['Host Response Rate'].isnull()] = 'unknown'\n",
      "<ipython-input-62-b5aaa92fb404>:6: SettingWithCopyWarning: \n",
      "A value is trying to be set on a copy of a slice from a DataFrame\n",
      "\n",
      "See the caveats in the documentation: https://pandas.pydata.org/pandas-docs/stable/user_guide/indexing.html#returning-a-view-versus-a-copy\n",
      "  data_3['Overall Rating'][data_3['Overall Rating'].isnull()] = np.nanmean(data_3['Overall Rating'])\n",
      "<ipython-input-62-b5aaa92fb404>:7: SettingWithCopyWarning: \n",
      "A value is trying to be set on a copy of a slice from a DataFrame\n",
      "\n",
      "See the caveats in the documentation: https://pandas.pydata.org/pandas-docs/stable/user_guide/indexing.html#returning-a-view-versus-a-copy\n",
      "  data_3['Accuracy Rating'][data_3['Accuracy Rating'].isnull()] = np.nanmean(data_3['Accuracy Rating'])\n",
      "<ipython-input-62-b5aaa92fb404>:8: SettingWithCopyWarning: \n",
      "A value is trying to be set on a copy of a slice from a DataFrame\n",
      "\n",
      "See the caveats in the documentation: https://pandas.pydata.org/pandas-docs/stable/user_guide/indexing.html#returning-a-view-versus-a-copy\n",
      "  data_3['Cleanliness Rating'][data_3['Cleanliness Rating'].isnull()] = np.nanmean(data_3['Cleanliness Rating'])\n",
      "<ipython-input-62-b5aaa92fb404>:9: SettingWithCopyWarning: \n",
      "A value is trying to be set on a copy of a slice from a DataFrame\n",
      "\n",
      "See the caveats in the documentation: https://pandas.pydata.org/pandas-docs/stable/user_guide/indexing.html#returning-a-view-versus-a-copy\n",
      "  data_3['Checkin Rating'][data_3['Checkin Rating'].isnull()] = np.nanmean(data_3['Checkin Rating'])\n",
      "<ipython-input-62-b5aaa92fb404>:10: SettingWithCopyWarning: \n",
      "A value is trying to be set on a copy of a slice from a DataFrame\n",
      "\n",
      "See the caveats in the documentation: https://pandas.pydata.org/pandas-docs/stable/user_guide/indexing.html#returning-a-view-versus-a-copy\n",
      "  data_3['Communication Rating'][data_3['Communication Rating'].isnull()] = np.nanmean(data_3['Communication Rating'])\n",
      "<ipython-input-62-b5aaa92fb404>:11: SettingWithCopyWarning: \n",
      "A value is trying to be set on a copy of a slice from a DataFrame\n",
      "\n",
      "See the caveats in the documentation: https://pandas.pydata.org/pandas-docs/stable/user_guide/indexing.html#returning-a-view-versus-a-copy\n",
      "  data_3['Location Rating'][data_3['Location Rating'].isnull()] = np.nanmean(data_3['Location Rating'])\n",
      "<ipython-input-62-b5aaa92fb404>:12: SettingWithCopyWarning: \n",
      "A value is trying to be set on a copy of a slice from a DataFrame\n",
      "\n",
      "See the caveats in the documentation: https://pandas.pydata.org/pandas-docs/stable/user_guide/indexing.html#returning-a-view-versus-a-copy\n",
      "  data_3['Value Rating'][data_3['Value Rating'].isnull()] = np.nanmean(data_3['Value Rating'])\n"
     ]
    }
   ],
   "source": [
    "data_3 = copy.copy(data)\n",
    "\n",
    "data_3['Host Response Time'][data_3['Host Response Time'].isnull()] = 'unknown'\n",
    "data_3['Host Response Rate'][data_3['Host Response Rate'].isnull()] = 'unknown'\n",
    "\n",
    "data_3['Overall Rating'][data_3['Overall Rating'].isnull()] = np.nanmean(data_3['Overall Rating'])\n",
    "data_3['Accuracy Rating'][data_3['Accuracy Rating'].isnull()] = np.nanmean(data_3['Accuracy Rating'])\n",
    "data_3['Cleanliness Rating'][data_3['Cleanliness Rating'].isnull()] = np.nanmean(data_3['Cleanliness Rating'])\n",
    "data_3['Checkin Rating'][data_3['Checkin Rating'].isnull()] = np.nanmean(data_3['Checkin Rating'])\n",
    "data_3['Communication Rating'][data_3['Communication Rating'].isnull()] = np.nanmean(data_3['Communication Rating'])\n",
    "data_3['Location Rating'][data_3['Location Rating'].isnull()] = np.nanmean(data_3['Location Rating'])\n",
    "data_3['Value Rating'][data_3['Value Rating'].isnull()] = np.nanmean(data_3['Value Rating'])\n",
    "\n",
    "data_3 = data_3[~data_3.isnull().any(axis=1)]\n",
    "\n",
    "data_3.info()"
   ]
  }
 ],
 "metadata": {
  "kernelspec": {
   "display_name": "Python 3",
   "language": "python",
   "name": "python3"
  },
  "language_info": {
   "codemirror_mode": {
    "name": "ipython",
    "version": 3
   },
   "file_extension": ".py",
   "mimetype": "text/x-python",
   "name": "python",
   "nbconvert_exporter": "python",
   "pygments_lexer": "ipython3",
   "version": "3.8.5"
  }
 },
 "nbformat": 4,
 "nbformat_minor": 4
}
