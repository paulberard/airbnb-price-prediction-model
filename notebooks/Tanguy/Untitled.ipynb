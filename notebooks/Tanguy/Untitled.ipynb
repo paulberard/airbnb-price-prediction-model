{
 "cells": [
  {
   "cell_type": "code",
   "execution_count": 2,
   "metadata": {},
   "outputs": [],
   "source": [
    "import pandas as pd\n",
    "import numpy as np"
   ]
  },
  {
   "cell_type": "markdown",
   "metadata": {},
   "source": [
    "# Import data"
   ]
  },
  {
   "cell_type": "code",
   "execution_count": 9,
   "metadata": {},
   "outputs": [],
   "source": [
    "data = pd.read_csv('../../data/train_airbnb_berlin.csv', delimiter = ',')"
   ]
  },
  {
   "cell_type": "markdown",
   "metadata": {},
   "source": [
    "# Data preprocessing "
   ]
  },
  {
   "cell_type": "code",
   "execution_count": 11,
   "metadata": {},
   "outputs": [
    {
     "data": {
      "text/html": [
       "<div>\n",
       "<style scoped>\n",
       "    .dataframe tbody tr th:only-of-type {\n",
       "        vertical-align: middle;\n",
       "    }\n",
       "\n",
       "    .dataframe tbody tr th {\n",
       "        vertical-align: top;\n",
       "    }\n",
       "\n",
       "    .dataframe thead th {\n",
       "        text-align: right;\n",
       "    }\n",
       "</style>\n",
       "<table border=\"1\" class=\"dataframe\">\n",
       "  <thead>\n",
       "    <tr style=\"text-align: right;\">\n",
       "      <th></th>\n",
       "      <th>Listing ID</th>\n",
       "      <th>Listing Name</th>\n",
       "      <th>Host ID</th>\n",
       "      <th>Host Name</th>\n",
       "      <th>Host Since</th>\n",
       "      <th>Host Response Time</th>\n",
       "      <th>Host Response Rate</th>\n",
       "      <th>Is Superhost</th>\n",
       "      <th>neighbourhood</th>\n",
       "      <th>Neighborhood Group</th>\n",
       "      <th>...</th>\n",
       "      <th>Overall Rating</th>\n",
       "      <th>Accuracy Rating</th>\n",
       "      <th>Cleanliness Rating</th>\n",
       "      <th>Checkin Rating</th>\n",
       "      <th>Communication Rating</th>\n",
       "      <th>Location Rating</th>\n",
       "      <th>Value Rating</th>\n",
       "      <th>Instant Bookable</th>\n",
       "      <th>Business Travel Ready</th>\n",
       "      <th>Price</th>\n",
       "    </tr>\n",
       "  </thead>\n",
       "  <tbody>\n",
       "    <tr>\n",
       "      <th>0</th>\n",
       "      <td>19665213.0</td>\n",
       "      <td>*</td>\n",
       "      <td>156079597.0</td>\n",
       "      <td>Maximilian</td>\n",
       "      <td>2016-01-20</td>\n",
       "      <td>NaN</td>\n",
       "      <td>NaN</td>\n",
       "      <td>f</td>\n",
       "      <td>Prenzlauer Berg</td>\n",
       "      <td>Pankow</td>\n",
       "      <td>...</td>\n",
       "      <td>100.0</td>\n",
       "      <td>10.0</td>\n",
       "      <td>10.0</td>\n",
       "      <td>10.0</td>\n",
       "      <td>10.0</td>\n",
       "      <td>9.0</td>\n",
       "      <td>10.0</td>\n",
       "      <td>t</td>\n",
       "      <td>f</td>\n",
       "      <td>26.0</td>\n",
       "    </tr>\n",
       "    <tr>\n",
       "      <th>1</th>\n",
       "      <td>6436842.0</td>\n",
       "      <td>*</td>\n",
       "      <td>5302290.0</td>\n",
       "      <td>Dulie</td>\n",
       "      <td>2013-04-07</td>\n",
       "      <td>NaN</td>\n",
       "      <td>NaN</td>\n",
       "      <td>f</td>\n",
       "      <td>Pankow</td>\n",
       "      <td>Pankow</td>\n",
       "      <td>...</td>\n",
       "      <td>90.0</td>\n",
       "      <td>9.0</td>\n",
       "      <td>9.0</td>\n",
       "      <td>10.0</td>\n",
       "      <td>10.0</td>\n",
       "      <td>9.0</td>\n",
       "      <td>10.0</td>\n",
       "      <td>f</td>\n",
       "      <td>f</td>\n",
       "      <td>41.0</td>\n",
       "    </tr>\n",
       "    <tr>\n",
       "      <th>2</th>\n",
       "      <td>10559468.0</td>\n",
       "      <td>*</td>\n",
       "      <td>59151456.0</td>\n",
       "      <td>Geank</td>\n",
       "      <td>2016-02-07</td>\n",
       "      <td>NaN</td>\n",
       "      <td>NaN</td>\n",
       "      <td>f</td>\n",
       "      <td>Prenzlauer Berg</td>\n",
       "      <td>Pankow</td>\n",
       "      <td>...</td>\n",
       "      <td>100.0</td>\n",
       "      <td>10.0</td>\n",
       "      <td>10.0</td>\n",
       "      <td>10.0</td>\n",
       "      <td>10.0</td>\n",
       "      <td>10.0</td>\n",
       "      <td>10.0</td>\n",
       "      <td>f</td>\n",
       "      <td>f</td>\n",
       "      <td>50.0</td>\n",
       "    </tr>\n",
       "    <tr>\n",
       "      <th>3</th>\n",
       "      <td>27215482.0</td>\n",
       "      <td>*</td>\n",
       "      <td>193452785.0</td>\n",
       "      <td>Alix</td>\n",
       "      <td>2018-06-26</td>\n",
       "      <td>NaN</td>\n",
       "      <td>NaN</td>\n",
       "      <td>f</td>\n",
       "      <td>Friedrichshain</td>\n",
       "      <td>Friedrichshain-Kreuzberg</td>\n",
       "      <td>...</td>\n",
       "      <td>100.0</td>\n",
       "      <td>10.0</td>\n",
       "      <td>10.0</td>\n",
       "      <td>10.0</td>\n",
       "      <td>10.0</td>\n",
       "      <td>10.0</td>\n",
       "      <td>9.0</td>\n",
       "      <td>f</td>\n",
       "      <td>f</td>\n",
       "      <td>50.0</td>\n",
       "    </tr>\n",
       "    <tr>\n",
       "      <th>4</th>\n",
       "      <td>27287546.0</td>\n",
       "      <td>*</td>\n",
       "      <td>205870244.0</td>\n",
       "      <td>Lurina</td>\n",
       "      <td>2013-05-16</td>\n",
       "      <td>within a few hours</td>\n",
       "      <td>92%</td>\n",
       "      <td>t</td>\n",
       "      <td>Prenzlauer Berg</td>\n",
       "      <td>Pankow</td>\n",
       "      <td>...</td>\n",
       "      <td>NaN</td>\n",
       "      <td>NaN</td>\n",
       "      <td>NaN</td>\n",
       "      <td>NaN</td>\n",
       "      <td>NaN</td>\n",
       "      <td>NaN</td>\n",
       "      <td>NaN</td>\n",
       "      <td>t</td>\n",
       "      <td>f</td>\n",
       "      <td>55.0</td>\n",
       "    </tr>\n",
       "  </tbody>\n",
       "</table>\n",
       "<p>5 rows × 39 columns</p>\n",
       "</div>"
      ],
      "text/plain": [
       "   Listing ID Listing Name      Host ID   Host Name  Host Since  \\\n",
       "0  19665213.0            *  156079597.0  Maximilian  2016-01-20   \n",
       "1   6436842.0            *    5302290.0       Dulie  2013-04-07   \n",
       "2  10559468.0            *   59151456.0       Geank  2016-02-07   \n",
       "3  27215482.0            *  193452785.0        Alix  2018-06-26   \n",
       "4  27287546.0            *  205870244.0      Lurina  2013-05-16   \n",
       "\n",
       "   Host Response Time Host Response Rate Is Superhost    neighbourhood  \\\n",
       "0                 NaN                NaN            f  Prenzlauer Berg   \n",
       "1                 NaN                NaN            f           Pankow   \n",
       "2                 NaN                NaN            f  Prenzlauer Berg   \n",
       "3                 NaN                NaN            f   Friedrichshain   \n",
       "4  within a few hours                92%            t  Prenzlauer Berg   \n",
       "\n",
       "         Neighborhood Group  ... Overall Rating Accuracy Rating  \\\n",
       "0                    Pankow  ...          100.0            10.0   \n",
       "1                    Pankow  ...           90.0             9.0   \n",
       "2                    Pankow  ...          100.0            10.0   \n",
       "3  Friedrichshain-Kreuzberg  ...          100.0            10.0   \n",
       "4                    Pankow  ...            NaN             NaN   \n",
       "\n",
       "  Cleanliness Rating Checkin Rating  Communication Rating  Location Rating  \\\n",
       "0               10.0           10.0                  10.0              9.0   \n",
       "1                9.0           10.0                  10.0              9.0   \n",
       "2               10.0           10.0                  10.0             10.0   \n",
       "3               10.0           10.0                  10.0             10.0   \n",
       "4                NaN            NaN                   NaN              NaN   \n",
       "\n",
       "  Value Rating Instant Bookable Business Travel Ready Price  \n",
       "0         10.0                t                     f  26.0  \n",
       "1         10.0                f                     f  41.0  \n",
       "2         10.0                f                     f  50.0  \n",
       "3          9.0                f                     f  50.0  \n",
       "4          NaN                t                     f  55.0  \n",
       "\n",
       "[5 rows x 39 columns]"
      ]
     },
     "execution_count": 11,
     "metadata": {},
     "output_type": "execute_result"
    }
   ],
   "source": [
    "data.head()\n",
    "\n",
    "'''\n",
    "'Listing ID' : useless, take out of data\n",
    "'Listing Name' : useless, take out of data\n",
    "'Host ID' : transform feature to number of listings\n",
    "'Host Name' : useless, take out of data (except if we can separate by gender --> new feature gender of host)\n",
    "'Host Since' : transform date into a continuous number\n",
    "'Host Response Time': build 4 discrete values + unknown for NaNs\n",
    "'Host Response Rate': transform percentage to number + treat NaNs\n",
    "'Is Superhost' : transform to binary 0, 1\n",
    "'neighbourhood' : tranform classes to numbers (not sure, think about it)\n",
    "'Neighbourhood Group' : transform classes to numbers, but is this feature usefull ??\n",
    "'City' : useless, take out of data\n",
    "'Postal Code' : leave as is\n",
    "'Country' : useless, take out of data\n",
    "'Country Code' : useless, take out of data\n",
    "'Latitude' : keep as is\n",
    "'Longitude' : keep as is + we could think of a feature combining Latitude and Longitude\n",
    "'Is Exact Location' : transform to binary\n",
    "'Property Type' : transform classes to numbers\n",
    "'Room Type' : transform to 3 discrete variables\n",
    "'Accomodates' : leave as is\n",
    "'Bathrooms' : leave as is\n",
    "'Bedrooms' : leave as is\n",
    "'Beds' : leave as is\n",
    "'Square Feet' : take out of data because 98% of NaNs\n",
    "'Guests Included' : leave as is\n",
    "'Min Nights' : leave as is\n",
    "'Reviews' : leave as is (number of reviews)\n",
    "'First Review' : transform date into a continuous number\n",
    "'Last Review' : transform date into a continuous number\n",
    "'Overall Rating' : leave as is\n",
    "'Accuracy Rating' : leave as is\n",
    "'Cleanliness Rating' : leave as is\n",
    "'Checkin Rating' : leave as is\n",
    "'Communication Rating' : leave as is\n",
    "'Location Rating' : leave as is\n",
    "'Value Rating' : leave as is\n",
    "'Instant Bookable' : transform to binary\n",
    "'Business Travel Ready' : transform to binary\n",
    "'Price' : leave as is\n",
    "'''"
   ]
  },
  {
   "cell_type": "code",
   "execution_count": 12,
   "metadata": {},
   "outputs": [
    {
     "data": {
      "text/plain": [
       "(15692, 39)"
      ]
     },
     "execution_count": 12,
     "metadata": {},
     "output_type": "execute_result"
    }
   ],
   "source": [
    "data.shape"
   ]
  },
  {
   "cell_type": "code",
   "execution_count": 34,
   "metadata": {},
   "outputs": [
    {
     "data": {
      "text/plain": [
       "Listing ID               0.000064\n",
       "Listing Name             0.003441\n",
       "Host ID                  0.000000\n",
       "Host Name                0.001402\n",
       "Host Since               0.001338\n",
       "Host Response Time       0.450867\n",
       "Host Response Rate       0.450867\n",
       "Is Superhost             0.001466\n",
       "neighbourhood            0.000000\n",
       "Neighborhood Group       0.000000\n",
       "City                     0.000064\n",
       "Postal Code              0.014593\n",
       "Country Code             0.000000\n",
       "Country                  0.000000\n",
       "Latitude                 0.000000\n",
       "Longitude                0.000000\n",
       "Is Exact Location        0.000000\n",
       "Property Type            0.000000\n",
       "Room Type                0.000000\n",
       "Accomodates              0.000000\n",
       "Bathrooms                0.000892\n",
       "Bedrooms                 0.000319\n",
       "Beds                     0.000510\n",
       "Square Feet              0.980691\n",
       "Guests Included          0.000000\n",
       "Min Nights               0.000000\n",
       "Reviews                  0.000000\n",
       "First Review             0.172381\n",
       "Last Review              0.172445\n",
       "Overall Rating           0.188759\n",
       "Accuracy Rating          0.189332\n",
       "Cleanliness Rating       0.189268\n",
       "Checkin Rating           0.189460\n",
       "Communication Rating     0.189268\n",
       "Location Rating          0.189332\n",
       "Value Rating             0.189396\n",
       "Instant Bookable         0.000000\n",
       "Business Travel Ready    0.000000\n",
       "Price                    0.000574\n",
       "dtype: float64"
      ]
     },
     "execution_count": 34,
     "metadata": {},
     "output_type": "execute_result"
    }
   ],
   "source": [
    "data.isnull().sum()/data.shape[0]"
   ]
  },
  {
   "cell_type": "code",
   "execution_count": 41,
   "metadata": {},
   "outputs": [
    {
     "data": {
      "text/plain": [
       "(63,)"
      ]
     },
     "execution_count": 41,
     "metadata": {},
     "output_type": "execute_result"
    }
   ],
   "source": [
    "np.unique(data['neighbourhood']).shape"
   ]
  },
  {
   "cell_type": "code",
   "execution_count": 38,
   "metadata": {},
   "outputs": [
    {
     "data": {
      "text/plain": [
       "0        2017-07-07\n",
       "1        2015-05-26\n",
       "2        2016-04-19\n",
       "3        2018-07-31\n",
       "4               NaN\n",
       "            ...    \n",
       "15687    2016-09-15\n",
       "15688    2016-04-15\n",
       "15689           NaN\n",
       "15690    2016-04-07\n",
       "15691           NaN\n",
       "Name: First Review, Length: 15692, dtype: object"
      ]
     },
     "execution_count": 38,
     "metadata": {},
     "output_type": "execute_result"
    }
   ],
   "source": [
    "data['First Review']"
   ]
  }
 ],
 "metadata": {
  "kernelspec": {
   "display_name": "Python 3",
   "language": "python",
   "name": "python3"
  },
  "language_info": {
   "codemirror_mode": {
    "name": "ipython",
    "version": 3
   },
   "file_extension": ".py",
   "mimetype": "text/x-python",
   "name": "python",
   "nbconvert_exporter": "python",
   "pygments_lexer": "ipython3",
   "version": "3.8.5"
  }
 },
 "nbformat": 4,
 "nbformat_minor": 4
}
